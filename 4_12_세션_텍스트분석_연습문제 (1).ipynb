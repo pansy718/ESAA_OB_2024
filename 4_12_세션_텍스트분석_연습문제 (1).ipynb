{
  "nbformat": 4,
  "nbformat_minor": 0,
  "metadata": {
    "colab": {
      "provenance": []
    },
    "kernelspec": {
      "name": "python3",
      "display_name": "Python 3"
    },
    "language_info": {
      "name": "python"
    }
  },
  "cells": [
    {
      "cell_type": "markdown",
      "source": [
        "# 1. 아래의 데이터를 이용하여 공부한 내용을 바탕으로 문제 2개를 만들고 답하세요."
      ],
      "metadata": {
        "id": "MbDTRcUQrUS3"
      }
    },
    {
      "cell_type": "code",
      "source": [
        "import nltk\n",
        "nltk.download(\"book\", quiet=True)\n",
        "from nltk.book import *"
      ],
      "metadata": {
        "id": "PNjdc83Bqdpd",
        "colab": {
          "base_uri": "https://localhost:8080/"
        },
        "outputId": "ab0594d2-87e8-4461-9d28-35beb3808cf5"
      },
      "execution_count": 1,
      "outputs": [
        {
          "output_type": "stream",
          "name": "stdout",
          "text": [
            "*** Introductory Examples for the NLTK Book ***\n",
            "Loading text1, ..., text9 and sent1, ..., sent9\n",
            "Type the name of the text or sentence to view it.\n",
            "Type: 'texts()' or 'sents()' to list the materials.\n",
            "text1: Moby Dick by Herman Melville 1851\n",
            "text2: Sense and Sensibility by Jane Austen 1811\n",
            "text3: The Book of Genesis\n",
            "text4: Inaugural Address Corpus\n",
            "text5: Chat Corpus\n",
            "text6: Monty Python and the Holy Grail\n",
            "text7: Wall Street Journal\n",
            "text8: Personals Corpus\n",
            "text9: The Man Who Was Thursday by G . K . Chesterton 1908\n"
          ]
        }
      ]
    },
    {
      "cell_type": "code",
      "source": [
        "# 파일 목록 확인\n",
        "nltk.corpus.gutenberg.fileids()"
      ],
      "metadata": {
        "colab": {
          "base_uri": "https://localhost:8080/"
        },
        "id": "K9xoXfKzrbKv",
        "outputId": "87aa99b9-11f8-4fae-f0fa-c3bc5133fd79"
      },
      "execution_count": 2,
      "outputs": [
        {
          "output_type": "execute_result",
          "data": {
            "text/plain": [
              "['austen-emma.txt',\n",
              " 'austen-persuasion.txt',\n",
              " 'austen-sense.txt',\n",
              " 'bible-kjv.txt',\n",
              " 'blake-poems.txt',\n",
              " 'bryant-stories.txt',\n",
              " 'burgess-busterbrown.txt',\n",
              " 'carroll-alice.txt',\n",
              " 'chesterton-ball.txt',\n",
              " 'chesterton-brown.txt',\n",
              " 'chesterton-thursday.txt',\n",
              " 'edgeworth-parents.txt',\n",
              " 'melville-moby_dick.txt',\n",
              " 'milton-paradise.txt',\n",
              " 'shakespeare-caesar.txt',\n",
              " 'shakespeare-hamlet.txt',\n",
              " 'shakespeare-macbeth.txt',\n",
              " 'whitman-leaves.txt']"
            ]
          },
          "metadata": {},
          "execution_count": 2
        }
      ]
    },
    {
      "cell_type": "code",
      "source": [
        "hamlet = nltk.corpus.gutenberg.raw('shakespeare-hamlet.txt')\n",
        "print(hamlet[:10000])"
      ],
      "metadata": {
        "colab": {
          "base_uri": "https://localhost:8080/"
        },
        "id": "jo9kzrrqqaNc",
        "outputId": "c1feb00d-4003-4866-9650-82237bf55add"
      },
      "execution_count": 3,
      "outputs": [
        {
          "output_type": "stream",
          "name": "stdout",
          "text": [
            "[The Tragedie of Hamlet by William Shakespeare 1599]\n",
            "\n",
            "\n",
            "Actus Primus. Scoena Prima.\n",
            "\n",
            "Enter Barnardo and Francisco two Centinels.\n",
            "\n",
            "  Barnardo. Who's there?\n",
            "  Fran. Nay answer me: Stand & vnfold\n",
            "your selfe\n",
            "\n",
            "   Bar. Long liue the King\n",
            "\n",
            "   Fran. Barnardo?\n",
            "  Bar. He\n",
            "\n",
            "   Fran. You come most carefully vpon your houre\n",
            "\n",
            "   Bar. 'Tis now strook twelue, get thee to bed Francisco\n",
            "\n",
            "   Fran. For this releefe much thankes: 'Tis bitter cold,\n",
            "And I am sicke at heart\n",
            "\n",
            "   Barn. Haue you had quiet Guard?\n",
            "  Fran. Not a Mouse stirring\n",
            "\n",
            "   Barn. Well, goodnight. If you do meet Horatio and\n",
            "Marcellus, the Riuals of my Watch, bid them make hast.\n",
            "Enter Horatio and Marcellus.\n",
            "\n",
            "  Fran. I thinke I heare them. Stand: who's there?\n",
            "  Hor. Friends to this ground\n",
            "\n",
            "   Mar. And Leige-men to the Dane\n",
            "\n",
            "   Fran. Giue you good night\n",
            "\n",
            "   Mar. O farwel honest Soldier, who hath relieu'd you?\n",
            "  Fra. Barnardo ha's my place: giue you goodnight.\n",
            "\n",
            "Exit Fran.\n",
            "\n",
            "  Mar. Holla Barnardo\n",
            "\n",
            "   Bar. Say, what is Horatio there?\n",
            "  Hor. A peece of him\n",
            "\n",
            "   Bar. Welcome Horatio, welcome good Marcellus\n",
            "\n",
            "   Mar. What, ha's this thing appear'd againe to night\n",
            "\n",
            "   Bar. I haue seene nothing\n",
            "\n",
            "   Mar. Horatio saies, 'tis but our Fantasie,\n",
            "And will not let beleefe take hold of him\n",
            "Touching this dreaded sight, twice seene of vs,\n",
            "Therefore I haue intreated him along\n",
            "With vs, to watch the minutes of this Night,\n",
            "That if againe this Apparition come,\n",
            "He may approue our eyes, and speake to it\n",
            "\n",
            "   Hor. Tush, tush, 'twill not appeare\n",
            "\n",
            "   Bar. Sit downe a-while,\n",
            "And let vs once againe assaile your eares,\n",
            "That are so fortified against our Story,\n",
            "What we two Nights haue seene\n",
            "\n",
            "   Hor. Well, sit we downe,\n",
            "And let vs heare Barnardo speake of this\n",
            "\n",
            "   Barn. Last night of all,\n",
            "When yond same Starre that's Westward from the Pole\n",
            "Had made his course t' illume that part of Heauen\n",
            "Where now it burnes, Marcellus and my selfe,\n",
            "The Bell then beating one\n",
            "\n",
            "   Mar. Peace, breake thee of:\n",
            "Enter the Ghost.\n",
            "\n",
            "Looke where it comes againe\n",
            "\n",
            "   Barn. In the same figure, like the King that's dead\n",
            "\n",
            "   Mar. Thou art a Scholler; speake to it Horatio\n",
            "\n",
            "   Barn. Lookes it not like the King? Marke it Horatio\n",
            "\n",
            "   Hora. Most like: It harrowes me with fear & wonder\n",
            "  Barn. It would be spoke too\n",
            "\n",
            "   Mar. Question it Horatio\n",
            "\n",
            "   Hor. What art thou that vsurp'st this time of night,\n",
            "Together with that Faire and Warlike forme\n",
            "In which the Maiesty of buried Denmarke\n",
            "Did sometimes march: By Heauen I charge thee speake\n",
            "\n",
            "   Mar. It is offended\n",
            "\n",
            "   Barn. See, it stalkes away\n",
            "\n",
            "   Hor. Stay: speake; speake: I Charge thee, speake.\n",
            "\n",
            "Exit the Ghost.\n",
            "\n",
            "  Mar. 'Tis gone, and will not answer\n",
            "\n",
            "   Barn. How now Horatio? You tremble & look pale:\n",
            "Is not this something more then Fantasie?\n",
            "What thinke you on't?\n",
            "  Hor. Before my God, I might not this beleeue\n",
            "Without the sensible and true auouch\n",
            "Of mine owne eyes\n",
            "\n",
            "   Mar. Is it not like the King?\n",
            "  Hor. As thou art to thy selfe,\n",
            "Such was the very Armour he had on,\n",
            "When th' Ambitious Norwey combatted:\n",
            "So frown'd he once, when in an angry parle\n",
            "He smot the sledded Pollax on the Ice.\n",
            "'Tis strange\n",
            "\n",
            "   Mar. Thus twice before, and iust at this dead houre,\n",
            "With Martiall stalke, hath he gone by our Watch\n",
            "\n",
            "   Hor. In what particular thought to work, I know not:\n",
            "But in the grosse and scope of my Opinion,\n",
            "This boades some strange erruption to our State\n",
            "\n",
            "   Mar. Good now sit downe, & tell me he that knowes\n",
            "Why this same strict and most obseruant Watch,\n",
            "So nightly toyles the subiect of the Land,\n",
            "And why such dayly Cast of Brazon Cannon\n",
            "And Forraigne Mart for Implements of warre:\n",
            "Why such impresse of Ship-wrights, whose sore Taske\n",
            "Do's not diuide the Sunday from the weeke,\n",
            "What might be toward, that this sweaty hast\n",
            "Doth make the Night ioynt-Labourer with the day:\n",
            "Who is't that can informe me?\n",
            "  Hor. That can I,\n",
            "At least the whisper goes so: Our last King,\n",
            "Whose Image euen but now appear'd to vs,\n",
            "Was (as you know) by Fortinbras of Norway,\n",
            "(Thereto prick'd on by a most emulate Pride)\n",
            "Dar'd to the Combate. In which, our Valiant Hamlet,\n",
            "(For so this side of our knowne world esteem'd him)\n",
            "Did slay this Fortinbras: who by a Seal'd Compact,\n",
            "Well ratified by Law, and Heraldrie,\n",
            "Did forfeite (with his life) all those his Lands\n",
            "Which he stood seiz'd on, to the Conqueror:\n",
            "Against the which, a Moity competent\n",
            "Was gaged by our King: which had return'd\n",
            "To the Inheritance of Fortinbras,\n",
            "Had he bin Vanquisher, as by the same Cou'nant\n",
            "And carriage of the Article designe,\n",
            "His fell to Hamlet. Now sir, young Fortinbras,\n",
            "Of vnimproued Mettle, hot and full,\n",
            "Hath in the skirts of Norway, heere and there,\n",
            "Shark'd vp a List of Landlesse Resolutes,\n",
            "For Foode and Diet, to some Enterprize\n",
            "That hath a stomacke in't: which is no other\n",
            "(And it doth well appeare vnto our State)\n",
            "But to recouer of vs by strong hand\n",
            "And termes Compulsatiue, those foresaid Lands\n",
            "So by his Father lost: and this (I take it)\n",
            "Is the maine Motiue of our Preparations,\n",
            "The Sourse of this our Watch, and the cheefe head\n",
            "Of this post-hast, and Romage in the Land.\n",
            "Enter Ghost againe.\n",
            "\n",
            "But soft, behold: Loe, where it comes againe:\n",
            "Ile crosse it, though it blast me. Stay Illusion:\n",
            "If thou hast any sound, or vse of Voyce,\n",
            "Speake to me. If there be any good thing to be done,\n",
            "That may to thee do ease, and grace to me; speak to me.\n",
            "If thou art priuy to thy Countries Fate\n",
            "(Which happily foreknowing may auoyd) Oh speake.\n",
            "Or, if thou hast vp-hoorded in thy life\n",
            "Extorted Treasure in the wombe of Earth,\n",
            "(For which, they say, you Spirits oft walke in death)\n",
            "Speake of it. Stay, and speake. Stop it Marcellus\n",
            "\n",
            "   Mar. Shall I strike at it with my Partizan?\n",
            "  Hor. Do, if it will not stand\n",
            "\n",
            "   Barn. 'Tis heere\n",
            "\n",
            "   Hor. 'Tis heere\n",
            "\n",
            "   Mar. 'Tis gone.\n",
            "\n",
            "Exit Ghost.\n",
            "\n",
            "We do it wrong, being so Maiesticall\n",
            "To offer it the shew of Violence,\n",
            "For it is as the Ayre, invulnerable,\n",
            "And our vaine blowes, malicious Mockery\n",
            "\n",
            "   Barn. It was about to speake, when the Cocke crew\n",
            "\n",
            "   Hor. And then it started, like a guilty thing\n",
            "Vpon a fearfull Summons. I haue heard,\n",
            "The Cocke that is the Trumpet to the day,\n",
            "Doth with his lofty and shrill-sounding Throate\n",
            "Awake the God of Day: and at his warning,\n",
            "Whether in Sea, or Fire, in Earth, or Ayre,\n",
            "Th' extrauagant, and erring Spirit, hyes\n",
            "To his Confine. And of the truth heerein,\n",
            "This present Obiect made probation\n",
            "\n",
            "   Mar. It faded on the crowing of the Cocke.\n",
            "Some sayes, that euer 'gainst that Season comes\n",
            "Wherein our Sauiours Birch is celebrated,\n",
            "The Bird of Dawning singeth all night long:\n",
            "And then (they say) no Spirit can walke abroad,\n",
            "The nights are wholsome, then no Planets strike,\n",
            "No Faiery talkes, nor Witch hath power to Charme:\n",
            "So hallow'd, and so gracious is the time\n",
            "\n",
            "   Hor. So haue I heard, and do in part beleeue it.\n",
            "But looke, the Morne in Russet mantle clad,\n",
            "Walkes o're the dew of yon high Easterne Hill,\n",
            "Breake we our Watch vp, and by my aduice\n",
            "Let vs impart what we haue seene to night\n",
            "Vnto yong Hamlet. For vpon my life,\n",
            "This Spirit dumbe to vs, will speake to him:\n",
            "Do you consent we shall acquaint him with it,\n",
            "As needfull in our Loues, fitting our Duty?\n",
            "  Mar. Let do't I pray, and I this morning know\n",
            "Where we shall finde him most conueniently.\n",
            "\n",
            "Exeunt.\n",
            "\n",
            "Scena Secunda.\n",
            "\n",
            "Enter Claudius King of Denmarke, Gertrude the Queene, Hamlet,\n",
            "Polonius,\n",
            "Laertes, and his Sister Ophelia, Lords Attendant.\n",
            "\n",
            "  King. Though yet of Hamlet our deere Brothers death\n",
            "The memory be greene: and that it vs befitted\n",
            "To beare our hearts in greefe, and our whole Kingdome\n",
            "To be contracted in one brow of woe:\n",
            "Yet so farre hath Discretion fought with Nature,\n",
            "That we with wisest sorrow thinke on him,\n",
            "Together with remembrance of our selues.\n",
            "Therefore our sometimes Sister, now our Queene,\n",
            "Th' imperiall Ioyntresse of this warlike State,\n",
            "Haue we, as 'twere, with a defeated ioy,\n",
            "With one Auspicious, and one Dropping eye,\n",
            "With mirth in Funerall, and with Dirge in Marriage,\n",
            "In equall Scale weighing Delight and Dole\n",
            "Taken to Wife; nor haue we heerein barr'd\n",
            "Your better Wisedomes, which haue freely gone\n",
            "With this affaire along, for all our Thankes.\n",
            "Now followes, that you know young Fortinbras,\n",
            "Holding a weake supposall of our worth;\n",
            "Or thinking by our late deere Brothers death,\n",
            "Our State to be disioynt, and out of Frame,\n",
            "Colleagued with the dreame of his Aduantage;\n",
            "He hath not fayl'd to pester vs with Message,\n",
            "Importing the surrender of those Lands\n",
            "Lost by his Father: with all Bonds of Law\n",
            "To our most valiant Brother. So much for him.\n",
            "Enter Voltemand and Cornelius.\n",
            "\n",
            "Now for our selfe, and for this time of meeting\n",
            "Thus much the businesse is. We haue heere writ\n",
            "To Norway, Vncle of young Fortinbras,\n",
            "Who Impotent and Bedrid, scarsely heares\n",
            "Of this his Nephewes purpose, to suppresse\n",
            "His further gate heerein. In that the Leuies,\n",
            "The Lists, and full proportions are all made\n",
            "Out of his subiect: and we heere dispatch\n",
            "You good Cornelius, and you Voltemand,\n",
            "For bearing of this greeting to old Norway,\n",
            "Giuing to you no further personall power\n",
            "To businesse with the King, more then the scope\n",
            "Of these dilated Articles allow:\n",
            "Farewell, and let your hast commend your duty\n",
            "\n",
            "   Volt. In that, and all things, will we shew our duty\n",
            "\n",
            "   King. We doubt it nothing, heartily farewell.\n",
            "\n",
            "Exit Voltemand and Cornelius.\n",
            "\n",
            "And now Laertes, what's the newes with you?\n",
            "You told vs of some suite. What is't Laertes?\n",
            "You cannot speake of Reason to the Dane,\n",
            "And loose your voyce. What would'st thou beg Laertes,\n",
            "That shall not be my Offer, not thy Asking?\n",
            "The Head is not more Natiue to the Heart,\n",
            "The Hand more instrumentall to the Mouth,\n",
            "Then is the Throne of Denmarke to thy Father.\n",
            "What would'st thou haue Laertes?\n",
            "  Laer. Dread my Lord,\n",
            "Your leaue and fauour to returne to France,\n",
            "From whence, though willingly I came to Denmarke\n",
            "To shew my duty in your Coronation,\n",
            "Yet now I must confesse, that duty done,\n",
            "My thoughts and wishes bend againe towards France,\n",
            "And bow them to your gracious leaue and pardon\n",
            "\n",
            "   King. Haue you your Fathers leaue?\n",
            "What sayes Pollonius?\n",
            "  Pol. He hath my Lord:\n",
            "I do beseech you giue him leaue to go\n",
            "\n",
            "   King. Take thy\n"
          ]
        }
      ]
    },
    {
      "cell_type": "code",
      "source": [
        "hamlet1 = nltk.corpus.gutenberg.words('shakespeare-hamlet.txt')\n",
        "print(hamlet1[:100])"
      ],
      "metadata": {
        "colab": {
          "base_uri": "https://localhost:8080/"
        },
        "id": "ZJqDsmOKrY1U",
        "outputId": "e4c68745-901a-49dd-8583-f564cc12e9b7"
      },
      "execution_count": 6,
      "outputs": [
        {
          "output_type": "stream",
          "name": "stdout",
          "text": [
            "['[', 'The', 'Tragedie', 'of', 'Hamlet', 'by', ...]\n"
          ]
        }
      ]
    },
    {
      "cell_type": "markdown",
      "source": [
        "### (1) 문제 1 : sentiwordNet 이용한 감성 분석"
      ],
      "metadata": {
        "id": "iNftR22-riz3"
      }
    },
    {
      "cell_type": "code",
      "source": [
        "from nltk.corpus import wordnet as wn\n",
        "\n",
        "# 간단한 NTLK PennTreebank Tag를 기반으로 WordNet기반의 품사 Tag로 변환\n",
        "def penn_to_wn(tag):\n",
        "    if tag.startswith(\"J\"):\n",
        "        return wn.ADJ\n",
        "    elif tag.startswith(\"N\"):\n",
        "        return wn.NOUN\n",
        "    elif tag.startswith(\"R\"):\n",
        "        return wn.ADV\n",
        "    elif tag.startswith(\"V\"):\n",
        "        return"
      ],
      "metadata": {
        "id": "Bc6RfhVeuMHb"
      },
      "execution_count": 8,
      "outputs": []
    },
    {
      "cell_type": "code",
      "source": [
        "from nltk.stem import WordNetLemmatizer\n",
        "from nltk.corpus import sentiwordnet as swn\n",
        "from nltk import sent_tokenize, word_tokenize, pos_tag\n",
        "\n",
        "def swn_polarity(text):\n",
        "    # 감성 지수 초기화\n",
        "    sentiment = 0.0\n",
        "    tokens_count = 0\n",
        "\n",
        "    lemmatizer = WordNetLemmatizer()\n",
        "    raw_sentences = sent_tokenize(text)\n",
        "\n",
        "    #분해된 문장별로 단어 토큰 -> 품사 태깅 후에 SentiSynset 생성 -> 감성 지수 합산\n",
        "    for raw_sentence in raw_sentences:\n",
        "        #NLTK 기반의 품사 태깅 문장 추출\n",
        "        tagged_sentence = pos_tag(word_tokenize(raw_sentence))\n",
        "        for word, tag in tagged_sentence:\n",
        "\n",
        "            #WordNet 기반 품사 태깅과 어근 추출\n",
        "            wn_tag = penn_to_wn(tag)\n",
        "            if wn_tag not in (wn.NOUN, wn.ADJ, wn.ADV):\n",
        "                continue\n",
        "            lemma = lemmatizer.lemmatize(word, pos=wn_tag)\n",
        "            if not lemma:\n",
        "                continue\n",
        "            #어근을 추출한 단어와 WordNet 기반 품사 태깅을 입력해 Synset 객체를 생성\n",
        "            synsets = wn.synsets(lemma, pos=wn_tag)\n",
        "            if not synsets:\n",
        "                continue\n",
        "            #sentiwordnet의 감성 단어 분석으로 감성 synset 추출\n",
        "            #모든 단어에 대해 긍정 감성 지수는 +로 부정 감성지수는 -로 합산해 감성 지수 계산\n",
        "            synset = synsets[0]\n",
        "            swn_synset = swn.senti_synset(synset.name())\n",
        "            sentiment += (swn_synset.pos_score()-swn_synset.neg_score())\n",
        "            tokens_count += 1\n",
        "\n",
        "    if not tokens_count:\n",
        "        return 0\n",
        "\n",
        "    #총 score가 0 이상일 경우 긍정 1, 그렇지 않을 경우 부정 0 반환\n",
        "    if sentiment>=0:\n",
        "        return 1\n",
        "    return 0"
      ],
      "metadata": {
        "id": "mLLGn_Rxrkxk"
      },
      "execution_count": 9,
      "outputs": []
    },
    {
      "cell_type": "code",
      "source": [
        "import nltk\n",
        "nltk.download('sentiwordnet')\n",
        "hamlet_polarity = swn_polarity(hamlet)"
      ],
      "metadata": {
        "id": "rqidjKSFrl-2",
        "colab": {
          "base_uri": "https://localhost:8080/"
        },
        "outputId": "e8c8efd0-a98a-480d-f247-3386096b0ac5"
      },
      "execution_count": 12,
      "outputs": [
        {
          "output_type": "stream",
          "name": "stderr",
          "text": [
            "[nltk_data] Downloading package sentiwordnet to /root/nltk_data...\n",
            "[nltk_data]   Unzipping corpora/sentiwordnet.zip.\n"
          ]
        }
      ]
    },
    {
      "cell_type": "code",
      "source": [
        "hamlet_polarity"
      ],
      "metadata": {
        "colab": {
          "base_uri": "https://localhost:8080/"
        },
        "id": "_Er53Ewwu5d-",
        "outputId": "7014b709-5c7d-49a0-a4e9-e27acca21192"
      },
      "execution_count": 14,
      "outputs": [
        {
          "output_type": "execute_result",
          "data": {
            "text/plain": [
              "0"
            ]
          },
          "metadata": {},
          "execution_count": 14
        }
      ]
    },
    {
      "cell_type": "code",
      "source": [
        "hamlet_sents = gutenberg.sents('shakespeare-hamlet.txt')"
      ],
      "metadata": {
        "id": "7Yl-duoYvgQ_"
      },
      "execution_count": 15,
      "outputs": []
    },
    {
      "cell_type": "code",
      "source": [
        "hamlet_sents[:10]"
      ],
      "metadata": {
        "colab": {
          "base_uri": "https://localhost:8080/"
        },
        "id": "1aU9Cv8hvia9",
        "outputId": "203d9aaa-b850-42f6-cd0f-b2b968b6658c"
      },
      "execution_count": 17,
      "outputs": [
        {
          "output_type": "execute_result",
          "data": {
            "text/plain": [
              "[['[',\n",
              "  'The',\n",
              "  'Tragedie',\n",
              "  'of',\n",
              "  'Hamlet',\n",
              "  'by',\n",
              "  'William',\n",
              "  'Shakespeare',\n",
              "  '1599',\n",
              "  ']'],\n",
              " ['Actus', 'Primus', '.'],\n",
              " ['Scoena', 'Prima', '.'],\n",
              " ['Enter', 'Barnardo', 'and', 'Francisco', 'two', 'Centinels', '.'],\n",
              " ['Barnardo', '.'],\n",
              " ['Who', \"'\", 's', 'there', '?'],\n",
              " ['Fran', '.'],\n",
              " ['Nay', 'answer', 'me', ':', 'Stand', '&', 'vnfold', 'your', 'selfe'],\n",
              " ['Bar', '.'],\n",
              " ['Long', 'liue', 'the', 'King']]"
            ]
          },
          "metadata": {},
          "execution_count": 17
        }
      ]
    },
    {
      "cell_type": "code",
      "source": [
        "import nltk\n",
        "import re\n",
        "\n",
        "def tokenize_text(text: str):\n",
        "\n",
        "    # lowercase the text\n",
        "    text = text.lower()\n",
        "\n",
        "    # remove punctuation from text\n",
        "    text = re.sub(r\"[^\\w\\s]\", \"\", text)\n",
        "\n",
        "    # tokenize the text\n",
        "    tokens = nltk.word_tokenize(text)\n",
        "\n",
        "    # remove stopwords from txt_tokens and word_tokens\n",
        "    from nltk.corpus import stopwords\n",
        "    english_stop_words = set(stopwords.words('english'))\n",
        "    tokens = [word for word in tokens if word not in english_stop_words]\n",
        "\n",
        "    # return your tokens\n",
        "    return tokens\n",
        "\n",
        "tokens = tokenize_text(text = hamlet)\n",
        "print(tokens)"
      ],
      "metadata": {
        "colab": {
          "base_uri": "https://localhost:8080/"
        },
        "id": "ESOeImaKvieO",
        "outputId": "79984149-cfd4-442b-dd77-5e6be9c67bc8"
      },
      "execution_count": 21,
      "outputs": [
        {
          "output_type": "stream",
          "name": "stdout",
          "text": [
            "['tragedie', 'hamlet', 'william', 'shakespeare', '1599', 'actus', 'primus', 'scoena', 'prima', 'enter', 'barnardo', 'francisco', 'two', 'centinels', 'barnardo', 'whos', 'fran', 'nay', 'answer', 'stand', 'vnfold', 'selfe', 'bar', 'long', 'liue', 'king', 'fran', 'barnardo', 'bar', 'fran', 'come', 'carefully', 'vpon', 'houre', 'bar', 'tis', 'strook', 'twelue', 'get', 'thee', 'bed', 'francisco', 'fran', 'releefe', 'much', 'thankes', 'tis', 'bitter', 'cold', 'sicke', 'heart', 'barn', 'haue', 'quiet', 'guard', 'fran', 'mouse', 'stirring', 'barn', 'well', 'goodnight', 'meet', 'horatio', 'marcellus', 'riuals', 'watch', 'bid', 'make', 'hast', 'enter', 'horatio', 'marcellus', 'fran', 'thinke', 'heare', 'stand', 'whos', 'hor', 'friends', 'ground', 'mar', 'leigemen', 'dane', 'fran', 'giue', 'good', 'night', 'mar', 'farwel', 'honest', 'soldier', 'hath', 'relieud', 'fra', 'barnardo', 'place', 'giue', 'goodnight', 'exit', 'fran', 'mar', 'holla', 'barnardo', 'bar', 'say', 'horatio', 'hor', 'peece', 'bar', 'welcome', 'horatio', 'welcome', 'good', 'marcellus', 'mar', 'thing', 'appeard', 'againe', 'night', 'bar', 'haue', 'seene', 'nothing', 'mar', 'horatio', 'saies', 'tis', 'fantasie', 'let', 'beleefe', 'take', 'hold', 'touching', 'dreaded', 'sight', 'twice', 'seene', 'vs', 'therefore', 'haue', 'intreated', 'along', 'vs', 'watch', 'minutes', 'night', 'againe', 'apparition', 'come', 'may', 'approue', 'eyes', 'speake', 'hor', 'tush', 'tush', 'twill', 'appeare', 'bar', 'sit', 'downe', 'awhile', 'let', 'vs', 'againe', 'assaile', 'eares', 'fortified', 'story', 'two', 'nights', 'haue', 'seene', 'hor', 'well', 'sit', 'downe', 'let', 'vs', 'heare', 'barnardo', 'speake', 'barn', 'last', 'night', 'yond', 'starre', 'thats', 'westward', 'pole', 'made', 'course', 'illume', 'part', 'heauen', 'burnes', 'marcellus', 'selfe', 'bell', 'beating', 'one', 'mar', 'peace', 'breake', 'thee', 'enter', 'ghost', 'looke', 'comes', 'againe', 'barn', 'figure', 'like', 'king', 'thats', 'dead', 'mar', 'thou', 'art', 'scholler', 'speake', 'horatio', 'barn', 'lookes', 'like', 'king', 'marke', 'horatio', 'hora', 'like', 'harrowes', 'fear', 'wonder', 'barn', 'would', 'spoke', 'mar', 'question', 'horatio', 'hor', 'art', 'thou', 'vsurpst', 'time', 'night', 'together', 'faire', 'warlike', 'forme', 'maiesty', 'buried', 'denmarke', 'sometimes', 'march', 'heauen', 'charge', 'thee', 'speake', 'mar', 'offended', 'barn', 'see', 'stalkes', 'away', 'hor', 'stay', 'speake', 'speake', 'charge', 'thee', 'speake', 'exit', 'ghost', 'mar', 'tis', 'gone', 'answer', 'barn', 'horatio', 'tremble', 'look', 'pale', 'something', 'fantasie', 'thinke', 'ont', 'hor', 'god', 'might', 'beleeue', 'without', 'sensible', 'true', 'auouch', 'mine', 'owne', 'eyes', 'mar', 'like', 'king', 'hor', 'thou', 'art', 'thy', 'selfe', 'armour', 'th', 'ambitious', 'norwey', 'combatted', 'frownd', 'angry', 'parle', 'smot', 'sledded', 'pollax', 'ice', 'tis', 'strange', 'mar', 'thus', 'twice', 'iust', 'dead', 'houre', 'martiall', 'stalke', 'hath', 'gone', 'watch', 'hor', 'particular', 'thought', 'work', 'know', 'grosse', 'scope', 'opinion', 'boades', 'strange', 'erruption', 'state', 'mar', 'good', 'sit', 'downe', 'tell', 'knowes', 'strict', 'obseruant', 'watch', 'nightly', 'toyles', 'subiect', 'land', 'dayly', 'cast', 'brazon', 'cannon', 'forraigne', 'mart', 'implements', 'warre', 'impresse', 'shipwrights', 'whose', 'sore', 'taske', 'dos', 'diuide', 'sunday', 'weeke', 'might', 'toward', 'sweaty', 'hast', 'doth', 'make', 'night', 'ioyntlabourer', 'day', 'ist', 'informe', 'hor', 'least', 'whisper', 'goes', 'last', 'king', 'whose', 'image', 'euen', 'appeard', 'vs', 'know', 'fortinbras', 'norway', 'thereto', 'prickd', 'emulate', 'pride', 'dard', 'combate', 'valiant', 'hamlet', 'side', 'knowne', 'world', 'esteemd', 'slay', 'fortinbras', 'seald', 'compact', 'well', 'ratified', 'law', 'heraldrie', 'forfeite', 'life', 'lands', 'stood', 'seizd', 'conqueror', 'moity', 'competent', 'gaged', 'king', 'returnd', 'inheritance', 'fortinbras', 'bin', 'vanquisher', 'counant', 'carriage', 'article', 'designe', 'fell', 'hamlet', 'sir', 'young', 'fortinbras', 'vnimproued', 'mettle', 'hot', 'full', 'hath', 'skirts', 'norway', 'heere', 'sharkd', 'vp', 'list', 'landlesse', 'resolutes', 'foode', 'diet', 'enterprize', 'hath', 'stomacke', 'int', 'doth', 'well', 'appeare', 'vnto', 'state', 'recouer', 'vs', 'strong', 'hand', 'termes', 'compulsatiue', 'foresaid', 'lands', 'father', 'lost', 'take', 'maine', 'motiue', 'preparations', 'sourse', 'watch', 'cheefe', 'head', 'posthast', 'romage', 'land', 'enter', 'ghost', 'againe', 'soft', 'behold', 'loe', 'comes', 'againe', 'ile', 'crosse', 'though', 'blast', 'stay', 'illusion', 'thou', 'hast', 'sound', 'vse', 'voyce', 'speake', 'good', 'thing', 'done', 'may', 'thee', 'ease', 'grace', 'speak', 'thou', 'art', 'priuy', 'thy', 'countries', 'fate', 'happily', 'foreknowing', 'may', 'auoyd', 'oh', 'speake', 'thou', 'hast', 'vphoorded', 'thy', 'life', 'extorted', 'treasure', 'wombe', 'earth', 'say', 'spirits', 'oft', 'walke', 'death', 'speake', 'stay', 'speake', 'stop', 'marcellus', 'mar', 'shall', 'strike', 'partizan', 'hor', 'stand', 'barn', 'tis', 'heere', 'hor', 'tis', 'heere', 'mar', 'tis', 'gone', 'exit', 'ghost', 'wrong', 'maiesticall', 'offer', 'shew', 'violence', 'ayre', 'invulnerable', 'vaine', 'blowes', 'malicious', 'mockery', 'barn', 'speake', 'cocke', 'crew', 'hor', 'started', 'like', 'guilty', 'thing', 'vpon', 'fearfull', 'summons', 'haue', 'heard', 'cocke', 'trumpet', 'day', 'doth', 'lofty', 'shrillsounding', 'throate', 'awake', 'god', 'day', 'warning', 'whether', 'sea', 'fire', 'earth', 'ayre', 'th', 'extrauagant', 'erring', 'spirit', 'hyes', 'confine', 'truth', 'heerein', 'present', 'obiect', 'made', 'probation', 'mar', 'faded', 'crowing', 'cocke', 'sayes', 'euer', 'gainst', 'season', 'comes', 'wherein', 'sauiours', 'birch', 'celebrated', 'bird', 'dawning', 'singeth', 'night', 'long', 'say', 'spirit', 'walke', 'abroad', 'nights', 'wholsome', 'planets', 'strike', 'faiery', 'talkes', 'witch', 'hath', 'power', 'charme', 'hallowd', 'gracious', 'time', 'hor', 'haue', 'heard', 'part', 'beleeue', 'looke', 'morne', 'russet', 'mantle', 'clad', 'walkes', 'ore', 'dew', 'yon', 'high', 'easterne', 'hill', 'breake', 'watch', 'vp', 'aduice', 'let', 'vs', 'impart', 'haue', 'seene', 'night', 'vnto', 'yong', 'hamlet', 'vpon', 'life', 'spirit', 'dumbe', 'vs', 'speake', 'consent', 'shall', 'acquaint', 'needfull', 'loues', 'fitting', 'duty', 'mar', 'let', 'dot', 'pray', 'morning', 'know', 'shall', 'finde', 'conueniently', 'exeunt', 'scena', 'secunda', 'enter', 'claudius', 'king', 'denmarke', 'gertrude', 'queene', 'hamlet', 'polonius', 'laertes', 'sister', 'ophelia', 'lords', 'attendant', 'king', 'though', 'yet', 'hamlet', 'deere', 'brothers', 'death', 'memory', 'greene', 'vs', 'befitted', 'beare', 'hearts', 'greefe', 'whole', 'kingdome', 'contracted', 'one', 'brow', 'woe', 'yet', 'farre', 'hath', 'discretion', 'fought', 'nature', 'wisest', 'sorrow', 'thinke', 'together', 'remembrance', 'selues', 'therefore', 'sometimes', 'sister', 'queene', 'th', 'imperiall', 'ioyntresse', 'warlike', 'state', 'haue', 'twere', 'defeated', 'ioy', 'one', 'auspicious', 'one', 'dropping', 'eye', 'mirth', 'funerall', 'dirge', 'marriage', 'equall', 'scale', 'weighing', 'delight', 'dole', 'taken', 'wife', 'haue', 'heerein', 'barrd', 'better', 'wisedomes', 'haue', 'freely', 'gone', 'affaire', 'along', 'thankes', 'followes', 'know', 'young', 'fortinbras', 'holding', 'weake', 'supposall', 'worth', 'thinking', 'late', 'deere', 'brothers', 'death', 'state', 'disioynt', 'frame', 'colleagued', 'dreame', 'aduantage', 'hath', 'fayld', 'pester', 'vs', 'message', 'importing', 'surrender', 'lands', 'lost', 'father', 'bonds', 'law', 'valiant', 'brother', 'much', 'enter', 'voltemand', 'cornelius', 'selfe', 'time', 'meeting', 'thus', 'much', 'businesse', 'haue', 'heere', 'writ', 'norway', 'vncle', 'young', 'fortinbras', 'impotent', 'bedrid', 'scarsely', 'heares', 'nephewes', 'purpose', 'suppresse', 'gate', 'heerein', 'leuies', 'lists', 'full', 'proportions', 'made', 'subiect', 'heere', 'dispatch', 'good', 'cornelius', 'voltemand', 'bearing', 'greeting', 'old', 'norway', 'giuing', 'personall', 'power', 'businesse', 'king', 'scope', 'dilated', 'articles', 'allow', 'farewell', 'let', 'hast', 'commend', 'duty', 'volt', 'things', 'shew', 'duty', 'king', 'doubt', 'nothing', 'heartily', 'farewell', 'exit', 'voltemand', 'cornelius', 'laertes', 'whats', 'newes', 'told', 'vs', 'suite', 'ist', 'laertes', 'speake', 'reason', 'dane', 'loose', 'voyce', 'wouldst', 'thou', 'beg', 'laertes', 'shall', 'offer', 'thy', 'asking', 'head', 'natiue', 'heart', 'hand', 'instrumentall', 'mouth', 'throne', 'denmarke', 'thy', 'father', 'wouldst', 'thou', 'haue', 'laertes', 'laer', 'dread', 'lord', 'leaue', 'fauour', 'returne', 'france', 'whence', 'though', 'willingly', 'came', 'denmarke', 'shew', 'duty', 'coronation', 'yet', 'must', 'confesse', 'duty', 'done', 'thoughts', 'wishes', 'bend', 'againe', 'towards', 'france', 'bow', 'gracious', 'leaue', 'pardon', 'king', 'haue', 'fathers', 'leaue', 'sayes', 'pollonius', 'pol', 'hath', 'lord', 'beseech', 'giue', 'leaue', 'go', 'king', 'take', 'thy', 'faire', 'houre', 'laertes', 'time', 'thine', 'thy', 'best', 'graces', 'spend', 'thy', 'cosin', 'hamlet', 'sonne', 'ham', 'little', 'kin', 'lesse', 'kinde', 'king', 'clouds', 'still', 'hang', 'ham', 'lord', 'much', 'ith', 'sun', 'queen', 'good', 'hamlet', 'cast', 'thy', 'nightly', 'colour', 'let', 'thine', 'eye', 'looke', 'like', 'friend', 'denmarke', 'euer', 'thy', 'veyled', 'lids', 'seeke', 'thy', 'noble', 'father', 'dust', 'thou', 'knowst', 'tis', 'common', 'liues', 'must', 'dye', 'passing', 'nature', 'eternity', 'ham', 'madam', 'common', 'queen', 'seemes', 'particular', 'thee', 'ham', 'seemes', 'madam', 'nay', 'know', 'seemes', 'tis', 'alone', 'inky', 'cloake', 'good', 'mother', 'customary', 'suites', 'solemne', 'blacke', 'windy', 'suspiration', 'forcd', 'breath', 'fruitfull', 'riuer', 'eye', 'deiected', 'hauiour', 'visage', 'together', 'formes', 'moods', 'shewes', 'griefe', 'denote', 'truly', 'indeed', 'seeme', 'actions', 'man', 'might', 'play', 'haue', 'within', 'passeth', 'show', 'trappings', 'suites', 'woe', 'king', 'tis', 'sweet', 'commendable', 'nature', 'hamlet', 'giue', 'mourning', 'duties', 'father', 'must', 'know', 'father', 'lost', 'father', 'father', 'lost', 'lost', 'suruiuer', 'bound', 'filiall', 'obligation', 'terme', 'obsequious', 'sorrow', 'perseuer', 'obstinate', 'condolement', 'course', 'impious', 'stubbornnesse', 'tis', 'vnmanly', 'greefe', 'shewes', 'incorrect', 'heauen', 'heart', 'vnfortified', 'minde', 'impatient', 'vnderstanding', 'simple', 'vnschoold', 'know', 'must', 'common', 'vulgar', 'thing', 'sence', 'peeuish', 'opposition', 'take', 'heart', 'fye', 'tis', 'fault', 'heauen', 'fault', 'dead', 'fault', 'nature', 'reason', 'absurd', 'whose', 'common', 'theame', 'death', 'fathers', 'still', 'hath', 'cried', 'first', 'coarse', 'till', 'dyed', 'day', 'must', 'pray', 'throw', 'earth', 'vnpreuayling', 'woe', 'thinke', 'vs', 'father', 'let', 'world', 'take', 'note', 'immediate', 'throne', 'lesse', 'nobility', 'loue', 'deerest', 'father', 'beares', 'sonne', 'impart', 'towards', 'intent', 'going', 'backe', 'schoole', 'wittenberg', 'retrograde', 'desire', 'beseech', 'bend', 'remaine', 'heere', 'cheere', 'comfort', 'eye', 'cheefest', 'courtier', 'cosin', 'sonne', 'qu', 'let', 'thy', 'mother', 'lose', 'prayers', 'hamlet', 'prythee', 'stay', 'vs', 'go', 'wittenberg', 'ham', 'shall', 'best', 'obey', 'madam', 'king', 'tis', 'louing', 'faire', 'reply', 'selfe', 'denmarke', 'madam', 'come', 'gentle', 'vnforcd', 'accord', 'hamlet', 'sits', 'smiling', 'heart', 'grace', 'whereof', 'iocond', 'health', 'denmarke', 'drinkes', 'day', 'great', 'cannon', 'clowds', 'shall', 'tell', 'kings', 'rouce', 'heauens', 'shall', 'bruite', 'againe', 'respeaking', 'earthly', 'thunder', 'come', 'away', 'exeunt', 'manet', 'hamlet', 'ham', 'oh', 'solid', 'flesh', 'would', 'melt', 'thaw', 'resolue', 'selfe', 'dew', 'euerlasting', 'fixt', 'cannon', 'gainst', 'selfeslaughter', 'god', 'god', 'weary', 'stale', 'flat', 'vnprofitable', 'seemes', 'vses', 'world', 'fie', 'ont', 'oh', 'fie', 'fie', 'tis', 'vnweeded', 'garden', 'growes', 'seed', 'things', 'rank', 'grosse', 'nature', 'possesse', 'meerely', 'come', 'two', 'months', 'dead', 'nay', 'much', 'two', 'excellent', 'king', 'hiperion', 'satyre', 'louing', 'mother', 'might', 'beteene', 'windes', 'heauen', 'visit', 'face', 'roughly', 'heauen', 'earth', 'must', 'remember', 'would', 'hang', 'encrease', 'appetite', 'growne', 'fed', 'yet', 'within', 'month', 'let', 'thinke', 'ont', 'frailty', 'thy', 'name', 'woman', 'little', 'month', 'ere', 'shooes', 'old', 'followed', 'poore', 'fathers', 'body', 'like', 'niobe', 'teares', 'euen', 'heauen', 'beast', 'wants', 'discourse', 'reason', 'would', 'haue', 'mournd', 'longer', 'married', 'mine', 'vnkle', 'fathers', 'brother', 'like', 'father', 'hercules', 'within', 'moneth', 'ere', 'yet', 'salt', 'vnrighteous', 'teares', 'left', 'flushing', 'gauled', 'eyes', 'married', 'wicked', 'speed', 'post', 'dexterity', 'incestuous', 'sheets', 'come', 'good', 'breake', 'heart', 'must', 'hold', 'tongue', 'enter', 'horatio', 'barnardo', 'marcellus', 'hor', 'haile', 'lordship', 'ham', 'glad', 'see', 'well', 'horatio', 'forget', 'selfe', 'hor', 'lord', 'poore', 'seruant', 'euer', 'ham', 'sir', 'good', 'friend', 'ile', 'change', 'name', 'make', 'wittenberg', 'horatio', 'marcellus', 'mar', 'good', 'lord', 'ham', 'glad', 'see', 'good', 'euen', 'sir', 'faith', 'make', 'wittemberge', 'hor', 'truant', 'disposition', 'good', 'lord', 'ham', 'would', 'haue', 'enemy', 'say', 'shall', 'doe', 'mine', 'eare', 'violence', 'make', 'truster', 'owne', 'report', 'selfe', 'know', 'truant', 'affaire', 'elsenour', 'weel', 'teach', 'drinke', 'deepe', 'ere', 'depart', 'hor', 'lord', 'came', 'see', 'fathers', 'funerall', 'ham', 'pray', 'thee', 'doe', 'mock', 'fellow', 'student', 'thinke', 'see', 'mothers', 'wedding', 'hor', 'indeed', 'lord', 'followed', 'hard', 'vpon', 'ham', 'thrift', 'thrift', 'horatio', 'funerall', 'baktmeats', 'coldly', 'furnish', 'forth', 'marriage', 'tables', 'would', 'met', 'dearest', 'foe', 'heauen', 'ere', 'euer', 'seene', 'day', 'horatio', 'father', 'thinkes', 'see', 'father', 'hor', 'oh', 'lord', 'ham', 'minds', 'eye', 'horatio', 'hor', 'saw', 'goodly', 'king', 'ham', 'man', 'take', 'shall', 'look', 'vpon', 'like', 'againe', 'hor', 'lord', 'thinke', 'saw', 'yesternight', 'ham', 'saw', 'hor', 'lord', 'king', 'father', 'ham', 'king', 'father', 'hor', 'season', 'admiration', 'attent', 'eare', 'till', 'may', 'deliuer', 'vpon', 'witnesse', 'gentlemen', 'maruell', 'ham', 'heauens', 'loue', 'let', 'heare', 'hor', 'two', 'nights', 'together', 'gentlemen', 'marcellus', 'barnardo', 'watch', 'dead', 'wast', 'middle', 'night', 'beene', 'thus', 'encountred', 'figure', 'like', 'father', 'armd', 'points', 'exactly', 'cap', 'pe', 'appeares', 'sollemne', 'march', 'goes', 'slow', 'stately', 'thrice', 'walkt', 'opprest', 'fearesurprized', 'eyes', 'within', 'truncheons', 'length', 'whilst', 'bestild', 'almost', 'ielly', 'act', 'feare', 'stand', 'dumbe', 'speake', 'dreadfull', 'secrecie', 'impart', 'third', 'night', 'kept', 'watch', 'whereas', 'deliuerd', 'time', 'forme', 'thing', 'word', 'made', 'true', 'good', 'apparition', 'comes', 'knew', 'father', 'hands', 'like', 'ham', 'mar', 'lord', 'vpon', 'platforme', 'watcht', 'ham', 'speake', 'hor', 'lord', 'answere', 'made', 'none', 'yet', 'thought', 'lifted', 'vp', 'head', 'addresse', 'selfe', 'motion', 'like', 'would', 'speake', 'euen', 'morning', 'cocke', 'crew', 'lowd', 'sound', 'shrunke', 'hast', 'away', 'vanisht', 'sight', 'ham', 'tis', 'strange', 'hor', 'doe', 'liue', 'honourd', 'lord', 'tis', 'true', 'thinke', 'writ', 'downe', 'duty', 'let', 'know', 'ham', 'indeed', 'indeed', 'sirs', 'troubles', 'hold', 'watch', 'night', 'doe', 'lord', 'ham', 'armd', 'say', 'armd', 'lord', 'ham', 'top', 'toe', 'lord', 'head', 'foote', 'ham', 'saw', 'face', 'hor', 'yes', 'lord', 'wore', 'beauer', 'vp', 'ham', 'lookt', 'frowningly', 'hor', 'countenance', 'sorrow', 'anger', 'ham', 'pale', 'red', 'hor', 'nay', 'pale', 'ham', 'fixt', 'eyes', 'vpon', 'hor', 'constantly', 'ham', 'would', 'beene', 'hor', 'would', 'haue', 'much', 'amazd', 'ham', 'like', 'like', 'staid', 'long', 'hor', 'one', 'moderate', 'hast', 'might', 'tell', 'hundred', 'longer', 'longer', 'hor', 'sawt', 'ham', 'beard', 'grisly', 'hor', 'haue', 'seene', 'life', 'sable', 'siluerd', 'ham', 'ile', 'watch', 'night', 'perchance', 'twill', 'wake', 'againe', 'hor', 'warrant', 'ham', 'assume', 'noble', 'fathers', 'person', 'ile', 'speake', 'though', 'hell', 'selfe', 'gape', 'bid', 'hold', 'peace', 'pray', 'haue', 'hitherto', 'conceald', 'sight', 'let', 'bee', 'treble', 'silence', 'still', 'whatsoeuer', 'els', 'shall', 'hap', 'night', 'giue', 'vnderstanding', 'tongue', 'requite', 'loues', 'fare', 'ye', 'well', 'vpon', 'platforme', 'twixt', 'eleuen', 'twelue', 'ile', 'visit', 'duty', 'honour', 'exeunt', 'ham', 'loue', 'mine', 'farewell', 'fathers', 'spirit', 'armes', 'well', 'doubt', 'foule', 'play', 'would', 'night', 'come', 'till', 'sit', 'still', 'soule', 'foule', 'deeds', 'rise', 'though', 'earth', 'orewhelm', 'mens', 'eies', 'enter', 'scena', 'tertia', 'enter', 'laertes', 'ophelia', 'laer', 'necessaries', 'imbarkt', 'farewell', 'sister', 'winds', 'giue', 'benefit', 'conuoy', 'assistant', 'doe', 'sleepe', 'let', 'heare', 'ophel', 'doe', 'doubt', 'laer', 'hamlet', 'trifling', 'fauours', 'hold', 'fashion', 'toy', 'bloude', 'violet', 'youth', 'primy', 'nature', 'froward', 'permanent', 'sweet', 'lasting', 'suppliance', 'minute', 'ophel', 'laer', 'thinke', 'nature', 'cressant', 'grow', 'alone', 'thewes', 'bulke', 'temple', 'waxes', 'inward', 'seruice', 'minde', 'soule', 'growes', 'wide', 'withall', 'perhaps', 'loues', 'soyle', 'cautell', 'doth', 'besmerch', 'vertue', 'feare', 'must', 'feare', 'greatnesse', 'weighd', 'owne', 'hee', 'himselfe', 'subiect', 'birth', 'hee', 'may', 'vnuallued', 'persons', 'doe', 'carue', 'himselfe', 'choyce', 'depends', 'sanctity', 'health', 'whole', 'state', 'therefore', 'must', 'choyce', 'circumscribd', 'vnto', 'voyce', 'yeelding', 'body', 'whereof', 'head', 'sayes', 'loues', 'fits', 'wisedome', 'farre', 'beleeue', 'peculiar', 'sect', 'force', 'may', 'giue', 'saying', 'deed', 'maine', 'voyce', 'denmarke', 'goes', 'withall', 'weight', 'losse', 'honour', 'may', 'sustaine', 'credent', 'eare', 'list', 'songs', 'lose', 'heart', 'chast', 'treasure', 'open', 'vnmastred', 'importunity', 'feare', 'ophelia', 'feare', 'deare', 'sister', 'keepe', 'within', 'reare', 'affection', 'shot', 'danger', 'desire', 'chariest', 'maid', 'prodigall', 'enough', 'vnmaske', 'beauty', 'moone', 'vertue', 'selfe', 'scapes', 'calumnious', 'stroakes', 'canker', 'galls', 'infants', 'spring', 'oft', 'buttons', 'disclosd', 'morne', 'liquid', 'dew', 'youth', 'contagious', 'blastments', 'imminent', 'wary', 'best', 'safety', 'lies', 'feare', 'youth', 'selfe', 'rebels', 'though', 'none', 'else', 'neere', 'ophe', 'shall', 'th', 'effect', 'good', 'lesson', 'keepe', 'watchmen', 'heart', 'good', 'brother', 'doe', 'vngracious', 'pastors', 'doe', 'shew', 'steepe', 'thorny', 'way', 'heauen', 'whilst', 'like', 'puft', 'recklesse', 'libertine', 'himselfe', 'primrose', 'path', 'dalliance', 'treads', 'reaks', 'owne', 'reade', 'laer', 'oh', 'feare', 'enter', 'polonius', 'stay', 'long', 'father', 'comes', 'double', 'blessing', 'double', 'grace', 'occasion', 'smiles', 'vpon', 'second', 'leaue', 'polon', 'yet', 'heere', 'laertes', 'aboord', 'aboord', 'shame', 'winde', 'sits', 'shoulder', 'saile', 'staid', 'blessing', 'precepts', 'thy', 'memory', 'see', 'thou', 'character', 'giue', 'thy', 'thoughts', 'tongue', 'vnproportiond', 'thoughts', 'act', 'thou', 'familiar', 'meanes', 'vulgar', 'friends', 'thou', 'hast', 'adoption', 'tride', 'grapple', 'thy', 'soule', 'hoopes', 'steele', 'doe', 'dull', 'thy', 'palme', 'entertainment', 'vnhatcht', 'vnfledgd', 'comrade', 'beware', 'entrance', 'quarrell', 'beart', 'th', 'opposed', 'may', 'beware', 'thee', 'giue', 'euery', 'man', 'thine', 'eare', 'thy', 'voyce', 'take', 'mans', 'censure', 'reserue', 'thy', 'iudgement', 'costly', 'thy', 'habit', 'thy', 'purse', 'buy', 'exprest', 'fancie', 'rich', 'gawdie', 'apparell', 'oft', 'proclaimes', 'man', 'france', 'best', 'ranck', 'station', 'select', 'generous', 'cheff', 'neither', 'borrower', 'lender', 'lone', 'oft', 'loses', 'selfe', 'friend', 'borrowing', 'duls', 'edge', 'husbandry', 'aboue', 'thine', 'owne', 'selfe', 'true', 'must', 'follow', 'night', 'day', 'thou', 'canst', 'false', 'man', 'farewell', 'blessing', 'season', 'thee', 'laer', 'humbly', 'doe', 'take', 'leaue', 'lord', 'polon', 'time', 'inuites', 'goe', 'seruants', 'tend', 'laer', 'farewell', 'ophelia', 'remember', 'well', 'haue', 'said', 'ophe', 'tis', 'memory', 'lockt', 'selfe', 'shall', 'keepe', 'key', 'laer', 'farewell', 'exit', 'laer', 'polon', 'ist', 'ophelia', 'hath', 'said', 'ophe', 'please', 'somthing', 'touching', 'lord', 'hamlet', 'polon', 'marry', 'well', 'bethought', 'tis', 'told', 'hath', 'oft', 'late', 'giuen', 'priuate', 'time', 'selfe', 'haue', 'audience', 'beene', 'free', 'bounteous', 'tis', 'put', 'way', 'caution', 'must', 'tell', 'doe', 'vnderstand', 'selfe', 'cleerely', 'behoues', 'daughter', 'honour', 'betweene', 'giue', 'vp', 'truth', 'ophe', 'hath', 'lord', 'late', 'made', 'many', 'tenders', 'affection', 'polon', 'affection', 'puh', 'speake', 'like', 'greene', 'girle', 'vnsifted', 'perillous', 'circumstance', 'doe', 'beleeue', 'tenders', 'call', 'ophe', 'know', 'lord', 'thinke', 'polon', 'marry', 'ile', 'teach', 'thinke', 'selfe', 'baby', 'haue', 'tane', 'tenders', 'true', 'pay', 'starling', 'tender', 'selfe', 'dearly', 'crack', 'winde', 'poore', 'phrase', 'roaming', 'thus', 'youl', 'tender', 'foole', 'ophe', 'lord', 'hath', 'importund', 'loue', 'honourable', 'fashion', 'polon', 'fashion', 'may', 'call', 'go', 'go', 'ophe', 'hath', 'giuen', 'countenance', 'speech', 'lord', 'vowes', 'heauen', 'polon', 'springes', 'catch', 'woodcocks', 'doe', 'know', 'bloud', 'burnes', 'prodigall', 'soule', 'giues', 'tongue', 'vowes', 'blazes', 'daughter', 'giuing', 'light', 'heate', 'extinct', 'euen', 'promise', 'making', 'must', 'take', 'fire', 'time', 'daughter', 'somewhat', 'scanter', 'maiden', 'presence', 'set', 'entreatments', 'higher', 'rate', 'command', 'parley', 'lord', 'hamlet', 'beleeue', 'much', 'young', 'larger', 'tether', 'may', 'walke', 'may', 'giuen', 'ophelia', 'doe', 'beleeue', 'vowes', 'broakers', 'eye', 'inuestments', 'show', 'meere', 'implorators', 'vnholy', 'sutes', 'breathing', 'like', 'sanctified', 'pious', 'bonds', 'better', 'beguile', 'would', 'plaine', 'tearmes', 'time', 'forth', 'haue', 'slander', 'moment', 'leisure', 'giue', 'words', 'talke', 'lord', 'hamlet', 'looke', 'toot', 'charge', 'come', 'wayes', 'ophe', 'shall', 'obey', 'lord', 'exeunt', 'enter', 'hamlet', 'horatio', 'marcellus', 'ham', 'ayre', 'bites', 'shrewdly', 'cold', 'hor', 'nipping', 'eager', 'ayre', 'ham', 'hower', 'hor', 'thinke', 'lacks', 'twelue', 'mar', 'strooke', 'hor', 'indeed', 'heard', 'drawes', 'neere', 'season', 'wherein', 'spirit', 'held', 'wont', 'walke', 'meane', 'lord', 'ham', 'king', 'doth', 'wake', 'night', 'takes', 'rouse', 'keepes', 'wassels', 'swaggering', 'vpspring', 'reeles', 'dreines', 'draughts', 'renish', 'downe', 'kettle', 'drum', 'trumpet', 'thus', 'bray', 'triumph', 'pledge', 'horat', 'custome', 'ham', 'marry', 'ist', 'mind', 'though', 'natiue', 'heere', 'manner', 'borne', 'custome', 'honourd', 'breach', 'obseruance', 'enter', 'ghost', 'hor', 'looke', 'lord', 'comes', 'ham', 'angels', 'ministers', 'grace', 'defend', 'vs', 'thou', 'spirit', 'health', 'goblin', 'damnd', 'bring', 'thee', 'ayres', 'heauen', 'blasts', 'hell', 'thy', 'euents', 'wicked', 'charitable', 'thou', 'comst', 'questionable', 'shape', 'speake', 'thee', 'ile', 'call', 'thee', 'hamlet', 'king', 'father', 'royall', 'dane', 'oh', 'oh', 'answer', 'let', 'burst', 'ignorance', 'tell', 'thy', 'canonizd', 'bones', 'hearsed', 'death', 'haue', 'burst', 'cerments', 'sepulcher', 'wherein', 'saw', 'thee', 'quietly', 'enurnd', 'hath', 'opd', 'ponderous', 'marble', 'iawes', 'cast', 'thee', 'vp', 'againe', 'may', 'meane', 'thou', 'dead', 'coarse', 'againe', 'compleat', 'steele', 'reuisits', 'thus', 'glimpses', 'moone', 'making', 'night', 'hidious', 'fooles', 'nature', 'horridly', 'shake', 'disposition', 'thoughts', 'beyond', 'thee', 'reaches', 'soules', 'say', 'wherefore', 'doe', 'ghost', 'beckens', 'hamlet', 'hor', 'beckons', 'goe', 'away', 'impartment', 'desire', 'alone', 'mar', 'looke', 'courteous', 'action', 'wafts', 'remoued', 'ground', 'doe', 'goe', 'hor', 'meanes', 'ham', 'speake', 'follow', 'hor', 'doe', 'lord', 'ham', 'feare', 'doe', 'set', 'life', 'pins', 'fee', 'soule', 'doe', 'thing', 'immortall', 'selfe', 'waues', 'forth', 'againe', 'ile', 'follow', 'hor', 'tempt', 'toward', 'floud', 'lord', 'dreadfull', 'sonnet', 'cliffe', 'beetles', 'ore', 'base', 'sea', 'assumes', 'horrible', 'forme', 'might', 'depriue', 'soueraignty', 'reason', 'draw', 'madnesse', 'thinke', 'ham', 'wafts', 'still', 'goe', 'ile', 'follow', 'thee', 'mar', 'shall', 'goe', 'lord', 'ham', 'hold', 'hand', 'hor', 'ruld', 'shall', 'goe', 'ham', 'fate', 'cries', 'makes', 'petty', 'artire', 'body', 'hardy', 'nemian', 'lions', 'nerue', 'still', 'cald', 'vnhand', 'gentlemen', 'heaun', 'ile', 'make', 'ghost', 'lets', 'say', 'away', 'goe', 'ile', 'follow', 'thee', 'exeunt', 'ghost', 'hamlet', 'hor', 'waxes', 'desperate', 'imagination', 'mar', 'lets', 'follow', 'tis', 'fit', 'thus', 'obey', 'hor', 'haue', 'issue', 'come', 'mar', 'something', 'rotten', 'state', 'denmarke', 'hor', 'heauen', 'direct', 'mar', 'nay', 'lets', 'follow', 'exeunt', 'enter', 'ghost', 'hamlet', 'ham', 'wilt', 'thou', 'lead', 'speak', 'ile', 'go', 'gho', 'marke', 'ham', 'gho', 'hower', 'almost', 'come', 'sulphurous', 'tormenting', 'flames', 'must', 'render', 'vp', 'selfe', 'ham', 'alas', 'poore', 'ghost', 'gho', 'pitty', 'lend', 'thy', 'serious', 'hearing', 'shall', 'vnfold', 'ham', 'speake', 'bound', 'heare', 'gho', 'art', 'thou', 'reuenge', 'thou', 'shalt', 'heare', 'ham', 'gho', 'thy', 'fathers', 'spirit', 'doomd', 'certaine', 'terme', 'walke', 'night', 'day', 'confind', 'fast', 'fiers', 'till', 'foule', 'crimes', 'done', 'dayes', 'nature', 'burnt', 'purgd', 'away', 'forbid', 'tell', 'secrets', 'prisonhouse', 'could', 'tale', 'vnfold', 'whose', 'lightest', 'word', 'would', 'harrow', 'vp', 'thy', 'soule', 'freeze', 'thy', 'young', 'blood', 'make', 'thy', 'two', 'eyes', 'like', 'starres', 'start', 'spheres', 'thy', 'knotty', 'combined', 'lockes', 'part', 'particular', 'haire', 'stand', 'end', 'like', 'quilles', 'vpon', 'fretfull', 'porpentine', 'eternall', 'blason', 'must', 'eares', 'flesh', 'bloud', 'list', 'hamlet', 'oh', 'list', 'thou', 'didst', 'euer', 'thy', 'deare', 'father', 'loue', 'ham', 'oh', 'heauen', 'gho', 'reuenge', 'foule', 'vnnaturall', 'murther', 'ham', 'murther', 'ghost', 'murther', 'foule', 'best', 'foule', 'strange', 'vnnaturall', 'ham', 'hast', 'hast', 'know', 'wings', 'swift', 'meditation', 'thoughts', 'loue', 'may', 'sweepe', 'reuenge', 'ghost', 'finde', 'thee', 'apt', 'duller', 'shouldst', 'thou', 'fat', 'weede', 'rots', 'selfe', 'ease', 'lethe', 'wharfe', 'wouldst', 'thou', 'stirre', 'hamlet', 'heare', 'giuen', 'sleeping', 'mine', 'orchard', 'serpent', 'stung', 'whole', 'eare', 'denmarke', 'forged', 'processe', 'death', 'rankly', 'abusd', 'know', 'thou', 'noble', 'youth', 'serpent', 'sting', 'thy', 'fathers', 'life', 'weares', 'crowne', 'ham', 'propheticke', 'soule', 'mine', 'vncle', 'ghost', 'incestuous', 'adulterate', 'beast', 'witchcraft', 'wits', 'hath', 'traitorous', 'guifts', 'oh', 'wicked', 'wit', 'gifts', 'haue', 'power', 'seduce', 'shamefull', 'lust', 'seeming', 'vertuous', 'queene', 'oh', 'hamlet', 'falling', 'whose', 'loue', 'dignity', 'went', 'hand', 'hand', 'euen', 'vow', 'made', 'marriage', 'decline', 'vpon', 'wretch', 'whose', 'naturall', 'gifts', 'poore', 'mine', 'vertue', 'neuer', 'wil', 'moued', 'though', 'lewdnesse', 'court', 'shape', 'heauen', 'lust', 'though', 'radiant', 'angell', 'linkd', 'sate', 'selfe', 'celestiall', 'bed', 'prey', 'garbage', 'soft', 'thinkes', 'sent', 'mornings', 'ayre', 'briefe', 'let', 'sleeping', 'within', 'mine', 'orchard', 'custome', 'alwayes', 'afternoone', 'vpon', 'secure', 'hower', 'thy', 'vncle', 'stole', 'iuyce', 'cursed', 'hebenon', 'violl', 'porches', 'mine', 'eares', 'poure', 'leaperous', 'distilment', 'whose', 'effect', 'holds', 'enmity', 'bloud', 'man', 'swift', 'quicksiluer', 'courses', 'naturall', 'gates', 'allies', 'body', 'sodaine', 'vigour', 'doth', 'posset', 'curd', 'like', 'aygre', 'droppings', 'milke', 'thin', 'wholsome', 'blood', 'mine', 'instant', 'tetter', 'bakd', 'lazarlike', 'vile', 'loathsome', 'crust', 'smooth', 'body', 'thus', 'sleeping', 'brothers', 'hand', 'life', 'crowne', 'queene', 'dispatcht', 'cut', 'euen', 'blossomes', 'sinne', 'vnhouzzled', 'disappointed', 'vnnaneld', 'reckoning', 'made', 'sent', 'account', 'imperfections', 'head', 'oh', 'horrible', 'oh', 'horrible', 'horrible', 'thou', 'hast', 'nature', 'thee', 'beare', 'let', 'royall', 'bed', 'denmarke', 'couch', 'luxury', 'damned', 'incest', 'howsoeuer', 'thou', 'pursuest', 'act', 'taint', 'thy', 'mind', 'let', 'thy', 'soule', 'contriue', 'thy', 'mother', 'ought', 'leaue', 'heauen', 'thornes', 'bosome', 'lodge', 'pricke', 'sting', 'fare', 'thee', 'well', 'glowworme', 'showes', 'matine', 'neere', 'gins', 'pale', 'vneffectuall', 'fire', 'adue', 'adue', 'hamlet', 'remember', 'enter', 'ham', 'oh', 'host', 'heauen', 'oh', 'earth', 'els', 'shall', 'couple', 'hell', 'oh', 'fie', 'hold', 'heart', 'sinnewes', 'grow', 'instant', 'old', 'beare', 'stiffely', 'vp', 'remember', 'thee', 'thou', 'poore', 'ghost', 'memory', 'holds', 'seate', 'distracted', 'globe', 'remember', 'thee', 'yea', 'table', 'memory', 'ile', 'wipe', 'away', 'triuiall', 'fond', 'records', 'sawes', 'bookes', 'formes', 'presures', 'past', 'youth', 'obseruation', 'coppied', 'thy', 'commandment', 'alone', 'shall', 'liue', 'within', 'booke', 'volume', 'braine', 'vnmixt', 'baser', 'matter', 'yes', 'yes', 'heauen', 'oh', 'pernicious', 'woman', 'oh', 'villaine', 'villaine', 'smiling', 'damned', 'villaine', 'tables', 'tables', 'meet', 'set', 'downe', 'one', 'may', 'smile', 'smile', 'villaine', 'least', 'im', 'sure', 'may', 'denmarke', 'vnckle', 'word', 'adue', 'adue', 'remember', 'haue', 'swornt', 'hor', 'mar', 'within', 'lord', 'lord', 'enter', 'horatio', 'marcellus', 'mar', 'lord', 'hamlet', 'hor', 'heauen', 'secure', 'mar', 'hor', 'illo', 'ho', 'ho', 'lord', 'ham', 'hillo', 'ho', 'ho', 'boy', 'come', 'bird', 'come', 'mar', 'ist', 'noble', 'lord', 'hor', 'newes', 'lord', 'ham', 'oh', 'wonderfull', 'hor', 'good', 'lord', 'tell', 'ham', 'youl', 'reueale', 'hor', 'lord', 'heauen', 'mar', 'lord', 'ham', 'say', 'would', 'heart', 'man', 'think', 'youl', 'secret', 'heaun', 'lord', 'ham', 'theres', 'nere', 'villaine', 'dwelling', 'denmarke', 'hees', 'arrant', 'knaue', 'hor', 'needs', 'ghost', 'lord', 'come', 'graue', 'tell', 'vs', 'ham', 'right', 'ith', 'right', 'without', 'circumstance', 'hold', 'fit', 'shake', 'hands', 'part', 'busines', 'desires', 'shall', 'point', 'euery', 'man', 'businesse', 'desire', 'mine', 'owne', 'poore', 'part', 'looke', 'ile', 'goe', 'pray', 'hor', 'wild', 'hurling', 'words', 'lord', 'ham', 'im', 'sorry', 'offend', 'heartily', 'yes', 'faith', 'heartily', 'hor', 'theres', 'offence', 'lord', 'ham', 'yes', 'saint', 'patricke', 'lord', 'much', 'offence', 'touching', 'vision', 'heere', 'honest', 'ghost', 'let', 'tell', 'desire', 'know', 'betweene', 'vs', 'oremastert', 'may', 'good', 'friends', 'friends', 'schollers', 'soldiers', 'giue', 'one', 'poore', 'request', 'hor', 'ist', 'lord', 'ham', 'neuer', 'make', 'known', 'haue', 'seen', 'night', 'lord', 'ham', 'nay', 'sweart', 'hor', 'infaith', 'lord', 'mar', 'lord', 'faith', 'ham', 'vpon', 'sword', 'marcell', 'haue', 'sworne', 'lord', 'already', 'ham', 'indeed', 'vpon', 'sword', 'indeed', 'gho', 'sweare', 'ghost', 'cries', 'vnder', 'stage', 'ham', 'ah', 'ha', 'boy', 'sayest', 'thou', 'art', 'thou', 'truepenny', 'come', 'one', 'fellow', 'selleredge', 'consent', 'sweare', 'hor', 'propose', 'oath', 'lord', 'ham', 'neuer', 'speake', 'haue', 'seene', 'sweare', 'sword', 'gho', 'sweare', 'ham', 'hic', 'vbique', 'weel', 'shift', 'grownd', 'come', 'hither', 'gentlemen', 'lay', 'hands', 'againe', 'vpon', 'sword', 'neuer', 'speake', 'haue', 'heard', 'sweare', 'sword', 'gho', 'sweare', 'ham', 'well', 'said', 'old', 'mole', 'canst', 'worke', 'ith', 'ground', 'fast', 'worthy', 'pioner', 'remoue', 'good', 'friends', 'hor', 'oh', 'day', 'night', 'wondrous', 'strange', 'ham', 'therefore', 'stranger', 'giue', 'welcome', 'things', 'heauen', 'earth', 'horatio', 'dreamt', 'philosophy', 'come', 'neuer', 'helpe', 'mercy', 'strange', 'odde', 'ere', 'beare', 'selfe', 'perchance', 'heereafter', 'shall', 'thinke', 'meet', 'put', 'anticke', 'disposition', 'time', 'seeing', 'neuer', 'shall', 'armes', 'encombred', 'thus', 'thus', 'head', 'shake', 'pronouncing', 'doubtfull', 'phrase', 'well', 'know', 'could', 'would', 'list', 'speake', 'might', 'ambiguous', 'giuing', 'note', 'know', 'ought', 'doe', 'grace', 'mercy', 'neede', 'helpe', 'sweare', 'ghost', 'sweare', 'ham', 'rest', 'rest', 'perturbed', 'spirit', 'gentlemen', 'loue', 'doe', 'commend', 'poore', 'man', 'hamlet', 'may', 'doe', 'expresse', 'loue', 'friending', 'god', 'willing', 'shall', 'lacke', 'let', 'vs', 'goe', 'together', 'still', 'fingers', 'lippes', 'pray', 'time', 'ioynt', 'oh', 'cursed', 'spight', 'euer', 'borne', 'set', 'right', 'nay', 'come', 'lets', 'goe', 'together', 'exeunt', 'actus', 'secundus', 'enter', 'polonius', 'reynoldo', 'polon', 'giue', 'money', 'notes', 'reynoldo', 'reynol', 'lord', 'polon', 'shall', 'doe', 'maruels', 'wisely', 'good', 'reynoldo', 'visite', 'make', 'inquiry', 'behauiour', 'reynol', 'lord', 'intend', 'polon', 'marry', 'well', 'said', 'well', 'said', 'looke', 'sir', 'enquire', 'first', 'danskers', 'paris', 'meanes', 'keepe', 'company', 'expence', 'finding', 'encompassement', 'drift', 'question', 'doe', 'know', 'sonne', 'come', 'neerer', 'particular', 'demands', 'touch', 'take', 'twere', 'distant', 'knowledge', 'thus', 'know', 'father', 'friends', 'part', 'doe', 'marke', 'reynoldo', 'reynol', 'well', 'lord', 'polon', 'part', 'may', 'say', 'well', 'ift', 'hee', 'meane', 'hees', 'wilde', 'addicted', 'put', 'forgeries', 'please', 'marry', 'none', 'ranke', 'may', 'dishonour', 'take', 'heed', 'sir', 'wanton', 'wild', 'vsuall', 'slips', 'companions', 'noted', 'knowne', 'youth', 'liberty', 'reynol', 'gaming', 'lord', 'polon', 'drinking', 'fencing', 'swearing', 'quarelling', 'drabbing', 'may', 'goe', 'farre', 'reynol', 'lord', 'would', 'dishonour', 'polon', 'faith', 'may', 'season', 'charge', 'must', 'put', 'another', 'scandall', 'hee', 'open', 'incontinencie', 'thats', 'meaning', 'breath', 'faults', 'quaintly', 'may', 'seeme', 'taints', 'liberty', 'flash', 'outbreake', 'fiery', 'minde', 'sauagenes', 'vnreclaimd', 'bloud', 'generall', 'assault', 'reynol', 'good', 'lord', 'polon', 'wherefore', 'doe', 'reynol', 'lord', 'would', 'know', 'polon', 'marry', 'sir', 'heeres', 'drift', 'belieue', 'fetch', 'warrant', 'laying', 'slight', 'sulleyes', 'sonne', 'twere', 'thing', 'little', 'soild', 'ith', 'working', 'marke', 'party', 'conuerse', 'would', 'sound', 'hauing', 'euer', 'seene', 'prenominate', 'crimes', 'youth', 'breath', 'guilty', 'assurd', 'closes', 'consequence', 'good', 'sir', 'friend', 'gentleman', 'according', 'phrase', 'addition', 'man', 'country', 'reynol', 'good', 'lord', 'polon', 'sir', 'say', 'say', 'somthing', 'leaue', 'reynol', 'closes', 'consequence', 'friend', 'gentleman', 'polon', 'closes', 'consequence', 'marry', 'closes', 'thus', 'know', 'gentleman', 'saw', 'yesterday', 'tother', 'day', 'say', 'gaming', 'oretooke', 'ins', 'rouse', 'falling', 'tennis', 'perchance', 'saw', 'enter', 'house', 'saile', 'videlicet', 'brothell', 'forth', 'see', 'bait', 'falshood', 'takes', 'cape', 'truth', 'thus', 'doe', 'wisedome', 'reach', 'windlesses', 'assaies', 'bias', 'indirections', 'finde', 'directions', 'former', 'lecture', 'aduice', 'shall', 'sonne', 'haue', 'haue', 'reynol', 'lord', 'haue', 'polon', 'god', 'buy', 'fare', 'well', 'reynol', 'good', 'lord', 'polon', 'obserue', 'inclination', 'selfe', 'reynol', 'shall', 'lord', 'polon', 'let', 'plye', 'musicke', 'reynol', 'well', 'lord', 'enter', 'enter', 'ophelia', 'polon', 'farewell', 'ophelia', 'whats', 'matter', 'ophe', 'alas', 'lord', 'haue', 'beene', 'affrighted', 'polon', 'name', 'heauen', 'ophe', 'lord', 'sowing', 'chamber', 'lord', 'hamlet', 'doublet', 'vnbracd', 'hat', 'vpon', 'head', 'stockings', 'fould', 'vngartred', 'downe', 'giued', 'anckle', 'pale', 'shirt', 'knees', 'knocking', 'looke', 'pitious', 'purport', 'loosed', 'hell', 'speake', 'horrors', 'comes', 'polon', 'mad', 'thy', 'loue', 'ophe', 'lord', 'doe', 'know', 'truly', 'feare', 'polon', 'said', 'ophe', 'tooke', 'wrist', 'held', 'hard', 'goes', 'length', 'arme', 'hand', 'thus', 'ore', 'brow', 'fals', 'perusall', 'face', 'would', 'draw', 'long', 'staid', 'last', 'little', 'shaking', 'mine', 'arme', 'thrice', 'head', 'thus', 'wauing', 'vp', 'downe', 'raisd', 'sigh', 'pittious', 'profound', 'seeme', 'shatter', 'bulke', 'end', 'done', 'lets', 'goe', 'head', 'ouer', 'shoulders', 'turnd', 'seemd', 'finde', 'way', 'without', 'eyes', 'adores', 'went', 'without', 'helpe', 'last', 'bended', 'light', 'polon', 'goe', 'goe', 'seeke', 'king', 'extasie', 'loue', 'whose', 'violent', 'property', 'foredoes', 'selfe', 'leads', 'desperate', 'vndertakings', 'oft', 'passion', 'vnder', 'heauen', 'afflict', 'natures', 'sorrie', 'haue', 'giuen', 'hard', 'words', 'late', 'ophe', 'good', 'lord', 'command', 'repell', 'letters', 'denyde', 'accesse', 'pol', 'hath', 'made', 'mad', 'sorrie', 'better', 'speed', 'iudgement', 'quoted', 'feare', 'trifle', 'meant', 'wracke', 'thee', 'beshrew', 'iealousie', 'seemes', 'proper', 'age', 'cast', 'beyond', 'selues', 'opinions', 'common', 'yonger', 'sort', 'lacke', 'discretion', 'come', 'go', 'king', 'must', 'knowne', 'kept', 'close', 'might', 'moue', 'greefe', 'hide', 'hate', 'vtter', 'loue', 'exeunt', 'scena', 'secunda', 'enter', 'king', 'queene', 'rosincrane', 'guildensterne', 'cum', 'alijs', 'king', 'welcome', 'deere', 'rosincrance', 'guildensterne', 'moreouer', 'much', 'long', 'see', 'neede', 'haue', 'vse', 'prouoke', 'hastie', 'sending', 'something', 'haue', 'heard', 'hamlets', 'transformation', 'call', 'since', 'th', 'exterior', 'inward', 'man', 'resembles', 'bee', 'fathers', 'death', 'thus', 'hath', 'put', 'much', 'th', 'vnderstanding', 'himselfe', 'deeme', 'intreat', 'young', 'dayes', 'brought', 'vp', 'since', 'neighbourd', 'youth', 'humour', 'vouchsafe', 'rest', 'heere', 'court', 'little', 'time', 'companies', 'draw', 'pleasures', 'gather', 'much', 'occasions', 'may', 'gleane', 'opend', 'lies', 'within', 'remedie', 'qu', 'good', 'gentlemen', 'hath', 'much', 'talkd', 'sure', 'two', 'men', 'liuing', 'adheres', 'please', 'shew', 'vs', 'much', 'gentrie', 'good', 'expend', 'time', 'vs', 'awhile', 'supply', 'profit', 'hope', 'visitation', 'shall', 'receiue', 'thankes', 'fits', 'kings', 'remembrance', 'rosin', 'maiesties', 'might', 'soueraigne', 'power', 'haue', 'vs', 'put', 'dread', 'pleasures', 'command', 'entreatie', 'guil', 'obey', 'giue', 'vp', 'selues', 'full', 'bent', 'lay', 'seruices', 'freely', 'feete', 'commanded', 'king', 'thankes', 'rosincrance', 'gentle', 'guildensterne', 'qu', 'thankes', 'guildensterne', 'gentle', 'rosincrance', 'beseech', 'instantly', 'visit', 'much', 'changed', 'sonne', 'go', 'ye', 'bring', 'gentlemen', 'hamlet', 'guil', 'heauens', 'make', 'presence', 'practises', 'pleasant', 'helpfull', 'enter', 'queene', 'amen', 'enter', 'polonius', 'pol', 'th', 'ambassadors', 'norwey', 'good', 'lord', 'ioyfully', 'returnd', 'king', 'thou', 'still', 'hast', 'bin', 'father', 'good', 'newes', 'pol', 'haue', 'lord', 'assure', 'good', 'liege', 'hold', 'dutie', 'hold', 'soule', 'god', 'one', 'gracious', 'king', 'thinke', 'else', 'braine', 'mine', 'hunts', 'traile', 'policie', 'sure', 'haue', 'vsd', 'haue', 'found', 'cause', 'hamlets', 'lunacie', 'king', 'oh', 'speake', 'long', 'heare', 'pol', 'giue', 'first', 'admittance', 'th', 'ambassadors', 'newes', 'shall', 'newes', 'great', 'feast', 'king', 'thy', 'selfe', 'grace', 'bring', 'tels', 'sweet', 'queene', 'hath', 'found', 'head', 'sourse', 'sonnes', 'distemper', 'qu', 'doubt', 'maine', 'fathers', 'death', 'orehasty', 'marriage', 'enter', 'polonius', 'voltumand', 'cornelius', 'king', 'well', 'shall', 'sift', 'welcome', 'good', 'frends', 'say', 'voltumand', 'brother', 'norwey', 'volt', 'faire', 'returne', 'greetings', 'desires', 'vpon', 'first', 'sent', 'suppresse', 'nephewes', 'leuies', 'appeard', 'preparation', 'gainst', 'poleak', 'better', 'lookd', 'truly', 'found', 'highnesse', 'whereat', 'greeued', 'sicknesse', 'age', 'impotence', 'falsely', 'borne', 'hand', 'sends', 'arrests', 'fortinbras', 'breefe', 'obeyes', 'receiues', 'rebuke', 'norwey', 'fine', 'makes', 'vow', 'vnkle', 'neuer', 'giue', 'th', 'assay', 'armes', 'maiestie', 'whereon', 'old', 'norwey', 'ouercome', 'ioy', 'giues', 'three', 'thousand', 'crownes', 'annuall', 'fee', 'commission', 'imploy', 'soldiers', 'leuied', 'poleak', 'intreaty', 'heerein', 'shewne', 'might', 'please', 'giue', 'quiet', 'passe', 'dominions', 'enterprize', 'regards', 'safety', 'allowance', 'therein', 'set', 'downe', 'king', 'likes', 'vs', 'well', 'considerd', 'time', 'weel', 'read', 'answer', 'thinke', 'vpon', 'businesse', 'meane', 'time', 'thanke', 'welltooke', 'labour', 'go', 'rest', 'night', 'weel', 'feast', 'together', 'welcome', 'home', 'exit', 'ambass', 'pol', 'businesse', 'well', 'ended', 'liege', 'madam', 'expostulate', 'maiestie', 'dutie', 'day', 'day', 'night', 'night', 'time', 'time', 'nothing', 'waste', 'night', 'day', 'time', 'therefore', 'since', 'breuitie', 'soule', 'wit', 'tediousnesse', 'limbes', 'outward', 'flourishes', 'breefe', 'noble', 'sonne', 'mad', 'mad', 'call', 'define', 'true', 'madnesse', 'ist', 'nothing', 'else', 'mad', 'let', 'go', 'qu', 'matter', 'lesse', 'art', 'pol', 'madam', 'sweare', 'vse', 'art', 'mad', 'tis', 'true', 'tis', 'true', 'tis', 'pittie', 'pittie', 'true', 'foolish', 'figure', 'farewell', 'vse', 'art', 'mad', 'let', 'vs', 'grant', 'remaines', 'finde', 'cause', 'effect', 'rather', 'say', 'cause', 'defect', 'effect', 'defectiue', 'comes', 'cause', 'thus', 'remaines', 'remainder', 'thus', 'perpend', 'haue', 'daughter', 'haue', 'whilst', 'mine', 'dutie', 'obedience', 'marke', 'hath', 'giuen', 'gather', 'surmise', 'letter', 'celestiall', 'soules', 'idoll', 'beautifed', 'ophelia', 'thats', 'ill', 'phrase', 'vilde', 'phrase', 'beautified', 'vilde', 'phrase', 'shall', 'heare', 'excellent', 'white', 'bosome', 'qu', 'came', 'hamlet', 'pol', 'good', 'madam', 'stay', 'awhile', 'faithfull', 'doubt', 'thou', 'starres', 'fire', 'doubt', 'sunne', 'doth', 'moue', 'doubt', 'truth', 'lier', 'neuer', 'doubt', 'loue', 'deere', 'ophelia', 'ill', 'numbers', 'haue', 'art', 'reckon', 'grones', 'loue', 'thee', 'best', 'oh', 'best', 'beleeue', 'adieu', 'thine', 'euermore', 'deere', 'lady', 'whilst', 'machine', 'hamlet', 'obedience', 'hath', 'daughter', 'shewd', 'aboue', 'hath', 'soliciting', 'fell', 'time', 'meanes', 'place', 'giuen', 'mine', 'eare', 'king', 'hath', 'receiud', 'loue', 'pol', 'thinke', 'king', 'man', 'faithfull', 'honourable', 'pol', 'wold', 'faine', 'proue', 'might', 'think', 'seene', 'hot', 'loue', 'wing', 'perceiued', 'must', 'tell', 'daughter', 'told', 'might', 'deere', 'maiestie', 'queene', 'heere', 'think', 'playd', 'deske', 'tablebooke', 'giuen', 'heart', 'winking', 'mute', 'dumbe', 'lookd', 'vpon', 'loue', 'idle', 'sight', 'might', 'thinke', 'went', 'round', 'worke', 'yong', 'mistris', 'thus', 'bespeake', 'lord', 'hamlet', 'prince', 'thy', 'starre', 'must', 'precepts', 'gaue', 'locke', 'selfe', 'resort', 'admit', 'messengers', 'receiue', 'tokens', 'done', 'tooke', 'fruites', 'aduice', 'repulsed', 'short', 'tale', 'make', 'fell', 'sadnesse', 'fast', 'thence', 'watch', 'thence', 'weaknesse', 'thence', 'lightnesse', 'declension', 'madnesse', 'whereon', 'raues', 'waile', 'king', 'thinke', 'tis', 'qu', 'may', 'likely', 'pol', 'hath', 'bene', 'time', 'ide', 'fain', 'know', 'haue', 'possitiuely', 'said', 'tis', 'proud', 'otherwise', 'king', 'know', 'pol', 'take', 'otherwise', 'circumstances', 'leade', 'finde', 'truth', 'hid', 'though', 'hid', 'indeede', 'within', 'center', 'king', 'may', 'try', 'pol', 'know', 'sometimes', 'walkes', 'foure', 'houres', 'together', 'heere', 'lobby', 'qu', 'indeed', 'pol', 'time', 'ile', 'loose', 'daughter', 'behinde', 'arras', 'marke', 'encounter', 'loue', 'reason', 'falne', 'thereon', 'let', 'assistant', 'state', 'keepe', 'farme', 'carters', 'king', 'try', 'enter', 'hamlet', 'reading', 'booke', 'qu', 'looke', 'sadly', 'poore', 'wretch', 'comes', 'reading', 'pol', 'away', 'beseech', 'away', 'ile', 'boord', 'presently', 'exit', 'king', 'queen', 'oh', 'giue', 'leaue', 'good', 'lord', 'hamlet', 'ham', 'well', 'godamercy', 'pol', 'know', 'lord', 'ham', 'excellent', 'excellent', 'well', 'yare', 'fishmonger', 'pol', 'lord', 'ham', 'would', 'honest', 'man', 'pol', 'honest', 'lord', 'ham', 'sir', 'honest', 'world', 'goes', 'bee', 'one', 'man', 'pickd', 'two', 'thousand', 'pol', 'thats', 'true', 'lord', 'ham', 'sun', 'breed', 'magots', 'dead', 'dogge', 'good', 'kissing', 'carrion', 'haue', 'daughter', 'pol', 'haue', 'lord', 'ham', 'let', 'walke', 'ithsunne', 'conception', 'blessing', 'daughter', 'may', 'conceiue', 'friend', 'looke', 'toot', 'pol', 'say', 'still', 'harping', 'daughter', 'yet', 'knew', 'first', 'said', 'fishmonger', 'farre', 'gone', 'farre', 'gone', 'truly', 'youth', 'suffred', 'much', 'extreamity', 'loue', 'neere', 'ile', 'speake', 'againe', 'read', 'lord', 'ham', 'words', 'words', 'words', 'pol', 'matter', 'lord', 'ham', 'betweene', 'pol', 'meane', 'matter', 'meane', 'lord', 'ham', 'slanders', 'sir', 'satyricall', 'slaue', 'saies', 'old', 'men', 'haue', 'gray', 'beards', 'faces', 'wrinkled', 'eyes', 'purging', 'thicke', 'amber', 'plumtree', 'gumme', 'haue', 'plentifull', 'locke', 'wit', 'together', 'weake', 'hammes', 'sir', 'though', 'powerfully', 'potently', 'beleeue', 'yet', 'holde', 'honestie', 'haue', 'thus', 'set', 'downe', 'selfe', 'sir', 'old', 'like', 'crab', 'could', 'go', 'backward', 'pol', 'though', 'madnesse', 'yet', 'method', 'int', 'walke', 'ayre', 'lord', 'ham', 'graue', 'pol', 'indeed', 'oth', 'ayre', 'pregnant', 'sometimes', 'replies', 'happinesse', 'often', 'madnesse', 'hits', 'reason', 'sanitie', 'could', 'prosperously', 'deliuerd', 'leaue', 'sodainely', 'contriue', 'meanes', 'meeting', 'betweene', 'daughter', 'honourable', 'lord', 'humbly', 'take', 'leaue', 'ham', 'sir', 'take', 'thing', 'willingly', 'part', 'withall', 'except', 'life', 'life', 'polon', 'fare', 'well', 'lord', 'ham', 'tedious', 'old', 'fooles', 'polon', 'goe', 'seeke', 'lord', 'hamlet', 'hee', 'enter', 'rosincran', 'guildensterne', 'rosin', 'god', 'saue', 'sir', 'guild', 'mine', 'honourd', 'lord', 'rosin', 'deare', 'lord', 'ham', 'excellent', 'good', 'friends', 'dost', 'thou', 'guildensterne', 'oh', 'rosincrane', 'good', 'lads', 'doe', 'ye', 'rosin', 'indifferent', 'children', 'earth', 'guild', 'happy', 'ouerhappy', 'fortunes', 'cap', 'button', 'ham', 'soales', 'shoo', 'rosin', 'neither', 'lord', 'ham', 'liue', 'waste', 'middle', 'fauour', 'guil', 'faith', 'priuates', 'ham', 'secret', 'parts', 'fortune', 'oh', 'true', 'strumpet', 'whats', 'newes', 'rosin', 'none', 'lord', 'worlds', 'growne', 'honest', 'ham', 'doomesday', 'neere', 'newes', 'true', 'let', 'question', 'particular', 'haue', 'good', 'friends', 'deserued', 'hands', 'fortune', 'sends', 'prison', 'hither', 'guil', 'prison', 'lord', 'ham', 'denmarks', 'prison', 'rosin', 'world', 'one', 'ham', 'goodly', 'one', 'many', 'confines', 'wards', 'dungeons', 'denmarke', 'one', 'oth', 'worst', 'rosin', 'thinke', 'lord', 'ham', 'tis', 'none', 'nothing', 'either', 'good', 'bad', 'thinking', 'makes', 'prison', 'rosin', 'ambition', 'makes', 'one', 'tis', 'narrow', 'minde', 'ham', 'god', 'could', 'bounded', 'nutshell', 'count', 'selfe', 'king', 'infinite', 'space', 'haue', 'bad', 'dreames', 'guil', 'dreames', 'indeed', 'ambition', 'substance', 'ambitious', 'meerely', 'shadow', 'dreame', 'ham', 'dreame', 'selfe', 'shadow', 'rosin', 'truely', 'hold', 'ambition', 'ayry', 'light', 'quality', 'shadowes', 'shadow', 'ham', 'beggers', 'bodies', 'monarchs', 'outstretcht', 'heroes', 'beggers', 'shadowes', 'shall', 'wee', 'th', 'court', 'fey', 'reason', 'weel', 'wait', 'vpon', 'ham', 'matter', 'sort', 'rest', 'seruants', 'speake', 'like', 'honest', 'man', 'dreadfully', 'attended', 'beaten', 'way', 'friendship', 'make', 'elsonower', 'rosin', 'visit', 'lord', 'occasion', 'ham', 'begger', 'euen', 'poore', 'thankes', 'thanke', 'sure', 'deare', 'friends', 'thanks', 'deare', 'halfepeny', 'sent', 'owne', 'inclining', 'free', 'visitation', 'come', 'deale', 'iustly', 'come', 'come', 'nay', 'speake', 'guil', 'say', 'lord', 'ham', 'thing', 'purpose', 'sent', 'kinde', 'confession', 'lookes', 'modesties', 'haue', 'craft', 'enough', 'color', 'know', 'good', 'king', 'queene', 'haue', 'sent', 'rosin', 'end', 'lord', 'ham', 'must', 'teach', 'let', 'mee', 'coniure', 'rights', 'fellowship', 'consonancy', 'youth', 'obligation', 'euerpreserued', 'loue', 'deare', 'better', 'proposer', 'could', 'charge', 'withall', 'euen', 'direct', 'whether', 'sent', 'rosin', 'say', 'ham', 'nay', 'haue', 'eye', 'loue', 'hold', 'guil', 'lord', 'sent', 'ham', 'tell', 'shall', 'anticipation', 'preuent', 'discouery', 'secricie', 'king', 'queene', 'moult', 'feather', 'haue', 'late', 'wherefore', 'know', 'lost', 'mirth', 'forgone', 'custome', 'exercise', 'indeed', 'goes', 'heauenly', 'disposition', 'goodly', 'frame', 'earth', 'seemes', 'sterrill', 'promontory', 'excellent', 'canopy', 'ayre', 'look', 'braue', 'orehanging', 'maiesticall', 'roofe', 'fretted', 'golden', 'fire', 'appeares', 'thing', 'mee', 'foule', 'pestilent', 'congregation', 'vapours', 'piece', 'worke', 'man', 'noble', 'reason', 'infinite', 'faculty', 'forme', 'mouing', 'expresse', 'admirable', 'action', 'like', 'angel', 'apprehension', 'like', 'god', 'beauty', 'world', 'parragon', 'animals', 'yet', 'quintessence', 'dust', 'man', 'delights', 'woman', 'neither', 'though', 'smiling', 'seeme', 'say', 'rosin', 'lord', 'stuffe', 'thoughts', 'ham', 'laugh', 'said', 'man', 'delights', 'rosin', 'thinke', 'lord', 'delight', 'man', 'lenton', 'entertainment', 'players', 'shall', 'receiue', 'wee', 'coated', 'way', 'hither', 'comming', 'offer', 'seruice', 'ham', 'playes', 'king', 'shall', 'welcome', 'maiesty', 'shall', 'haue', 'tribute', 'mee', 'aduenturous', 'knight', 'shal', 'vse', 'foyle', 'target', 'louer', 'shall', 'sigh', 'gratis', 'humorous', 'man', 'shall', 'end', 'part', 'peace', 'clowne', 'shall', 'make', 'laugh', 'whose', 'lungs', 'tickled', 'ath', 'sere', 'lady', 'shall', 'say', 'minde', 'freely', 'blanke', 'verse', 'shall', 'halt', 'fort', 'players', 'rosin', 'euen', 'wont', 'take', 'delight', 'tragedians', 'city', 'ham', 'chances', 'trauaile', 'residence', 'reputation', 'profit', 'better', 'wayes', 'rosin', 'thinke', 'inhibition', 'comes', 'meanes', 'late', 'innouation', 'ham', 'doe', 'hold', 'estimation', 'city', 'followd', 'rosin', 'indeed', 'ham', 'comes', 'doe', 'grow', 'rusty', 'rosin', 'nay', 'indeauour', 'keepes', 'wonted', 'pace', 'sir', 'ayrie', 'children', 'little', 'yases', 'crye', 'top', 'question', 'tyrannically', 'clapt', 'fort', 'fashion', 'beratled', 'common', 'stages', 'call', 'many', 'wearing', 'rapiers', 'affraide', 'goosequils', 'dare', 'scarse', 'come', 'thither', 'ham', 'children', 'maintains', 'em', 'escorted', 'pursue', 'quality', 'longer', 'sing', 'say', 'afterwards', 'grow', 'themselues', 'common', 'players', 'like', 'meanes', 'better', 'writers', 'wrong', 'make', 'exclaim', 'owne', 'succession', 'rosin', 'faith', 'bene', 'much', 'sides', 'nation', 'holds', 'sinne', 'tarre', 'controuersie', 'mony', 'bid', 'argument', 'vnlesse', 'poet', 'player', 'went', 'cuffes', 'question', 'ham', 'ist', 'possible', 'guild', 'oh', 'beene', 'much', 'throwing', 'braines', 'ham', 'boyes', 'carry', 'away', 'rosin', 'lord', 'hercules', 'load', 'ham', 'strange', 'mine', 'vnckle', 'king', 'denmarke', 'would', 'make', 'mowes', 'father', 'liued', 'giue', 'twenty', 'forty', 'hundred', 'ducates', 'peece', 'picture', 'little', 'something', 'naturall', 'philosophie', 'could', 'finde', 'flourish', 'players', 'guil', 'players', 'ham', 'gentlemen', 'welcom', 'elsonower', 'hands', 'come', 'appurtenance', 'welcome', 'fashion', 'ceremony', 'let', 'comply', 'garbe', 'lest', 'extent', 'players', 'tell', 'must', 'shew', 'fairely', 'outward', 'appeare', 'like', 'entertainment', 'welcome', 'vnckle', 'father', 'aunt', 'mother', 'deceiud', 'guil', 'deere', 'lord', 'ham', 'mad', 'north', 'northwest', 'winde', 'southerly', 'know', 'hawke', 'handsaw', 'enter', 'polonius', 'pol', 'well', 'gentlemen', 'ham', 'hearke', 'guildensterne', 'eare', 'hearer', 'great', 'baby', 'see', 'yet', 'swathing', 'clouts', 'rosin', 'happily', 'hes', 'second', 'time', 'come', 'say', 'old', 'man', 'twice', 'childe', 'ham', 'prophesie', 'hee', 'comes', 'tell', 'players', 'mark', 'say', 'right', 'sir', 'monday', 'morning', 'twas', 'indeed', 'pol', 'lord', 'haue', 'newes', 'tell', 'ham', 'lord', 'haue', 'newes', 'tell', 'rossius', 'actor', 'rome', 'pol', 'actors', 'come', 'hither', 'lord', 'ham', 'buzze', 'buzze', 'pol', 'vpon', 'mine', 'honor', 'ham', 'actor', 'asse', 'polon', 'best', 'actors', 'world', 'either', 'tragedie', 'comedie', 'historie', 'pastorall', 'pastoricallcomicallhistoricallpastorall', 'tragicallhistoricall', 'tragicallcomicallhistoricallpastorall', 'scene', 'indiuidible', 'poem', 'vnlimited', 'seneca', 'heauy', 'plautus', 'light', 'law', 'writ', 'liberty', 'onely', 'men', 'ham', 'iephta', 'iudge', 'israel', 'treasure', 'hadst', 'thou', 'pol', 'treasure', 'lord', 'ham', 'one', 'faire', 'daughter', 'loued', 'passing', 'well', 'pol', 'still', 'daughter', 'ham', 'ith', 'right', 'old', 'iephta', 'polon', 'call', 'iephta', 'lord', 'haue', 'daughter', 'loue', 'passing', 'well', 'ham', 'nay', 'followes', 'polon', 'followes', 'lord', 'ha', 'lot', 'god', 'wot', 'know', 'came', 'passe', 'like', 'first', 'rowe', 'pons', 'chanson', 'shew', 'looke', 'abridgements', 'come', 'enter', 'foure', 'fiue', 'players', 'yare', 'welcome', 'masters', 'welcome', 'glad', 'see', 'thee', 'well', 'welcome', 'good', 'friends', 'oh', 'olde', 'friend', 'thy', 'face', 'valiant', 'since', 'saw', 'thee', 'last', 'comst', 'thou', 'beard', 'denmarke', 'yong', 'lady', 'mistris', 'byrlady', 'ladiship', 'neerer', 'heauen', 'saw', 'last', 'altitude', 'choppine', 'pray', 'god', 'voice', 'like', 'peece', 'vncurrant', 'gold', 'crackd', 'within', 'ring', 'masters', 'welcome', 'weel', 'ene', 'tot', 'like', 'french', 'faulconers', 'flie', 'thing', 'see', 'weel', 'haue', 'speech', 'straight', 'come', 'giue', 'vs', 'tast', 'quality', 'come', 'passionate', 'speech', '1play', 'speech', 'lord', 'ham', 'heard', 'thee', 'speak', 'speech', 'neuer', 'acted', 'aboue', 'play', 'remember', 'pleasd', 'million', 'twas', 'cauiarie', 'generall', 'receiud', 'others', 'whose', 'iudgement', 'matters', 'cried', 'top', 'mine', 'excellent', 'play', 'well', 'digested', 'scoenes', 'set', 'downe', 'much', 'modestie', 'cunning', 'remember', 'one', 'said', 'sallets', 'lines', 'make', 'matter', 'sauory', 'matter', 'phrase', 'might', 'indite', 'author', 'affectation', 'cald', 'honest', 'method', 'one', 'cheefe', 'speech', 'cheefely', 'loud', 'twas', 'aeneas', 'tale', 'dido', 'thereabout', 'especially', 'speaks', 'priams', 'slaughter', 'liue', 'memory', 'begin', 'line', 'let', 'see', 'let', 'see', 'rugged', 'pyrrhus', 'like', 'thhyrcanian', 'beast', 'begins', 'pyrrhus', 'rugged', 'pyrrhus', 'whose', 'sable', 'armes', 'blacke', 'purpose', 'night', 'resemble', 'lay', 'couched', 'ominous', 'horse', 'hath', 'dread', 'blacke', 'complexion', 'smeard', 'heraldry', 'dismall', 'head', 'foote', 'take', 'geulles', 'horridly', 'trickd', 'blood', 'fathers', 'mothers', 'daughters', 'sonnes', 'bakd', 'impasted', 'parching', 'streets', 'lend', 'tyrannous', 'damned', 'light', 'vilde', 'murthers', 'roasted', 'wrath', 'fire', 'thus', 'oresized', 'coagulate', 'gore', 'eyes', 'like', 'carbuncles', 'hellish', 'pyrrhus', 'olde', 'grandsire', 'priam', 'seekes', 'pol', 'fore', 'god', 'lord', 'well', 'spoken', 'good', 'accent', 'good', 'discretion', '1player', 'anon', 'findes', 'striking', 'short', 'greekes', 'anticke', 'sword', 'rebellious', 'arme', 'lyes', 'falles', 'repugnant', 'command', 'vnequall', 'match', 'pyrrhus', 'priam', 'driues', 'rage', 'strikes', 'wide', 'whiffe', 'winde', 'fell', 'sword', 'th', 'vnnerued', 'father', 'fals', 'senselesse', 'illium', 'seeming', 'feele', 'blow', 'flaming', 'top', 'stoopes', 'bace', 'hideous', 'crash', 'takes', 'prisoner', 'pyrrhus', 'eare', 'loe', 'sword', 'declining', 'milkie', 'head', 'reuerend', 'priam', 'seemd', 'ith', 'ayre', 'sticke', 'painted', 'tyrant', 'pyrrhus', 'stood', 'like', 'newtrall', 'matter', 'nothing', 'often', 'see', 'storme', 'silence', 'heauens', 'racke', 'stand', 'still', 'bold', 'windes', 'speechlesse', 'orbe', 'hush', 'death', 'anon', 'dreadfull', 'thunder', 'doth', 'rend', 'region', 'pyrrhus', 'pause', 'rowsed', 'vengeance', 'sets', 'new', 'aworke', 'neuer', 'cyclops', 'hammers', 'fall', 'mars', 'armours', 'forgd', 'proofe', 'eterne', 'lesse', 'remorse', 'pyrrhus', 'bleeding', 'sword', 'falles', 'priam', 'thou', 'strumpetfortune', 'gods', 'generall', 'synod', 'take', 'away', 'power', 'breake', 'spokes', 'fallies', 'wheele', 'boule', 'round', 'naue', 'downe', 'hill', 'heauen', 'low', 'fiends', 'pol', 'long', 'ham', 'shall', 'toth', 'barbars', 'beard', 'prythee', 'say', 'hes', 'iigge', 'tale', 'baudry', 'hee', 'sleepes', 'say', 'come', 'hecuba', '1play', 'seen', 'inobled', 'queen', 'ham', 'inobled', 'queene', 'pol', 'thats', 'good', 'inobled', 'queene', 'good', '1play', 'run', 'barefoot', 'vp', 'downe', 'threatning', 'flame', 'bisson', 'rheume', 'clout', 'head', 'late', 'diadem', 'stood', 'robe', 'lanke', 'oreteamed', 'loines', 'blanket', 'th', 'alarum', 'feare', 'caught', 'vp', 'seene', 'tongue', 'venome', 'steepd', 'gainst', 'fortunes', 'state', 'would', 'treason', 'haue', 'pronouncd', 'gods', 'themselues', 'see', 'saw', 'pyrrhus', 'make', 'malicious', 'sport', 'mincing', 'sword', 'husbands', 'limbes', 'instant', 'burst', 'clamour', 'made', 'vnlesse', 'things', 'mortall', 'moue', 'would', 'haue', 'made', 'milche', 'burning', 'eyes', 'heauen', 'passion', 'gods', 'pol', 'looke', 'turnd', 'colour', 'teares', 'ins', 'eyes', 'pray', 'ham', 'tis', 'well', 'ile', 'haue', 'thee', 'speake', 'rest', 'soone', 'good', 'lord', 'see', 'players', 'wel', 'bestowd', 'ye', 'heare', 'let', 'well', 'vsd', 'abstracts', 'breefe', 'chronicles', 'time', 'death', 'better', 'haue', 'bad', 'epitaph', 'ill', 'report', 'liued', 'pol', 'lord', 'vse', 'according', 'desart', 'ham', 'gods', 'bodykins', 'man', 'better', 'vse', 'euerie', 'man', 'desart', 'scape', 'whipping', 'vse', 'honor', 'dignity', 'lesse', 'deserue', 'merit', 'bountie', 'take', 'pol', 'come', 'sirs', 'exit', 'polon', 'ham', 'follow', 'friends', 'weel', 'heare', 'play', 'morrow', 'dost', 'thou', 'heare', 'old', 'friend', 'play', 'murther', 'gonzago', 'play', 'lord', 'ham', 'weel', 'hat', 'morrow', 'night', 'could', 'need', 'study', 'speech', 'dosen', 'sixteene', 'lines', 'would', 'set', 'downe', 'insert', 'int', 'could', 'ye', 'play', 'lord', 'ham', 'well', 'follow', 'lord', 'looke', 'mock', 'good', 'friends', 'ile', 'leaue', 'til', 'night', 'welcome', 'elsonower', 'rosin', 'good', 'lord', 'exeunt', 'manet', 'hamlet', 'ham', 'god', 'buyye', 'alone', 'oh', 'rogue', 'pesant', 'slaue', 'monstrous', 'player', 'heere', 'fixion', 'dreame', 'passion', 'could', 'force', 'soule', 'whole', 'conceit', 'working', 'visage', 'warmd', 'teares', 'eyes', 'distraction', 'ins', 'aspect', 'broken', 'voyce', 'whole', 'function', 'suiting', 'formes', 'conceit', 'nothing', 'hecuba', 'whats', 'hecuba', 'hecuba', 'weepe', 'would', 'doe', 'motiue', 'cue', 'passion', 'haue', 'would', 'drowne', 'stage', 'teares', 'cleaue', 'generall', 'eare', 'horrid', 'speech', 'make', 'mad', 'guilty', 'apale', 'free', 'confound', 'ignorant', 'amaze', 'indeed', 'faculty', 'eyes', 'eares', 'yet', 'dull', 'muddymetled', 'rascall', 'peake', 'like', 'iohn', 'adreames', 'vnpregnant', 'cause', 'say', 'nothing', 'king', 'vpon', 'whose', 'property', 'deere', 'life', 'damnd', 'defeate', 'made', 'coward', 'calles', 'villaine', 'breakes', 'pate', 'acrosse', 'pluckes', 'beard', 'blowes', 'face', 'tweakes', 'byth', 'nose', 'giues', 'lye', 'ith', 'throate', 'deepe', 'lungs', 'ha', 'take', 'pigeonliuerd', 'lacke', 'gall', 'make', 'oppression', 'bitter', 'ere', 'haue', 'fatted', 'region', 'kites', 'slaues', 'offall', 'bloudy', 'bawdy', 'villaine', 'remorselesse', 'treacherous', 'letcherous', 'kindles', 'villaine', 'oh', 'vengeance', 'asse', 'sure', 'braue', 'sonne', 'deere', 'murthered', 'prompted', 'reuenge', 'heauen', 'hell', 'must', 'like', 'whore', 'vnpacke', 'heart', 'words', 'fall', 'cursing', 'like', 'drab', 'scullion', 'fye', 'vpont', 'foh', 'braine', 'haue', 'heard', 'guilty', 'creatures', 'sitting', 'play', 'haue', 'cunning', 'scoene', 'bene', 'strooke', 'soule', 'presently', 'haue', 'proclaimd', 'malefactions', 'murther', 'though', 'haue', 'tongue', 'speake', 'myraculous', 'organ', 'ile', 'haue', 'players', 'play', 'something', 'like', 'murder', 'father', 'mine', 'vnkle', 'ile', 'obserue', 'lookes', 'ile', 'rent', 'quicke', 'blench', 'know', 'course', 'spirit', 'haue', 'seene', 'may', 'diuell', 'diuel', 'hath', 'power', 'assume', 'pleasing', 'shape', 'yea', 'perhaps', 'weaknesse', 'melancholly', 'potent', 'spirits', 'abuses', 'damne', 'ile', 'haue', 'grounds', 'relatiue', 'plays', 'thing', 'wherein', 'ile', 'catch', 'conscience', 'king', 'exit', 'enter', 'king', 'queene', 'polonius', 'ophelia', 'rosincrance', 'guildenstern', 'lords', 'king', 'drift', 'circumstance', 'get', 'puts', 'confusion', 'grating', 'harshly', 'dayes', 'quiet', 'turbulent', 'dangerous', 'lunacy', 'rosin', 'confesse', 'feeles', 'himselfe', 'distracted', 'cause', 'meanes', 'speake', 'guil', 'finde', 'forward', 'sounded', 'crafty', 'madnesse', 'keepes', 'aloofe', 'would', 'bring', 'confession', 'true', 'state', 'qu', 'receiue', 'well', 'rosin', 'like', 'gentleman', 'guild', 'much', 'forcing', 'disposition', 'rosin', 'niggard', 'question', 'demands', 'free', 'reply', 'qu', 'assay', 'pastime', 'rosin', 'madam', 'fell', 'certaine', 'players', 'orewrought', 'way', 'told', 'seeme', 'kinde', 'ioy', 'heare', 'court', 'thinke', 'haue', 'already', 'order', 'night', 'play', 'pol', 'tis', 'true', 'beseechd', 'intreate', 'maiesties', 'heare', 'see', 'matter', 'king', 'heart', 'doth', 'much', 'content', 'heare', 'inclind', 'good', 'gentlemen', 'giue', 'edge', 'driue', 'purpose', 'delights', 'rosin', 'shall', 'lord', 'exeunt', 'king', 'sweet', 'gertrude', 'leaue', 'vs', 'haue', 'closely', 'sent', 'hamlet', 'hither', 'twere', 'accident', 'may', 'affront', 'ophelia', 'father', 'selfe', 'lawful', 'espials', 'bestow', 'selues', 'seeing', 'vnseene', 'may', 'encounter', 'frankely', 'iudge', 'gather', 'behaued', 'ift', 'th', 'affliction', 'loue', 'thus', 'suffers', 'qu', 'shall', 'obey', 'part', 'ophelia', 'wish', 'good', 'beauties', 'happy', 'cause', 'hamlets', 'wildenesse', 'shall', 'hope', 'vertues', 'bring', 'wonted', 'way', 'againe', 'honors', 'ophe', 'madam', 'wish', 'may', 'pol', 'ophelia', 'walke', 'heere', 'gracious', 'please', 'ye', 'bestow', 'selues', 'reade', 'booke', 'shew', 'exercise', 'may', 'colour', 'lonelinesse', 'oft', 'blame', 'tis', 'much', 'proud', 'deuotions', 'visage', 'pious', 'action', 'surge', 'ore', 'diuell', 'himselfe', 'king', 'oh', 'tis', 'true', 'smart', 'lash', 'speech', 'doth', 'giue', 'conscience', 'harlots', 'cheeke', 'beautied', 'plaistring', 'art', 'vgly', 'thing', 'helpes', 'deede', 'painted', 'word', 'oh', 'heauie', 'burthen', 'pol', 'heare', 'comming', 'lets', 'withdraw', 'lord', 'exeunt', 'enter', 'hamlet', 'ham', 'question', 'whether', 'tis', 'nobler', 'minde', 'suffer', 'slings', 'arrowes', 'outragious', 'fortune', 'take', 'armes', 'sea', 'troubles', 'opposing', 'end', 'dye', 'sleepe', 'sleepe', 'say', 'end', 'heartake', 'thousand', 'naturall', 'shockes', 'flesh', 'heyre', 'tis', 'consummation', 'deuoutly', 'wishd', 'dye', 'sleepe', 'sleepe', 'perchance', 'dreame', 'theres', 'rub', 'sleepe', 'death', 'dreames', 'may', 'come', 'haue', 'shuffeld', 'mortall', 'coile', 'must', 'giue', 'vs', 'pawse', 'theres', 'respect', 'makes', 'calamity', 'long', 'life', 'would', 'beare', 'whips', 'scornes', 'time', 'oppressors', 'wrong', 'poore', 'mans', 'contumely', 'pangs', 'disprizd', 'loue', 'lawes', 'delay', 'insolence', 'office', 'spurnes', 'patient', 'merit', 'vnworthy', 'takes', 'himselfe', 'might', 'quietus', 'make', 'bare', 'bodkin', 'would', 'fardles', 'beare', 'grunt', 'sweat', 'vnder', 'weary', 'life', 'dread', 'something', 'death', 'vndiscouered', 'countrey', 'whose', 'borne', 'traueller', 'returnes', 'puzels', 'makes', 'vs', 'rather', 'beare', 'illes', 'haue', 'flye', 'others', 'know', 'thus', 'conscience', 'make', 'cowards', 'vs', 'thus', 'natiue', 'hew', 'resolution', 'sicklied', 'ore', 'pale', 'cast', 'thought', 'enterprizes', 'great', 'pith', 'moment', 'regard', 'currants', 'turne', 'away', 'loose', 'name', 'action', 'soft', 'faire', 'ophelia', 'nimph', 'thy', 'orizons', 'sinnes', 'remembred', 'ophe', 'good', 'lord', 'honor', 'many', 'day', 'ham', 'humbly', 'thanke', 'well', 'well', 'well', 'ophe', 'lord', 'haue', 'remembrances', 'haue', 'longed', 'long', 'redeliuer', 'pray', 'receiue', 'ham', 'neuer', 'gaue', 'ought', 'ophe', 'honord', 'lord', 'know', 'right', 'well', 'words', 'sweet', 'breath', 'composd', 'made', 'things', 'rich', 'perfume', 'left', 'take', 'againe', 'noble', 'minde', 'rich', 'gifts', 'wax', 'poore', 'giuers', 'proue', 'vnkinde', 'lord', 'ham', 'ha', 'ha', 'honest', 'ophe', 'lord', 'ham', 'faire', 'ophe', 'meanes', 'lordship', 'ham', 'honest', 'faire', 'honesty', 'admit', 'discourse', 'beautie', 'ophe', 'could', 'beautie', 'lord', 'haue', 'better', 'comerce', 'honestie', 'ham', 'trulie', 'power', 'beautie', 'sooner', 'transforme', 'honestie', 'bawd', 'force', 'honestie', 'translate', 'beautie', 'likenesse', 'sometime', 'paradox', 'time', 'giues', 'proofe', 'loue', 'ophe', 'indeed', 'lord', 'made', 'beleeue', 'ham', 'haue', 'beleeued', 'vertue', 'innocculate', 'old', 'stocke', 'shall', 'rellish', 'loued', 'ophe', 'deceiued', 'ham', 'get', 'thee', 'nunnerie', 'wouldst', 'thou', 'breeder', 'sinners', 'selfe', 'indifferent', 'honest', 'yet', 'could', 'accuse', 'things', 'better', 'mother', 'borne', 'prowd', 'reuengefull', 'ambitious', 'offences', 'becke', 'haue', 'thoughts', 'put', 'imagination', 'giue', 'shape', 'time', 'acte', 'fellowes', 'crawling', 'betweene', 'heauen', 'earth', 'arrant', 'knaues', 'beleeue', 'none', 'vs', 'goe', 'thy', 'wayes', 'nunnery', 'wheres', 'father', 'ophe', 'home', 'lord', 'ham', 'let', 'doores', 'shut', 'vpon', 'may', 'play', 'foole', 'way', 'ins', 'owne', 'house', 'farewell', 'ophe', 'helpe', 'sweet', 'heauens', 'ham', 'thou', 'doest', 'marry', 'ile', 'giue', 'thee', 'plague', 'thy', 'dowrie', 'thou', 'chast', 'ice', 'pure', 'snow', 'thou', 'shalt', 'escape', 'calumny', 'get', 'thee', 'nunnery', 'go', 'farewell', 'thou', 'wilt', 'needs', 'marry', 'marry', 'fool', 'wise', 'men', 'know', 'well', 'enough', 'monsters', 'make', 'nunnery', 'go', 'quickly', 'farwell', 'ophe', 'heauenly', 'powers', 'restore', 'ham', 'haue', 'heard', 'pratlings', 'wel', 'enough', 'god', 'giuen', 'one', 'pace', 'make', 'selfe', 'another', 'gidge', 'amble', 'lispe', 'nickname', 'gods', 'creatures', 'make', 'wantonnesse', 'ignorance', 'go', 'ile', 'ont', 'hath', 'made', 'mad', 'say', 'haue', 'marriages', 'married', 'already', 'one', 'shall', 'liue', 'rest', 'shall', 'keep', 'nunnery', 'go', 'exit', 'hamlet', 'ophe', 'noble', 'minde', 'heere', 'orethrowne', 'courtiers', 'soldiers', 'schollers', 'eye', 'tongue', 'sword', 'th', 'expectansie', 'rose', 'faire', 'state', 'glasse', 'fashion', 'mould', 'forme', 'th', 'obserud', 'obseruers', 'quite', 'quite', 'downe', 'haue', 'ladies', 'deiect', 'wretched', 'suckd', 'honie', 'musicke', 'vowes', 'see', 'noble', 'soueraigne', 'reason', 'like', 'sweet', 'bels', 'iangled', 'tune', 'harsh', 'vnmatchd', 'forme', 'feature', 'blowne', 'youth', 'blasted', 'extasie', 'oh', 'woe', 'thaue', 'seene', 'haue', 'seene', 'see', 'see', 'enter', 'king', 'polonius', 'king', 'loue', 'affections', 'way', 'tend', 'spake', 'though', 'lackd', 'forme', 'little', 'like', 'madnesse', 'theres', 'something', 'soule', 'ore', 'melancholly', 'sits', 'brood', 'doubt', 'hatch', 'disclose', 'danger', 'preuent', 'haue', 'quicke', 'determination', 'thus', 'set', 'downe', 'shall', 'speed', 'england', 'demand', 'neglected', 'tribute', 'haply', 'seas', 'countries', 'different', 'variable', 'obiects', 'shall', 'expell', 'something', 'setled', 'matter', 'heart', 'whereon', 'braines', 'still', 'beating', 'puts', 'thus', 'fashion', 'himselfe', 'thinke', 'ont', 'pol', 'shall', 'well', 'yet', 'beleeue', 'origin', 'commencement', 'greefe', 'sprung', 'neglected', 'loue', 'ophelia', 'neede', 'tell', 'vs', 'lord', 'hamlet', 'saide', 'heard', 'lord', 'please', 'hold', 'fit', 'play', 'let', 'queene', 'mother', 'alone', 'intreat', 'shew', 'greefes', 'let', 'round', 'ile', 'placd', 'please', 'eare', 'conference', 'finde', 'england', 'send', 'confine', 'wisedome', 'best', 'shall', 'thinke', 'king', 'shall', 'madnesse', 'great', 'ones', 'must', 'vnwatchd', 'go', 'exeunt', 'enter', 'hamlet', 'two', 'three', 'players', 'ham', 'speake', 'speech', 'pray', 'pronouncd', 'trippingly', 'tongue', 'mouth', 'many', 'players', 'liue', 'towncryer', 'spoke', 'lines', 'saw', 'ayre', 'much', 'hand', 'thus', 'vse', 'gently', 'verie', 'torrent', 'tempest', 'say', 'whirlewinde', 'passion', 'must', 'acquire', 'beget', 'temperance', 'may', 'giue', 'smoothnesse', 'offends', 'mee', 'soule', 'see', 'robustious', 'perywigpated', 'fellow', 'teare', 'passion', 'tatters', 'verie', 'ragges', 'split', 'eares', 'groundlings', 'part', 'capeable', 'nothing', 'inexplicable', 'dumbe', 'shewes', 'noise', 'could', 'haue', 'fellow', 'whipt', 'oredoing', 'termagant', 'outherods', 'herod', 'pray', 'auoid', 'player', 'warrant', 'honor', 'ham', 'tame', 'neyther', 'let', 'owne', 'discretion', 'tutor', 'sute', 'action', 'word', 'word', 'action', 'speciall', 'obseruance', 'orestop', 'modestie', 'nature', 'thing', 'ouerdone', 'purpose', 'playing', 'whose', 'end', 'first', 'hold', 'twer', 'mirrour', 'vp', 'nature', 'shew', 'vertue', 'owne', 'feature', 'scorne', 'owne', 'image', 'verie', 'age', 'bodie', 'time', 'forme', 'pressure', 'ouerdone', 'come', 'tardie', 'though', 'make', 'vnskilfull', 'laugh', 'make', 'iudicious', 'greeue', 'censure', 'one', 'must', 'allowance', 'oreway', 'whole', 'theater', 'others', 'oh', 'bee', 'players', 'haue', 'seene', 'play', 'heard', 'others', 'praise', 'highly', 'speake', 'prophanely', 'neyther', 'hauing', 'accent', 'christians', 'gate', 'christian', 'pagan', 'norman', 'haue', 'strutted', 'bellowed', 'haue', 'thought', 'natures', 'iouerneymen', 'made', 'men', 'made', 'well', 'imitated', 'humanity', 'abhominably', 'play', 'hope', 'haue', 'reformd', 'indifferently', 'vs', 'sir', 'ham', 'reforme', 'altogether', 'let', 'play', 'clownes', 'speake', 'set', 'downe', 'themselues', 'laugh', 'set', 'quantitie', 'barren', 'spectators', 'laugh', 'though', 'meane', 'time', 'necessary', 'question', 'play', 'considered', 'thats', 'villanous', 'shewes', 'pittifull', 'ambition', 'foole', 'vses', 'go', 'make', 'readie', 'exit', 'players', 'enter', 'polonius', 'rosincrance', 'guildensterne', 'lord', 'king', 'heare', 'peece', 'worke', 'pol', 'queene', 'presently', 'ham', 'bid', 'players', 'make', 'hast', 'exit', 'polonius', 'two', 'helpe', 'hasten', 'lord', 'exeunt', 'enter', 'horatio', 'ham', 'hoa', 'horatio', 'hora', 'heere', 'sweet', 'lord', 'seruice', 'ham', 'horatio', 'thou', 'art', 'eene', 'iust', 'man', 'ere', 'conuersation', 'coapd', 'withall', 'hora', 'deere', 'lord', 'ham', 'nay', 'thinke', 'flatter', 'aduancement', 'may', 'hope', 'thee', 'reuennew', 'hast', 'thy', 'good', 'spirits', 'feed', 'cloath', 'thee', 'shold', 'poor', 'flatterd', 'let', 'candied', 'tongue', 'like', 'absurd', 'pompe', 'crooke', 'pregnant', 'hindges', 'knee', 'thrift', 'may', 'follow', 'faining', 'dost', 'thou', 'heare', 'since', 'deere', 'soule', 'mistris', 'choyse', 'could', 'men', 'distinguish', 'election', 'hath', 'seald', 'thee', 'selfe', 'thou', 'hast', 'bene', 'one', 'suffering', 'suffers', 'nothing', 'man', 'fortunes', 'buffets', 'rewards', 'hath', 'tane', 'equall', 'thankes', 'blest', 'whose', 'blood', 'iudgement', 'well', 'comingled', 'pipe', 'fortunes', 'finger', 'sound', 'stop', 'please', 'giue', 'man', 'passions', 'slaue', 'weare', 'hearts', 'core', 'heart', 'heart', 'thee', 'something', 'much', 'play', 'night', 'king', 'one', 'scoene', 'comes', 'neere', 'circumstance', 'haue', 'told', 'thee', 'fathers', 'death', 'prythee', 'thou', 'seest', 'acte', 'afoot', 'euen', 'verie', 'comment', 'soule', 'obserue', 'mine', 'vnkle', 'occulted', 'guilt', 'selfe', 'vnkennell', 'one', 'speech', 'damned', 'ghost', 'haue', 'seene', 'imaginations', 'foule', 'vulcans', 'stythe', 'giue', 'needfull', 'note', 'mine', 'eyes', 'riuet', 'face', 'iudgements', 'ioyne', 'censure', 'seeming', 'hora', 'well', 'lord', 'steale', 'ought', 'whilst', 'play', 'playing', 'scape', 'detecting', 'pay', 'theft', 'enter', 'king', 'queene', 'polonius', 'ophelia', 'rosincrance', 'guildensterne', 'lords', 'attendant', 'guard', 'carrying', 'torches', 'danish', 'march', 'sound', 'flourish', 'ham', 'comming', 'play', 'must', 'idle', 'get', 'place', 'king', 'fares', 'cosin', 'hamlet', 'ham', 'excellent', 'ifaith', 'camelions', 'dish', 'eate', 'ayre', 'promisecrammd', 'feed', 'capons', 'king', 'haue', 'nothing', 'answer', 'hamlet', 'words', 'mine', 'ham', 'mine', 'lord', 'plaid', 'ith', 'vniuersity', 'say', 'polon', 'lord', 'accounted', 'good', 'actor', 'ham', 'enact', 'pol', 'enact', 'iulius', 'caesar', 'killd', 'ith', 'capitol', 'brutus', 'killd', 'ham', 'bruite', 'part', 'kill', 'capitall', 'calfe', 'players', 'ready', 'rosin', 'lord', 'stay', 'vpon', 'patience', 'qu', 'come', 'hither', 'good', 'hamlet', 'sit', 'ha', 'good', 'mother', 'heres', 'mettle', 'attractiue', 'pol', 'oh', 'ho', 'marke', 'ham', 'ladie', 'shall', 'lye', 'lap', 'ophe', 'lord', 'ham', 'meane', 'head', 'vpon', 'lap', 'ophe', 'lord', 'ham', 'thinke', 'meant', 'country', 'matters', 'ophe', 'thinke', 'nothing', 'lord', 'ham', 'thats', 'faire', 'thought', 'ly', 'betweene', 'maids', 'legs', 'ophe', 'lord', 'ham', 'nothing', 'ophe', 'merrie', 'lord', 'ham', 'ophe', 'lord', 'ham', 'oh', 'god', 'onely', 'iiggemaker', 'man', 'merrie', 'looke', 'cheerefully', 'mother', 'lookes', 'father', 'dyed', 'withins', 'two', 'houres', 'ophe', 'nay', 'tis', 'twice', 'two', 'moneths', 'lord', 'ham', 'long', 'nay', 'let', 'diuel', 'weare', 'blacke', 'ile', 'haue', 'suite', 'sables', 'oh', 'heauens', 'dye', 'two', 'moneths', 'ago', 'forgotten', 'yet', 'theres', 'hope', 'great', 'mans', 'memorie', 'may', 'outliue', 'life', 'halfe', 'yeare', 'byrlady', 'must', 'builde', 'churches', 'else', 'shall', 'suffer', 'thinking', 'hobyhorsse', 'whose', 'epitaph', 'hobyhorse', 'forgot', 'hoboyes', 'play', 'dumbe', 'shew', 'enters', 'enter', 'king', 'queene', 'louingly', 'queene', 'embracing', 'kneeles', 'makes', 'shew', 'protestation', 'vnto', 'takes', 'vp', 'declines', 'head', 'vpon', 'neck', 'layes', 'downe', 'vpon', 'banke', 'flowers', 'seeing', 'asleepe', 'leaues', 'anon', 'comes', 'fellow', 'takes', 'crowne', 'kisses', 'powres', 'poyson', 'kings', 'eares', 'exits', 'queene', 'returnes', 'findes', 'king', 'dead', 'makes', 'passionate', 'action', 'poysoner', 'two', 'three', 'mutes', 'comes', 'againe', 'seeming', 'lament', 'dead', 'body', 'carried', 'away', 'poysoner', 'wooes', 'queene', 'gifts', 'seemes', 'loath', 'vnwilling', 'awhile', 'end', 'accepts', 'loue', 'exeunt', 'ophe', 'meanes', 'lord', 'ham', 'marry', 'miching', 'malicho', 'meanes', 'mischeefe', 'ophe', 'belike', 'shew', 'imports', 'argument', 'play', 'ham', 'shall', 'know', 'fellowes', 'players', 'keepe', 'counsell', 'theyl', 'tell', 'ophe', 'tell', 'vs', 'shew', 'meant', 'ham', 'shew', 'youl', 'shew', 'bee', 'ashamd', 'shew', 'heel', 'shame', 'tell', 'meanes', 'ophe', 'naught', 'naught', 'ile', 'marke', 'play', 'enter', 'prologue', 'vs', 'tragedie', 'heere', 'stooping', 'clemencie', 'begge', 'hearing', 'patientlie', 'ham', 'prologue', 'poesie', 'ring', 'ophe', 'tis', 'briefe', 'lord', 'ham', 'womans', 'loue', 'enter', 'king', 'queene', 'king', 'full', 'thirtie', 'times', 'hath', 'phoebus', 'cart', 'gon', 'round', 'neptunes', 'salt', 'wash', 'tellus', 'orbed', 'ground', 'thirtie', 'dozen', 'moones', 'borrowed', 'sheene', 'world', 'haue', 'times', 'twelue', 'thirties', 'beene', 'since', 'loue', 'hearts', 'hymen', 'hands', 'vnite', 'comutuall', 'sacred', 'bands', 'bap', 'many', 'iournies', 'may', 'sunne', 'moone', 'make', 'vs', 'againe', 'count', 'ore', 'ere', 'loue', 'done', 'woe', 'sicke', 'late', 'farre', 'cheere', 'former', 'state', 'distrust', 'yet', 'though', 'distrust', 'discomfort', 'lord', 'nothing', 'must', 'womens', 'feare', 'loue', 'holds', 'quantitie', 'neither', 'ought', 'extremity', 'loue', 'proofe', 'hath', 'made', 'know', 'loue', 'sizd', 'feare', 'king', 'faith', 'must', 'leaue', 'thee', 'loue', 'shortly', 'operant', 'powers', 'functions', 'leaue', 'thou', 'shalt', 'liue', 'faire', 'world', 'behinde', 'honourd', 'beloud', 'haply', 'one', 'kinde', 'husband', 'shalt', 'thou', 'bap', 'oh', 'confound', 'rest', 'loue', 'must', 'needs', 'treason', 'brest', 'second', 'husband', 'let', 'accurst', 'none', 'wed', 'second', 'killd', 'first', 'ham', 'wormwood', 'wormwood', 'bapt', 'instances', 'second', 'marriage', 'moue', 'base', 'respects', 'thrift', 'none', 'loue', 'second', 'time', 'kill', 'husband', 'dead', 'second', 'husband', 'kisses', 'bed', 'king', 'beleeue', 'think', 'speak', 'determine', 'oft', 'breake', 'purpose', 'slaue', 'memorie', 'violent', 'birth', 'poore', 'validitie', 'like', 'fruite', 'vnripe', 'stickes', 'tree', 'fall', 'vnshaken', 'mellow', 'bee', 'necessary', 'tis', 'forget', 'pay', 'selues', 'selues', 'debt', 'selues', 'passion', 'propose', 'passion', 'ending', 'doth', 'purpose', 'lose', 'violence', 'greefe', 'ioy', 'owne', 'ennactors', 'themselues', 'destroy', 'ioy', 'reuels', 'greefe', 'doth', 'lament', 'greefe', 'ioyes', 'ioy', 'greeues', 'slender', 'accident', 'world', 'aye', 'tis', 'strange', 'euen', 'loues', 'fortunes', 'change', 'tis', 'question', 'left', 'vs', 'yet', 'proue', 'whether', 'loue', 'lead', 'fortune', 'else', 'fortune', 'loue', 'great', 'man', 'downe', 'marke', 'fauourites', 'flies', 'poore', 'aduancd', 'makes', 'friends', 'enemies', 'hitherto', 'doth', 'loue', 'fortune', 'tend', 'needs', 'shall', 'neuer', 'lacke', 'frend', 'want', 'hollow', 'friend', 'doth', 'try', 'directly', 'seasons', 'enemie', 'orderly', 'end', 'begun', 'willes', 'fates', 'contrary', 'run', 'deuices', 'still', 'ouerthrowne', 'thoughts', 'ends', 'none', 'owne', 'thinke', 'thou', 'wilt', 'second', 'husband', 'wed', 'die', 'thy', 'thoughts', 'thy', 'first', 'lord', 'dead', 'bap', 'earth', 'giue', 'food', 'heauen', 'light', 'sport', 'repose', 'locke', 'day', 'night', 'opposite', 'blankes', 'face', 'ioy', 'meet', 'would', 'haue', 'well', 'destroy', 'heere', 'hence', 'pursue', 'lasting', 'strife', 'widdow', 'euer', 'wife', 'ham', 'breake', 'king', 'tis', 'deepely', 'sworne', 'sweet', 'leaue', 'heere', 'spirits', 'grow', 'dull', 'faine', 'would', 'beguile', 'tedious', 'day', 'sleepe', 'qu', 'sleepe', 'rocke', 'thy', 'braine', 'sleepes', 'neuer', 'come', 'mischance', 'betweene', 'vs', 'twaine', 'exit', 'ham', 'madam', 'like', 'play', 'qu', 'lady', 'protests', 'much', 'thinkes', 'ham', 'oh', 'sheel', 'keepe', 'word', 'king', 'haue', 'heard', 'argument', 'offence', 'int', 'ham', 'iest', 'poyson', 'iest', 'offence', 'ith', 'world', 'king', 'call', 'play', 'ham', 'mousetrap', 'marry', 'tropically', 'play', 'image', 'murder', 'done', 'vienna', 'gonzago', 'dukes', 'name', 'wife', 'baptista', 'shall', 'see', 'anon', 'tis', 'knauish', 'peece', 'worke', 'othat', 'maiestie', 'wee', 'haue', 'free', 'soules', 'touches', 'vs', 'let', 'galld', 'iade', 'winch', 'withers', 'vnrung', 'enter', 'lucianus', 'one', 'lucianus', 'nephew', 'king', 'ophe', 'good', 'chorus', 'lord', 'ham', 'could', 'interpret', 'betweene', 'loue', 'could', 'see', 'puppets', 'dallying', 'ophe', 'keene', 'lord', 'keene', 'ham', 'would', 'cost', 'groaning', 'take', 'edge', 'ophe', 'still', 'better', 'worse', 'ham', 'mistake', 'husbands', 'begin', 'murderer', 'pox', 'leaue', 'thy', 'damnable', 'faces', 'begin', 'come', 'croaking', 'rauen', 'doth', 'bellow', 'reuenge', 'lucian', 'thoughts', 'blacke', 'hands', 'apt', 'drugges', 'fit', 'time', 'agreeing', 'confederate', 'season', 'else', 'creature', 'seeing', 'thou', 'mixture', 'ranke', 'midnight', 'weeds', 'collected', 'hecats', 'ban', 'thrice', 'blasted', 'thrice', 'infected', 'thy', 'naturall', 'magicke', 'dire', 'propertie', 'wholsome', 'life', 'vsurpe', 'immediately', 'powres', 'poyson', 'eares', 'ham', 'poysons', 'ith', 'garden', 'fors', 'estate', 'names', 'gonzago', 'story', 'extant', 'writ', 'choyce', 'italian', 'shall', 'see', 'anon', 'murtherer', 'gets', 'loue', 'gonzagos', 'wife', 'ophe', 'king', 'rises', 'ham', 'frighted', 'false', 'fire', 'qu', 'fares', 'lord', 'pol', 'giue', 'ore', 'play', 'king', 'giue', 'light', 'away', 'lights', 'lights', 'lights', 'exeunt', 'manet', 'hamlet', 'horatio', 'ham', 'let', 'strucken', 'deere', 'go', 'weepe', 'hart', 'vngalled', 'play', 'must', 'watch', 'must', 'sleepe', 'runnes', 'world', 'away', 'would', 'sir', 'forrest', 'feathers', 'rest', 'fortunes', 'turne', 'turke', 'two', 'prouinciall', 'roses', 'racd', 'shooes', 'get', 'fellowship', 'crie', 'players', 'sir', 'hor', 'halfe', 'share', 'ham', 'whole', 'one', 'thou', 'dost', 'know', 'oh', 'damon', 'deere', 'realme', 'dismantled', 'ioue', 'himselfe', 'reignes', 'heere', 'verie', 'verie', 'paiocke', 'hora', 'might', 'haue', 'rimd', 'ham', 'oh', 'good', 'horatio', 'ile', 'take', 'ghosts', 'word', 'thousand', 'pound', 'didst', 'perceiue', 'hora', 'verie', 'well', 'lord', 'ham', 'vpon', 'talke', 'poysoning', 'hora', 'verie', 'well', 'note', 'enter', 'rosincrance', 'guildensterne', 'ham', 'oh', 'ha', 'come', 'musick', 'come', 'recorders', 'king', 'like', 'comedie', 'belike', 'likes', 'perdie', 'come', 'musicke', 'guild', 'good', 'lord', 'vouchsafe', 'word', 'ham', 'sir', 'whole', 'history', 'guild', 'king', 'sir', 'ham', 'sir', 'guild', 'retyrement', 'maruellous', 'distemperd', 'ham', 'drinke', 'sir', 'guild', 'lord', 'rather', 'choller', 'ham', 'wisedome', 'shew', 'selfe', 'richer', 'signifie', 'doctor', 'put', 'purgation', 'would', 'perhaps', 'plundge', 'farre', 'choller', 'guild', 'good', 'lord', 'put', 'discourse', 'frame', 'start', 'wildely', 'affayre', 'ham', 'tame', 'sir', 'pronounce', 'guild', 'queene', 'mother', 'great', 'affliction', 'spirit', 'hath', 'sent', 'ham', 'welcome', 'guild', 'nay', 'good', 'lord', 'courtesie', 'right', 'breed', 'shall', 'please', 'make', 'wholsome', 'answer', 'doe', 'mothers', 'commandment', 'pardon', 'returne', 'shall', 'bee', 'end', 'businesse', 'ham', 'sir', 'guild', 'lord', 'ham', 'make', 'wholsome', 'answere', 'wits', 'diseasd', 'sir', 'answers', 'make', 'shal', 'command', 'rather', 'say', 'mother', 'therfore', 'matter', 'mother', 'say', 'rosin', 'thus', 'sayes', 'behauior', 'hath', 'stroke', 'amazement', 'admiration', 'ham', 'oh', 'wonderfull', 'sonne', 'astonish', 'mother', 'sequell', 'heeles', 'mothers', 'admiration', 'rosin', 'desires', 'speake', 'closset', 'ere', 'go', 'bed', 'ham', 'shall', 'obey', 'ten', 'times', 'mother', 'haue', 'trade', 'vs', 'rosin', 'lord', 'loue', 'ham', 'still', 'pickers', 'stealers', 'rosin', 'good', 'lord', 'cause', 'distemper', 'freely', 'barre', 'doore', 'owne', 'libertie', 'deny', 'greefes', 'friend', 'ham', 'sir', 'lacke', 'aduancement', 'rosin', 'haue', 'voyce', 'king', 'himselfe', 'succession', 'denmarke', 'ham', 'grasse', 'growes', 'prouerbe', 'something', 'musty', 'enter', 'one', 'recorder', 'recorder', 'let', 'see', 'withdraw', 'go', 'recouer', 'winde', 'mee', 'would', 'driue', 'toyle', 'guild', 'lord', 'dutie', 'bold', 'loue', 'vnmannerly', 'ham', 'well', 'vnderstand', 'play', 'vpon', 'pipe', 'guild', 'lord', 'ham', 'pray', 'guild', 'beleeue', 'ham', 'beseech', 'guild', 'know', 'touch', 'lord', 'ham', 'tis', 'easie', 'lying', 'gouerne', 'ventiges', 'finger', 'thumbe', 'giue', 'breath', 'mouth', 'discourse', 'excellent', 'musicke', 'looke', 'stoppes', 'guild', 'command', 'vtterance', 'hermony', 'haue', 'skill', 'ham', 'looke', 'vnworthy', 'thing', 'make', 'would', 'play', 'vpon', 'mee', 'would', 'seeme', 'know', 'stops', 'would', 'pluck', 'heart', 'mysterie', 'would', 'sound', 'mee', 'lowest', 'note', 'top', 'compasse', 'much', 'musicke', 'excellent', 'voice', 'little', 'organe', 'yet', 'make', 'thinke', 'easier', 'bee', 'plaid', 'pipe', 'call', 'instrument', 'though', 'fret', 'play', 'vpon', 'god', 'blesse', 'sir', 'enter', 'polonius', 'polon', 'lord', 'queene', 'would', 'speak', 'presently', 'ham', 'see', 'clowd', 'thats', 'almost', 'shape', 'like', 'camell', 'polon', 'byth', 'masse', 'like', 'camell', 'indeed', 'ham', 'thinkes', 'like', 'weazell', 'polon', 'backd', 'like', 'weazell', 'ham', 'like', 'whale', 'polon', 'verie', 'like', 'whale', 'ham', 'come', 'mother', 'foole', 'top', 'bent', 'come', 'polon', 'say', 'enter', 'ham', 'easily', 'said', 'leaue', 'friends', 'tis', 'verie', 'witching', 'time', 'night', 'churchyards', 'yawne', 'hell', 'selfe', 'breaths', 'contagion', 'world', 'could', 'drink', 'hot', 'blood', 'bitter', 'businesse', 'day', 'would', 'quake', 'looke', 'soft', 'mother', 'oh', 'heart', 'loose', 'thy', 'nature', 'let', 'euer', 'soule', 'nero', 'enter', 'firme', 'bosome', 'let', 'cruell', 'vnnaturall', 'speake', 'daggers', 'vse', 'none', 'tongue', 'soule', 'hypocrites', 'words', 'someuer', 'shent', 'giue', 'seales', 'neuer', 'soule', 'consent', 'enter', 'king', 'rosincrance', 'guildensterne', 'king', 'like', 'stands', 'safe', 'vs', 'let', 'madnesse', 'range', 'therefore', 'prepare', 'commission', 'forthwith', 'dispatch', 'england', 'shall', 'along', 'termes', 'estate', 'may', 'endure', 'hazard', 'dangerous', 'doth', 'hourely', 'grow', 'lunacies', 'guild', 'selues', 'prouide', 'holie', 'religious', 'feare', 'keepe', 'many', 'many', 'bodies', 'safe', 'liue', 'feede', 'vpon', 'maiestie', 'rosin', 'single', 'peculiar', 'life', 'bound', 'strength', 'armour', 'minde', 'keepe', 'selfe', 'noyance', 'much', 'spirit', 'vpon', 'whose', 'spirit', 'depends', 'rests', 'liues', 'many', 'cease', 'maiestie', 'dies', 'alone', 'like', 'gulfe', 'doth', 'draw', 'whats', 'neere', 'massie', 'wheele', 'fixt', 'somnet', 'highest', 'mount', 'whose', 'huge', 'spoakes', 'ten', 'thousand', 'lesser', 'things', 'mortizd', 'adioynd', 'falles', 'small', 'annexment', 'pettie', 'consequence', 'attends', 'boystrous', 'ruine', 'neuer', 'alone', 'king', 'sighe', 'generall', 'grone', 'king', 'arme', 'pray', 'speedie', 'voyage', 'fetters', 'put', 'vpon', 'feare', 'goes', 'freefooted', 'haste', 'vs', 'exeunt', 'gent', 'enter', 'polonius', 'pol', 'lord', 'hes', 'going', 'mothers', 'closset', 'behinde', 'arras', 'ile', 'conuey', 'selfe', 'heare', 'processe', 'ile', 'warrant', 'sheel', 'tax', 'home', 'said', 'wisely', 'said', 'tis', 'meete', 'audience', 'mother', 'since', 'nature', 'makes', 'partiall', 'oreheare', 'speech', 'vantage', 'fare', 'well', 'liege', 'ile', 'call', 'vpon', 'ere', 'go', 'bed', 'tell', 'know', 'king', 'thankes', 'deere', 'lord', 'oh', 'offence', 'ranke', 'smels', 'heauen', 'hath', 'primall', 'eldest', 'curse', 'vpont', 'brothers', 'murther', 'pray', 'though', 'inclination', 'sharpe', 'stronger', 'guilt', 'defeats', 'strong', 'intent', 'like', 'man', 'double', 'businesse', 'bound', 'stand', 'pause', 'shall', 'first', 'begin', 'neglect', 'cursed', 'hand', 'thicker', 'selfe', 'brothers', 'blood', 'raine', 'enough', 'sweet', 'heauens', 'wash', 'white', 'snow', 'whereto', 'serues', 'mercy', 'confront', 'visage', 'offence', 'whats', 'prayer', 'twofold', 'force', 'forestalled', 'ere', 'come', 'fall', 'pardond', 'downe', 'ile', 'looke', 'vp', 'fault', 'past', 'oh', 'forme', 'prayer', 'serue', 'turne', 'forgiue', 'foule', 'murther', 'since', 'still', 'possest', 'effects', 'murther', 'crowne', 'mine', 'owne', 'ambition', 'queene', 'may', 'one', 'pardond', 'retaine', 'th', 'offence', 'corrupted', 'currants', 'world', 'offences', 'gilded', 'hand', 'may', 'shoue', 'iustice', 'oft', 'tis', 'seene', 'wicked', 'prize', 'selfe', 'buyes', 'law', 'tis', 'aboue', 'shuffling', 'action', 'lyes', 'true', 'nature', 'selues', 'compelld', 'euen', 'teeth', 'forehead', 'faults', 'giue', 'euidence', 'rests', 'try', 'repentance', 'yet', 'one', 'repent', 'oh', 'wretched', 'state', 'oh', 'bosome', 'blacke', 'death', 'oh', 'limed', 'soule', 'strugling', 'free', 'art', 'ingagd', 'helpe', 'angels', 'make', 'assay', 'bow', 'stubborne', 'knees', 'heart', 'strings', 'steele', 'soft', 'sinewes', 'newborne', 'babe', 'may', 'well', 'enter', 'hamlet', 'ham', 'might', 'pat', 'praying', 'ile', 'doot', 'goes', 'heauen', 'reuengd', 'would', 'scannd', 'villaine', 'killes', 'father', 'foule', 'sonne', 'villaine', 'send', 'heauen', 'oh', 'hyre', 'sallery', 'reuenge', 'tooke', 'father', 'grossely', 'full', 'bread', 'crimes', 'broad', 'blowne', 'fresh', 'may', 'audit', 'stands', 'knowes', 'saue', 'heauen', 'circumstance', 'course', 'thought', 'tis', 'heauie', 'reuengd', 'take', 'purging', 'soule', 'fit', 'seasond', 'passage', 'vp', 'sword', 'know', 'thou', 'horrid', 'hent', 'drunke', 'asleepe', 'rage', 'th', 'incestuous', 'pleasure', 'bed', 'gaming', 'swearing', 'acte', 'rellish', 'saluation', 'int', 'trip', 'heeles', 'may', 'kicke', 'heauen', 'soule', 'may', 'damnd', 'blacke', 'hell', 'whereto', 'goes', 'mother', 'stayes', 'physicke', 'prolongs', 'thy', 'sickly', 'dayes', 'enter', 'king', 'words', 'flye', 'vp', 'thoughts', 'remain', 'words', 'without', 'thoughts', 'neuer', 'heauen', 'go', 'enter', 'enter', 'queene', 'polonius', 'pol', 'come', 'straight', 'looke', 'lay', 'home', 'tell', 'prankes', 'haue', 'broad', 'beare', 'grace', 'hath', 'screend', 'stoode', 'betweene', 'much', 'heate', 'ile', 'silence', 'eene', 'heere', 'pray', 'round', 'ham', 'within', 'mother', 'mother', 'mother', 'qu', 'ile', 'warrant', 'feare', 'withdraw', 'heare', 'coming', 'enter', 'hamlet', 'ham', 'mother', 'whats', 'matter', 'qu', 'hamlet', 'thou', 'hast', 'thy', 'father', 'much', 'offended', 'ham', 'mother', 'haue', 'father', 'much', 'offended', 'qu', 'come', 'come', 'answer', 'idle', 'tongue', 'ham', 'go', 'go', 'question', 'idle', 'tongue', 'qu', 'hamlet', 'ham', 'whats', 'matter', 'qu', 'haue', 'forgot', 'ham', 'rood', 'queene', 'husbands', 'brothers', 'wife', 'would', 'mother', 'qu', 'nay', 'ile', 'set', 'speake', 'ham', 'come', 'come', 'sit', 'downe', 'shall', 'boudge', 'go', 'till', 'set', 'vp', 'glasse', 'may', 'see', 'inmost', 'part', 'qu', 'wilt', 'thou', 'thou', 'wilt', 'murther', 'helpe', 'helpe', 'hoa', 'pol', 'hoa', 'helpe', 'helpe', 'helpe', 'ham', 'rat', 'dead', 'ducate', 'dead', 'pol', 'oh', 'slaine', 'killes', 'polonius', 'qu', 'oh', 'hast', 'thou', 'done', 'ham', 'nay', 'know', 'king', 'qu', 'oh', 'rash', 'bloody', 'deed', 'ham', 'bloody', 'deed', 'almost', 'bad', 'good', 'mother', 'kill', 'king', 'marrie', 'brother', 'qu', 'kill', 'king', 'ham', 'lady', 'twas', 'word', 'thou', 'wretched', 'rash', 'intruding', 'foole', 'farewell', 'tooke', 'thee', 'thy', 'betters', 'take', 'thy', 'fortune', 'thou', 'findst', 'busie', 'danger', 'leaue', 'wringing', 'hands', 'peace', 'sit', 'downe', 'let', 'wring', 'heart', 'shall', 'made', 'penetrable', 'stuffe', 'damned', 'custome', 'haue', 'brazd', 'proofe', 'bulwarke', 'sense', 'qu', 'haue', 'done', 'thou', 'darst', 'wag', 'thy', 'tong', 'noise', 'rude', 'ham', 'act', 'blurres', 'grace', 'blush', 'modestie', 'cals', 'vertue', 'hypocrite', 'takes', 'rose', 'faire', 'forehead', 'innocent', 'loue', 'makes', 'blister', 'makes', 'marriage', 'vowes', 'false', 'dicers', 'oathes', 'oh', 'deed', 'body', 'contraction', 'pluckes', 'soule', 'sweete', 'religion', 'makes', 'rapsidie', 'words', 'heauens', 'face', 'doth', 'glow', 'yea', 'solidity', 'compound', 'masse', 'tristfull', 'visage', 'doome', 'thoughtsicke', 'act', 'qu', 'aye', 'act', 'roares', 'lowd', 'thunders', 'index', 'ham', 'looke', 'heere', 'vpon', 'picture', 'counterfet', 'presentment', 'two', 'brothers', 'see', 'grace', 'seated', 'brow', 'hyperions', 'curles', 'front', 'ioue', 'himselfe', 'eye', 'like', 'mars', 'threaten', 'command', 'station', 'like', 'herald', 'mercurie', 'new', 'lighted', 'heauenkissing', 'hill', 'combination', 'forme', 'indeed', 'euery', 'god', 'seeme', 'set', 'seale', 'giue', 'world', 'assurance', 'man', 'husband', 'looke', 'followes', 'heere', 'husband', 'like', 'mildewd', 'eare', 'blasting', 'wholsom', 'breath', 'haue', 'eyes', 'could', 'faire', 'mountaine', 'leaue', 'feed', 'batten', 'moore', 'ha', 'haue', 'eyes', 'call', 'loue', 'age', 'heyday', 'blood', 'tame', 'humble', 'waites', 'vpon', 'iudgement', 'iudgement', 'would', 'step', 'diuell', 'wast', 'thus', 'hath', 'cousend', 'hoodmanblinde', 'shame', 'thy', 'blush', 'rebellious', 'hell', 'thou', 'canst', 'mutine', 'matrons', 'bones', 'flaming', 'youth', 'let', 'vertue', 'waxe', 'melt', 'owne', 'fire', 'proclaime', 'shame', 'compulsiue', 'ardure', 'giues', 'charge', 'since', 'frost', 'selfe', 'actiuely', 'doth', 'burne', 'reason', 'panders', 'qu', 'hamlet', 'speake', 'thou', 'turnst', 'mine', 'eyes', 'soule', 'see', 'blacke', 'grained', 'spots', 'leaue', 'tinct', 'ham', 'nay', 'liue', 'ranke', 'sweat', 'enseamed', 'bed', 'stewd', 'corruption', 'honying', 'making', 'loue', 'ouer', 'nasty', 'stye', 'qu', 'oh', 'speake', 'words', 'like', 'daggers', 'enter', 'mine', 'eares', 'sweet', 'hamlet', 'ham', 'murderer', 'villaine', 'slaue', 'twentieth', 'part', 'tythe', 'precedent', 'lord', 'vice', 'kings', 'cutpurse', 'empire', 'rule', 'shelfe', 'precious', 'diadem', 'stole', 'put', 'pocket', 'qu', 'enter', 'ghost', 'ham', 'king', 'shreds', 'patches', 'saue', 'houer', 'ore', 'wings', 'heauenly', 'guards', 'would', 'gracious', 'figure', 'qu', 'alas', 'hes', 'mad', 'ham', 'come', 'tardy', 'sonne', 'chide', 'lapst', 'time', 'passion', 'lets', 'go', 'th', 'important', 'acting', 'dread', 'command', 'oh', 'say', 'ghost', 'forget', 'visitation', 'whet', 'thy', 'almost', 'blunted', 'purpose', 'looke', 'amazement', 'thy', 'mother', 'sits', 'step', 'betweene', 'fighting', 'soule', 'conceit', 'weakest', 'bodies', 'strongest', 'workes', 'speake', 'hamlet', 'ham', 'lady', 'qu', 'alas', 'ist', 'bend', 'eye', 'vacancie', 'corporall', 'ayre', 'hold', 'discourse', 'forth', 'eyes', 'spirits', 'wildely', 'peepe', 'sleeping', 'soldiours', 'th', 'alarme', 'bedded', 'haire', 'like', 'life', 'excrements', 'start', 'vp', 'stand', 'end', 'oh', 'gentle', 'sonne', 'vpon', 'heate', 'flame', 'thy', 'distemper', 'sprinkle', 'coole', 'patience', 'whereon', 'looke', 'ham', 'look', 'pale', 'glares', 'forme', 'cause', 'conioynd', 'preaching', 'stones', 'would', 'make', 'capeable', 'looke', 'vpon', 'least', 'pitteous', 'action', 'conuert', 'sterne', 'effects', 'haue', 'want', 'true', 'colour', 'teares', 'perchance', 'blood', 'qu', 'speake', 'ham', 'see', 'nothing', 'qu', 'nothing', 'yet', 'see', 'ham', 'nothing', 'heare', 'qu', 'nothing', 'selues', 'ham', 'look', 'looke', 'steals', 'away', 'father', 'habite', 'liued', 'looke', 'goes', 'euen', 'portall', 'enter', 'qu', 'coynage', 'braine', 'bodilesse', 'creation', 'extasie', 'cunning', 'ham', 'extasie', 'pulse', 'doth', 'temperately', 'keepe', 'time', 'makes', 'healthfull', 'musicke', 'madnesse', 'haue', 'vttered', 'bring', 'test', 'matter', 'reword', 'madnesse', 'would', 'gamboll', 'mother', 'loue', 'grace', 'lay', 'flattering', 'vnction', 'soule', 'trespasse', 'madnesse', 'speakes', 'skin', 'filme', 'vlcerous', 'place', 'whilst', 'ranke', 'corruption', 'mining', 'within', 'infects', 'vnseene', 'confesse', 'selfe', 'heauen', 'repent', 'whats', 'past', 'auoyd', 'come', 'spred', 'compost', 'weedes', 'make', 'ranke', 'forgiue', 'vertue', 'fatnesse', 'pursie', 'times', 'vertue', 'selfe', 'vice', 'must', 'pardon', 'begge', 'yea', 'courb', 'woe', 'leaue', 'good', 'qu', 'oh', 'hamlet', 'thou', 'hast', 'cleft', 'heart', 'twaine', 'ham', 'throw', 'away', 'worser', 'part', 'liue', 'purer', 'halfe', 'good', 'night', 'go', 'mine', 'vnkles', 'bed', 'assume', 'vertue', 'haue', 'refraine', 'night', 'shall', 'lend', 'kinde', 'easinesse', 'next', 'abstinence', 'goodnight', 'desirous', 'blest', 'ile', 'blessing', 'begge', 'lord', 'repent', 'heauen', 'hath', 'pleasd', 'punish', 'must', 'scourge', 'minister', 'bestow', 'answer', 'well', 'death', 'gaue', 'againe', 'good', 'night', 'must', 'cruell', 'onely', 'kinde', 'thus', 'bad', 'begins', 'worse', 'remaines', 'behinde', 'qu', 'shall', 'ham', 'meanes', 'bid', 'let', 'blunt', 'king', 'tempt', 'againe', 'bed', 'pinch', 'wanton', 'cheeke', 'call', 'mouse', 'let', 'paire', 'reechie', 'kisses', 'padling', 'necke', 'damnd', 'fingers', 'make', 'rauell', 'matter', 'essentially', 'madnesse', 'made', 'craft', 'twere', 'good', 'let', 'know', 'thats', 'queene', 'faire', 'sober', 'wise', 'would', 'paddocke', 'bat', 'gibbe', 'deere', 'concernings', 'hide', 'would', 'despight', 'sense', 'secrecie', 'vnpegge', 'basket', 'houses', 'top', 'let', 'birds', 'flye', 'like', 'famous', 'ape', 'try', 'conclusions', 'basket', 'creepe', 'breake', 'owne', 'necke', 'downe', 'qu', 'thou', 'assurd', 'words', 'made', 'breath', 'breath', 'life', 'haue', 'life', 'breath', 'thou', 'hast', 'saide', 'ham', 'must', 'england', 'know', 'qu', 'alacke', 'forgot', 'tis', 'concluded', 'ham', 'man', 'shall', 'set', 'packing', 'ile', 'lugge', 'guts', 'neighbor', 'roome', 'mother', 'goodnight', 'indeede', 'counsellor', 'still', 'secret', 'graue', 'life', 'foolish', 'prating', 'knaue', 'come', 'sir', 'draw', 'toward', 'end', 'good', 'night', 'mother', 'exit', 'hamlet', 'tugging', 'polonius', 'enter', 'king', 'king', 'theres', 'matters', 'sighes', 'profound', 'heaues', 'must', 'translate', 'tis', 'fit', 'vnderstand', 'sonne', 'qu', 'ah', 'good', 'lord', 'haue', 'seene', 'night', 'king', 'gertrude', 'dos', 'hamlet', 'qu', 'mad', 'seas', 'winde', 'contend', 'mightier', 'lawlesse', 'fit', 'behinde', 'arras', 'hearing', 'something', 'stirre', 'whips', 'rapier', 'cries', 'rat', 'rat', 'brainish', 'apprehension', 'killes', 'vnseene', 'good', 'old', 'man', 'king', 'oh', 'heauy', 'deed', 'bin', 'vs', 'beene', 'liberty', 'full', 'threats', 'selfe', 'vs', 'euery', 'one', 'alas', 'shall', 'bloody', 'deede', 'answered', 'laide', 'vs', 'whose', 'prouidence', 'haue', 'kept', 'short', 'restraind', 'haunt', 'mad', 'yong', 'man', 'much', 'loue', 'would', 'vnderstand', 'fit', 'like', 'owner', 'foule', 'disease', 'keepe', 'divulging', 'lets', 'feede', 'euen', 'pith', 'life', 'gone', 'qu', 'draw', 'apart', 'body', 'hath', 'kild', 'ore', 'madnesse', 'like', 'oare', 'among', 'minerall', 'mettels', 'base', 'shewes', 'selfe', 'pure', 'weepes', 'done', 'king', 'oh', 'gertrude', 'come', 'away', 'sun', 'sooner', 'shall', 'mountaines', 'touch', 'ship', 'hence', 'vilde', 'deed', 'must', 'maiesty', 'skill', 'countenance', 'excuse', 'enter', 'ros', 'guild', 'ho', 'guildenstern', 'friends', 'go', 'ioyne', 'ayde', 'hamlet', 'madnesse', 'hath', 'polonius', 'slaine', 'mother', 'clossets', 'hath', 'dragd', 'go', 'seeke', 'speake', 'faire', 'bring', 'body', 'chappell', 'pray', 'hast', 'exit', 'gent', 'come', 'gertrude', 'weel', 'call', 'vp', 'wisest', 'friends', 'let', 'know', 'meane', 'whats', 'vntimely', 'done', 'oh', 'come', 'away', 'soule', 'full', 'discord', 'dismay', 'exeunt', 'enter', 'hamlet', 'ham', 'safely', 'stowed', 'gentlemen', 'within', 'hamlet', 'lord', 'hamlet', 'ham', 'noise', 'cals', 'hamlet', 'oh', 'heere', 'come', 'enter', 'ros', 'guildensterne', 'ro', 'haue', 'done', 'lord', 'dead', 'body', 'ham', 'compounded', 'dust', 'whereto', 'tis', 'kinne', 'rosin', 'tell', 'vs', 'tis', 'may', 'take', 'thence', 'beare', 'chappell', 'ham', 'beleeue', 'rosin', 'beleeue', 'ham', 'keepe', 'counsell', 'mine', 'owne', 'besides', 'demanded', 'spundge', 'replication', 'made', 'sonne', 'king', 'rosin', 'take', 'spundge', 'lord', 'ham', 'sir', 'sokes', 'vp', 'kings', 'countenance', 'rewards', 'authorities', 'officers', 'king', 'best', 'seruice', 'end', 'keepes', 'like', 'ape', 'corner', 'iaw', 'first', 'mouthd', 'last', 'swallowed', 'needes', 'haue', 'gleand', 'squeezing', 'spundge', 'shall', 'dry', 'againe', 'rosin', 'vnderstand', 'lord', 'ham', 'glad', 'knauish', 'speech', 'sleepes', 'foolish', 'eare', 'rosin', 'lord', 'must', 'tell', 'vs', 'body', 'go', 'vs', 'king', 'ham', 'body', 'king', 'king', 'body', 'king', 'thing', 'guild', 'thing', 'lord', 'ham', 'nothing', 'bring', 'hide', 'fox', 'exeunt', 'enter', 'king', 'king', 'haue', 'sent', 'seeke', 'find', 'bodie', 'dangerous', 'man', 'goes', 'loose', 'yet', 'must', 'put', 'strong', 'law', 'hees', 'loued', 'distracted', 'multitude', 'like', 'iudgement', 'eyes', 'tis', 'th', 'offenders', 'scourge', 'weighd', 'neerer', 'offence', 'beare', 'smooth', 'euen', 'sodaine', 'sending', 'away', 'must', 'seeme', 'deliberate', 'pause', 'diseases', 'desperate', 'growne', 'desperate', 'appliance', 'releeued', 'enter', 'rosincrane', 'hath', 'befalne', 'rosin', 'dead', 'body', 'bestowd', 'lord', 'get', 'king', 'rosin', 'without', 'lord', 'guarded', 'know', 'pleasure', 'king', 'bring', 'vs', 'rosin', 'hoa', 'guildensterne', 'bring', 'lord', 'enter', 'hamlet', 'guildensterne', 'king', 'hamlet', 'wheres', 'polonius', 'ham', 'supper', 'king', 'supper', 'ham', 'eats', 'eaten', 'certaine', 'conuocation', 'wormes', 'ene', 'worm', 'onely', 'emperor', 'diet', 'fat', 'creatures', 'else', 'fat', 'vs', 'fat', 'selfe', 'magots', 'fat', 'king', 'leane', 'begger', 'variable', 'seruice', 'dishes', 'one', 'table', 'thats', 'end', 'king', 'dost', 'thou', 'meane', 'ham', 'nothing', 'shew', 'king', 'may', 'go', 'progresse', 'guts', 'begger', 'king', 'polonius', 'ham', 'heauen', 'send', 'thither', 'see', 'messenger', 'finde', 'seeke', 'ith', 'place', 'selfe', 'indeed', 'finde', 'moneth', 'shall', 'nose', 'go', 'vp', 'staires', 'lobby', 'king', 'go', 'seeke', 'ham', 'stay', 'till', 'ye', 'come', 'k', 'hamlet', 'deed', 'thine', 'thine', 'especial', 'safety', 'tender', 'deerely', 'greeue', 'thou', 'hast', 'done', 'must', 'send', 'thee', 'hence', 'fierie', 'quicknesse', 'therefore', 'prepare', 'thy', 'selfe', 'barke', 'readie', 'winde', 'helpe', 'th', 'associates', 'tend', 'euery', 'thing', 'bent', 'england', 'ham', 'england', 'king', 'hamlet', 'ham', 'good', 'king', 'thou', 'knewst', 'purposes', 'ham', 'see', 'cherube', 'sees', 'come', 'england', 'farewell', 'deere', 'mother', 'king', 'thy', 'louing', 'father', 'hamlet', 'hamlet', 'mother', 'father', 'mother', 'man', 'wife', 'man', 'wife', 'one', 'flesh', 'mother', 'come', 'england', 'exit', 'king', 'follow', 'foote', 'tempt', 'speed', 'aboord', 'delay', 'ile', 'haue', 'hence', 'night', 'away', 'euery', 'thing', 'seald', 'done', 'else', 'leanes', 'th', 'affaire', 'pray', 'make', 'hast', 'england', 'loue', 'thou', 'holdst', 'ought', 'great', 'power', 'thereof', 'may', 'giue', 'thee', 'sense', 'since', 'yet', 'thy', 'cicatrice', 'lookes', 'raw', 'red', 'danish', 'sword', 'thy', 'free', 'awe', 'payes', 'homage', 'vs', 'thou', 'maist', 'coldly', 'set', 'soueraigne', 'processe', 'imports', 'full', 'letters', 'coniuring', 'effect', 'present', 'death', 'hamlet', 'england', 'like', 'hecticke', 'blood', 'rages', 'thou', 'must', 'cure', 'till', 'know', 'tis', 'done', 'ere', 'happes', 'ioyes', 'nere', 'begun', 'exit', 'enter', 'fortinbras', 'armie', 'go', 'captaine', 'greet', 'danish', 'king', 'tell', 'license', 'fortinbras', 'claimes', 'conueyance', 'promisd', 'march', 'ouer', 'kingdome', 'know', 'rendeuous', 'maiesty', 'would', 'ought', 'vs', 'shall', 'expresse', 'dutie', 'eye', 'let', 'know', 'cap', 'doot', 'lord', 'go', 'safely', 'enter', 'enter', 'queene', 'horatio', 'qu', 'speake', 'hor', 'importunate', 'indeed', 'distract', 'moode', 'needs', 'pittied', 'qu', 'would', 'haue', 'hor', 'speakes', 'much', 'father', 'saies', 'heares', 'theres', 'trickes', 'ith', 'world', 'hems', 'beats', 'heart', 'spurnes', 'enuiously', 'strawes', 'speakes', 'things', 'doubt', 'carry', 'halfe', 'sense', 'speech', 'nothing', 'yet', 'vnshaped', 'vse', 'doth', 'moue', 'hearers', 'collection', 'ayme', 'botch', 'words', 'vp', 'fit', 'owne', 'thoughts', 'winkes', 'nods', 'gestures', 'yeeld', 'indeed', 'would', 'make', 'one', 'thinke', 'would', 'thought', 'though', 'nothing', 'sure', 'yet', 'much', 'vnhappily', 'qu', 'twere', 'good', 'spoken', 'may', 'strew', 'dangerous', 'coniectures', 'ill', 'breeding', 'minds', 'let', 'come', 'sicke', 'soule', 'sinnes', 'true', 'nature', 'toy', 'seemes', 'prologue', 'great', 'amisse', 'full', 'artlesse', 'iealousie', 'guilt', 'spills', 'selfe', 'fearing', 'spilt', 'enter', 'ophelia', 'distracted', 'ophe', 'beauteous', 'maiesty', 'denmark', 'qu', 'ophelia', 'ophe', 'true', 'loue', 'know', 'another', 'one', 'cockle', 'hat', 'staffe', 'sandal', 'shoone', 'qu', 'alas', 'sweet', 'lady', 'imports', 'song', 'ophe', 'say', 'nay', 'pray', 'marke', 'dead', 'gone', 'lady', 'dead', 'gone', 'head', 'grassegreene', 'turfe', 'heeles', 'stone', 'enter', 'king', 'qu', 'nay', 'ophelia', 'ophe', 'pray', 'marke', 'white', 'shrowd', 'mountaine', 'snow', 'qu', 'alas', 'looke', 'heere', 'lord', 'ophe', 'larded', 'sweet', 'flowers', 'bewept', 'graue', 'go', 'trueloue', 'showres', 'king', 'ye', 'pretty', 'lady', 'ophe', 'well', 'god', 'dild', 'say', 'owle', 'bakers', 'daughter', 'lord', 'wee', 'know', 'know', 'may', 'god', 'table', 'king', 'conceit', 'vpon', 'father', 'ophe', 'pray', 'lets', 'haue', 'words', 'aske', 'meanes', 'say', 'morrow', 'saint', 'valentines', 'day', 'morning', 'betime', 'maid', 'window', 'valentine', 'vp', 'rose', 'dond', 'clothes', 'dupt', 'chamber', 'dore', 'let', 'maid', 'maid', 'neuer', 'departed', 'king', 'pretty', 'ophelia', 'ophe', 'indeed', 'la', 'without', 'oath', 'ile', 'make', 'end', 'ont', 'gis', 'saint', 'charity', 'alacke', 'fie', 'shame', 'yong', 'men', 'wil', 'doot', 'come', 'toot', 'cocke', 'blame', 'quoth', 'tumbled', 'promisd', 'wed', 'would', 'ha', 'done', 'yonder', 'sunne', 'thou', 'hadst', 'come', 'bed', 'king', 'long', 'hath', 'bin', 'thus', 'ophe', 'hope', 'well', 'must', 'bee', 'patient', 'choose', 'weepe', 'thinke', 'lay', 'ith', 'cold', 'ground', 'brother', 'shall', 'knowe', 'thanke', 'good', 'counsell', 'come', 'coach', 'goodnight', 'ladies', 'goodnight', 'sweet', 'ladies', 'goodnight', 'goodnight', 'enter', 'king', 'follow', 'close', 'giue', 'good', 'watch', 'pray', 'oh', 'poyson', 'deepe', 'greefe', 'springs', 'fathers', 'death', 'oh', 'gertrude', 'gertrude', 'sorrowes', 'comes', 'come', 'single', 'spies', 'battalians', 'first', 'father', 'slaine', 'next', 'sonne', 'gone', 'violent', 'author', 'owne', 'iust', 'remoue', 'people', 'muddied', 'thicke', 'vnwholsome', 'thoughts', 'whispers', 'good', 'polonius', 'death', 'haue', 'done', 'greenly', 'hugger', 'mugger', 'interre', 'poore', 'ophelia', 'diuided', 'selfe', 'faire', 'iudgement', 'without', 'pictures', 'meere', 'beasts', 'last', 'much', 'containing', 'brother', 'secret', 'come', 'france', 'keepes', 'wonder', 'keepes', 'himselfe', 'clouds', 'wants', 'buzzers', 'infect', 'eare', 'pestilent', 'speeches', 'fathers', 'death', 'necessitie', 'matter', 'beggard', 'nothing', 'sticke', 'persons', 'arraigne', 'eare', 'eare', 'deere', 'gertrude', 'like', 'murdering', 'peece', 'many', 'places', 'giues', 'superfluous', 'death', 'noise', 'within', 'enter', 'messenger', 'qu', 'alacke', 'noyse', 'king', 'switzers', 'let', 'guard', 'doore', 'matter', 'mes', 'saue', 'selfe', 'lord', 'ocean', 'ouerpeering', 'list', 'eates', 'flats', 'impittious', 'haste', 'young', 'laertes', 'riotous', 'head', 'orebeares', 'officers', 'rabble', 'call', 'lord', 'world', 'begin', 'antiquity', 'forgot', 'custome', 'knowne', 'ratifiers', 'props', 'euery', 'word', 'cry', 'choose', 'laertes', 'shall', 'king', 'caps', 'hands', 'tongues', 'applaud', 'clouds', 'laertes', 'shall', 'king', 'laertes', 'king', 'qu', 'cheerefully', 'false', 'traile', 'cry', 'oh', 'counter', 'false', 'danish', 'dogges', 'noise', 'within', 'enter', 'laertes', 'king', 'doores', 'broke', 'laer', 'king', 'sirs', 'stand', 'without', 'lets', 'come', 'laer', 'pray', 'giue', 'leaue', 'al', 'laer', 'thanke', 'keepe', 'doore', 'oh', 'thou', 'vilde', 'king', 'giue', 'father', 'qu', 'calmely', 'good', 'laertes', 'laer', 'drop', 'blood', 'calmes', 'proclaimes', 'bastard', 'cries', 'cuckold', 'father', 'brands', 'harlot', 'euen', 'heere', 'betweene', 'chaste', 'vnsmirched', 'brow', 'true', 'mother', 'king', 'cause', 'laertes', 'thy', 'rebellion', 'lookes', 'gyantlike', 'let', 'go', 'gertrude', 'feare', 'person', 'theres', 'diuinity', 'doth', 'hedge', 'king', 'treason', 'peepe', 'would', 'acts', 'little', 'tell', 'laertes', 'thou', 'art', 'thus', 'incenst', 'let', 'go', 'gertrude', 'speake', 'man', 'laer', 'wheres', 'father', 'king', 'dead', 'qu', 'king', 'let', 'demand', 'fill', 'laer', 'came', 'dead', 'ile', 'iuggeld', 'hell', 'allegeance', 'vowes', 'blackest', 'diuell', 'conscience', 'grace', 'profoundest', 'pit', 'dare', 'damnation', 'point', 'stand', 'worlds', 'giue', 'negligence', 'let', 'come', 'comes', 'onely', 'ile', 'reuengd', 'throughly', 'father', 'king', 'shall', 'stay', 'laer', 'world', 'meanes', 'ile', 'husband', 'well', 'shall', 'go', 'farre', 'little', 'king', 'good', 'laertes', 'desire', 'know', 'certaintie', 'deere', 'fathers', 'death', 'writ', 'reuenge', 'soopstake', 'draw', 'friend', 'foe', 'winner', 'looser', 'laer', 'none', 'enemies', 'king', 'know', 'la', 'good', 'friends', 'thus', 'wide', 'ile', 'ope', 'armes', 'like', 'kinde', 'liferendring', 'politician', 'repast', 'blood', 'king', 'speake', 'like', 'good', 'childe', 'true', 'gentleman', 'guiltlesse', 'fathers', 'death', 'sensible', 'greefe', 'shall', 'leuell', 'iudgement', 'pierce', 'day', 'dos', 'eye', 'noise', 'within', 'let', 'come', 'enter', 'ophelia', 'laer', 'noise', 'oh', 'heate', 'drie', 'vp', 'braines', 'teares', 'seuen', 'times', 'salt', 'burne', 'sence', 'vertue', 'mine', 'eye', 'heauen', 'thy', 'madnesse', 'shall', 'payed', 'waight', 'till', 'scale', 'turnes', 'beame', 'oh', 'rose', 'may', 'deere', 'maid', 'kinde', 'sister', 'sweet', 'ophelia', 'oh', 'heauens', 'ist', 'possible', 'yong', 'maids', 'wits', 'mortall', 'old', 'mans', 'life', 'nature', 'fine', 'loue', 'tis', 'fine', 'sends', 'precious', 'instance', 'selfe', 'thing', 'loues', 'ophe', 'bore', 'bare', 'facd', 'beer', 'hey', 'non', 'nony', 'nony', 'hey', 'nony', 'graue', 'raines', 'many', 'teare', 'fare', 'well', 'doue', 'laer', 'hadst', 'thou', 'thy', 'wits', 'didst', 'perswade', 'reuenge', 'could', 'moue', 'thus', 'ophe', 'must', 'sing', 'downe', 'adowne', 'call', 'adownea', 'oh', 'wheele', 'becomes', 'false', 'steward', 'stole', 'masters', 'daughter', 'laer', 'nothings', 'matter', 'ophe', 'theres', 'rosemary', 'thats', 'remembraunce', 'pray', 'loue', 'remember', 'paconcies', 'thats', 'thoughts', 'laer', 'document', 'madnesse', 'thoughts', 'remembrance', 'fitted', 'ophe', 'theres', 'fennell', 'columbines', 'thers', 'rew', 'heeres', 'wee', 'may', 'call', 'herbegrace', 'sundaies', 'oh', 'must', 'weare', 'rew', 'difference', 'theres', 'daysie', 'would', 'giue', 'violets', 'witherd', 'father', 'dyed', 'say', 'made', 'good', 'end', 'bonny', 'sweet', 'robin', 'ioy', 'laer', 'thought', 'affliction', 'passion', 'hell', 'selfe', 'turnes', 'fauour', 'prettinesse', 'ophe', 'come', 'againe', 'come', 'againe', 'dead', 'go', 'thy', 'deathbed', 'neuer', 'wil', 'come', 'againe', 'beard', 'white', 'snow', 'flaxen', 'pole', 'gone', 'gone', 'cast', 'away', 'mone', 'gramercy', 'soule', 'christian', 'soules', 'pray', 'god', 'god', 'buy', 'ye', 'exeunt', 'ophelia', 'laer', 'see', 'gods', 'king', 'laertes', 'must', 'common', 'greefe', 'deny', 'right', 'go', 'apart', 'make', 'choice', 'wisest', 'friends', 'shall', 'heare', 'iudge', 'twixt', 'direct', 'colaterall', 'hand', 'finde', 'vs', 'touchd', 'kingdome', 'giue', 'crowne', 'life', 'call', 'satisfaction', 'content', 'lend', 'patience', 'vs', 'shall', 'ioyntly', 'labour', 'soule', 'giue', 'due', 'content', 'laer', 'let', 'meanes', 'death', 'obscure', 'buriall', 'trophee', 'sword', 'hatchment', 'ore', 'bones', 'noble', 'rite', 'formall', 'ostentation', 'cry', 'heard', 'twere', 'heauen', 'earth', 'must', 'call', 'question', 'king', 'shall', 'th', 'offence', 'let', 'great', 'axe', 'fall', 'pray', 'go', 'exeunt', 'enter', 'horatio', 'attendant', 'hora', 'would', 'speake', 'ser', 'saylors', 'sir', 'say', 'haue', 'letters', 'hor', 'let', 'come', 'know', 'part', 'world', 'greeted', 'lord', 'hamlet', 'enter', 'saylor', 'say', 'god', 'blesse', 'sir', 'hor', 'let', 'blesse', 'thee', 'say', 'hee', 'shall', 'sir', 'andt', 'please', 'theres', 'letter', 'sir', 'comes', 'th', 'ambassadours', 'bound', 'england', 'name', 'horatio', 'let', 'know', 'reads', 'letter', 'horatio', 'thou', 'shalt', 'haue', 'ouerlookd', 'giue', 'fellowes', 'meanes', 'king', 'haue', 'letters', 'ere', 'two', 'dayes', 'old', 'sea', 'pyrate', 'warlicke', 'appointment', 'gaue', 'vs', 'chace', 'finding', 'selues', 'slow', 'saile', 'put', 'compelled', 'valour', 'grapple', 'boorded', 'instant', 'got', 'cleare', 'shippe', 'alone', 'became', 'prisoner', 'haue', 'dealt', 'mee', 'like', 'theeues', 'mercy', 'knew', 'doe', 'good', 'turne', 'let', 'king', 'haue', 'letters', 'haue', 'sent', 'repaire', 'thou', 'much', 'hast', 'thou', 'wouldest', 'flye', 'death', 'haue', 'words', 'speake', 'eare', 'make', 'thee', 'dumbe', 'yet', 'much', 'light', 'bore', 'matter', 'good', 'fellowes', 'bring', 'thee', 'rosincrance', 'guildensterne', 'hold', 'course', 'england', 'haue', 'much', 'tell', 'thee', 'farewell', 'thou', 'knowest', 'thine', 'hamlet', 'come', 'giue', 'way', 'letters', 'dot', 'speedier', 'may', 'direct', 'brought', 'enter', 'enter', 'king', 'laertes', 'king', 'must', 'conscience', 'acquittance', 'seal', 'must', 'put', 'heart', 'friend', 'sith', 'haue', 'heard', 'knowing', 'eare', 'hath', 'noble', 'father', 'slaine', 'pursued', 'life', 'laer', 'well', 'appeares', 'tell', 'proceeded', 'feates', 'crimefull', 'capitall', 'nature', 'safety', 'wisedome', 'things', 'else', 'mainly', 'stirrd', 'vp', 'king', 'two', 'speciall', 'reasons', 'may', 'perhaps', 'seeme', 'much', 'vnsinnowed', 'yet', 'strong', 'queen', 'mother', 'liues', 'almost', 'lookes', 'selfe', 'vertue', 'plague', 'either', 'shes', 'coniunctiue', 'life', 'soule', 'starre', 'moues', 'sphere', 'could', 'motiue', 'publike', 'count', 'might', 'go', 'great', 'loue', 'generall', 'gender', 'beare', 'dipping', 'faults', 'affection', 'would', 'like', 'spring', 'turneth', 'wood', 'stone', 'conuert', 'gyues', 'graces', 'arrowes', 'slightly', 'timbred', 'loud', 'winde', 'would', 'haue', 'reuerted', 'bow', 'againe', 'armd', 'laer', 'haue', 'noble', 'father', 'lost', 'sister', 'driuen', 'desperate', 'tearmes', 'praises', 'may', 'go', 'backe', 'againe', 'stood', 'challenger', 'mount', 'age', 'perfections', 'reuenge', 'come', 'king', 'breake', 'sleepes', 'must', 'thinke', 'made', 'stuffe', 'flat', 'dull', 'let', 'beard', 'shooke', 'danger', 'thinke', 'pastime', 'shortly', 'shall', 'heare', 'loud', 'father', 'loue', 'selfe', 'hope', 'teach', 'imagine', 'enter', 'messenger', 'newes', 'mes', 'letters', 'lord', 'hamlet', 'maiesty', 'queene', 'king', 'hamlet', 'brought', 'mes', 'saylors', 'lord', 'say', 'saw', 'giuen', 'claudio', 'receiud', 'king', 'laertes', 'shall', 'heare', 'leaue', 'vs', 'exit', 'messenger', 'high', 'mighty', 'shall', 'know', 'set', 'naked', 'kingdome', 'morrow', 'shall', 'begge', 'leaue', 'see', 'kingly', 'eyes', 'shall', 'first', 'asking', 'pardon', 'thereunto', 'recount', 'th', 'occasions', 'sodaine', 'strange', 'returne', 'hamlet', 'meane', 'rest', 'come', 'backe', 'abuse', 'thing', 'laer', 'know', 'hand', 'kin', 'tis', 'hamlets', 'character', 'naked', 'postscript', 'sayes', 'alone', 'aduise', 'laer', 'im', 'lost', 'lord', 'let', 'come', 'warmes', 'sicknesse', 'heart', 'shall', 'liue', 'tell', 'teeth', 'thus', 'diddest', 'thou', 'kin', 'laertes', 'otherwise', 'ruld', 'laer', 'youl', 'orerule', 'peace', 'kin', 'thine', 'owne', 'peace', 'returnd', 'checking', 'voyage', 'meanes', 'vndertake', 'worke', 'exployt', 'ripe', 'deuice', 'vnder', 'shall', 'choose', 'fall', 'death', 'winde', 'blame', 'shall', 'breath', 'euen', 'mother', 'shall', 'vncharge', 'practice', 'call', 'accident', 'two', 'monthes', 'hence', 'gentleman', 'normandy', 'iue', 'seene', 'selfe', 'serud', 'french', 'ran', 'well', 'horsebacke', 'gallant', 'witchcraft', 'int', 'grew', 'seat', 'wondrous', 'brought', 'horse', 'beene', 'encorpst', 'demynaturd', 'braue', 'beast', 'farre', 'past', 'thought', 'forgery', 'shapes', 'trickes', 'come', 'short', 'laer', 'norman', 'wast', 'kin', 'norman', 'laer', 'vpon', 'life', 'lamound', 'kin', 'laer', 'know', 'well', 'brooch', 'indeed', 'iemme', 'nation', 'kin', 'hee', 'mad', 'confession', 'gaue', 'masterly', 'report', 'art', 'exercise', 'defence', 'rapier', 'especiall', 'cryed', 'twould', 'sight', 'indeed', 'one', 'could', 'match', 'sir', 'report', 'hamlet', 'envenom', 'enuy', 'could', 'nothing', 'doe', 'wish', 'begge', 'sodaine', 'comming', 'ore', 'play', 'laer', 'lord', 'kin', 'laertes', 'father', 'deare', 'like', 'painting', 'sorrow', 'face', 'without', 'heart', 'laer', 'aske', 'kin', 'thinke', 'loue', 'father', 'know', 'loue', 'begun', 'time', 'see', 'passages', 'proofe', 'time', 'qualifies', 'sparke', 'fire', 'hamlet', 'comes', 'backe', 'would', 'vndertake', 'show', 'selfe', 'fathers', 'sonne', 'indeed', 'words', 'laer', 'cut', 'throat', 'ith', 'church', 'kin', 'place', 'indeed', 'murder', 'sancturize', 'reuenge', 'haue', 'bounds', 'good', 'laertes', 'doe', 'keepe', 'close', 'within', 'chamber', 'hamlet', 'returnd', 'shall', 'know', 'come', 'home', 'weel', 'put', 'shall', 'praise', 'excellence', 'set', 'double', 'varnish', 'fame', 'frenchman', 'gaue', 'bring', 'fine', 'together', 'wager', 'heads', 'remisse', 'generous', 'free', 'contriuing', 'peruse', 'foiles', 'ease', 'little', 'shuffling', 'may', 'choose', 'sword', 'vnbaited', 'passe', 'practice', 'requit', 'father', 'laer', 'doot', 'purpose', 'ile', 'annoint', 'sword', 'bought', 'vnction', 'mountebanke', 'mortall', 'dipt', 'knife', 'drawes', 'blood', 'cataplasme', 'rare', 'collected', 'simples', 'haue', 'vertue', 'vnder', 'moone', 'saue', 'thing', 'death', 'scratcht', 'withall', 'ile', 'touch', 'point', 'contagion', 'gall', 'slightly', 'may', 'death', 'kin', 'lets', 'thinke', 'weigh', 'conuenience', 'time', 'meanes', 'may', 'fit', 'vs', 'shape', 'faile', 'drift', 'looke', 'bad', 'performance', 'twere', 'better', 'assaid', 'therefore', 'proiect', 'haue', 'backe', 'second', 'might', 'hold', 'blast', 'proofe', 'soft', 'let', 'see', 'weel', 'make', 'solemne', 'wager', 'commings', 'hat', 'motion', 'hot', 'dry', 'make', 'bowts', 'violent', 'end', 'cals', 'drinke', 'ile', 'haue', 'prepard', 'challice', 'nonce', 'whereon', 'sipping', 'chance', 'escape', 'venomd', 'stuck', 'purpose', 'may', 'hold', 'sweet', 'queene', 'enter', 'queene', 'queen', 'one', 'woe', 'doth', 'tread', 'vpon', 'anothers', 'heele', 'fast', 'theyl', 'follow', 'sisters', 'drownd', 'laertes', 'laer', 'drownd', 'queen', 'willow', 'growes', 'aslant', 'brooke', 'shewes', 'hore', 'leaues', 'glassie', 'streame', 'fantasticke', 'garlands', 'come', 'crowflowers', 'nettles', 'daysies', 'long', 'purples', 'liberall', 'shepheards', 'giue', 'grosser', 'name', 'cold', 'maids', 'doe', 'dead', 'mens', 'fingers', 'call', 'pendant', 'boughes', 'coronet', 'weeds', 'clambring', 'hang', 'enuious', 'sliuer', 'broke', 'downe', 'weedy', 'trophies', 'selfe', 'fell', 'weeping', 'brooke', 'cloathes', 'spred', 'wide', 'mermaidlike', 'bore', 'vp', 'time', 'chaunted', 'snatches', 'old', 'tunes', 'one', 'incapable', 'owne', 'distresse', 'like', 'creature', 'natiue', 'indued', 'vnto', 'element', 'long', 'could', 'till', 'garments', 'heauy', 'drinke', 'puld', 'poore', 'wretch', 'melodious', 'buy', 'muddy', 'death', 'laer', 'alas', 'drownd', 'queen', 'drownd', 'drownd', 'laer', 'much', 'water', 'hast', 'thou', 'poore', 'ophelia', 'therefore', 'forbid', 'teares', 'yet', 'tricke', 'nature', 'custome', 'holds', 'let', 'shame', 'say', 'gone', 'woman', 'adue', 'lord', 'haue', 'speech', 'fire', 'faine', 'would', 'blaze', 'folly', 'doubts', 'enter', 'kin', 'lets', 'follow', 'gertrude', 'much', 'doe', 'calme', 'rage', 'feare', 'giue', 'start', 'againe', 'therefore', 'lets', 'follow', 'exeunt', 'enter', 'two', 'clownes', 'clown', 'bee', 'buried', 'christian', 'buriall', 'wilfully', 'seekes', 'owne', 'saluation', 'tell', 'thee', 'therefore', 'make', 'graue', 'straight', 'crowner', 'hath', 'sate', 'finds', 'christian', 'buriall', 'clo', 'vnlesse', 'drowned', 'selfe', 'owne', 'defence', 'tis', 'found', 'clo', 'must', 'se', 'offendendo', 'bee', 'else', 'heere', 'lies', 'point', 'drowne', 'selfe', 'wittingly', 'argues', 'act', 'act', 'hath', 'three', 'branches', 'act', 'doe', 'performe', 'argall', 'drownd', 'selfe', 'wittingly', 'nay', 'heare', 'goodman', 'deluer', 'clown', 'giue', 'leaue', 'heere', 'lies', 'water', 'good', 'heere', 'stands', 'man', 'good', 'man', 'goe', 'water', 'drowne', 'himselfe', 'nill', 'goes', 'marke', 'water', 'come', 'drowne', 'hee', 'drownes', 'himselfe', 'argall', 'hee', 'guilty', 'owne', 'death', 'shortens', 'owne', 'life', 'law', 'clo', 'marry', 'ist', 'crowners', 'quest', 'law', 'ha', 'truth', 'ont', 'beene', 'gentlewoman', 'shee', 'haue', 'beene', 'buried', 'christian', 'buriall', 'clo', 'thou', 'sayst', 'pitty', 'great', 'folke', 'haue', 'countenance', 'world', 'drowne', 'hang', 'themselues', 'euen', 'christian', 'come', 'spade', 'ancient', 'gentlemen', 'gardiners', 'ditchers', 'grauemakers', 'hold', 'vp', 'adams', 'profession', 'gentleman', 'clo', 'first', 'euer', 'bore', 'armes', 'none', 'clo', 'art', 'heathen', 'doth', 'thou', 'vnderstand', 'scripture', 'scripture', 'sayes', 'adam', 'digd', 'could', 'hee', 'digge', 'without', 'armes', 'ile', 'put', 'another', 'question', 'thee', 'thou', 'answerest', 'purpose', 'confesse', 'thy', 'selfe', 'go', 'clo', 'builds', 'stronger', 'either', 'mason', 'shipwright', 'carpenter', 'gallowes', 'maker', 'frame', 'outliues', 'thousand', 'tenants', 'clo', 'like', 'thy', 'wit', 'well', 'good', 'faith', 'gallowes', 'well', 'well', 'well', 'doe', 'ill', 'thou', 'dost', 'ill', 'say', 'gallowes', 'built', 'stronger', 'church', 'argall', 'gallowes', 'may', 'doe', 'well', 'thee', 'toot', 'againe', 'come', 'builds', 'stronger', 'mason', 'shipwright', 'carpenter', 'clo', 'tell', 'vnyoake', 'marry', 'tell', 'clo', 'toot', 'masse', 'tell', 'enter', 'hamlet', 'horatio', 'farre', 'clo', 'cudgell', 'thy', 'braines', 'dull', 'asse', 'mend', 'pace', 'beating', 'askt', 'question', 'next', 'say', 'grauemaker', 'houses', 'makes', 'lasts', 'till', 'doomesday', 'go', 'get', 'thee', 'yaughan', 'fetch', 'stoupe', 'liquor', 'sings', 'youth', 'loue', 'loue', 'thought', 'sweete', 'contract', 'time', 'behoue', 'thought', 'nothing', 'meete', 'ham', 'fellow', 'feeling', 'businesse', 'sings', 'grauemaking', 'hor', 'custome', 'hath', 'made', 'property', 'easinesse', 'ham', 'tis', 'een', 'hand', 'little', 'imployment', 'hath', 'daintier', 'sense', 'clowne', 'sings', 'age', 'stealing', 'steps', 'hath', 'caught', 'clutch', 'hath', 'shipped', 'intill', 'land', 'neuer', 'beene', 'ham', 'scull', 'tongue', 'could', 'sing', 'knaue', 'iowles', 'th', 'grownd', 'caines', 'iawbone', 'first', 'murther', 'might', 'pate', 'polititian', 'asse', 'ore', 'offices', 'one', 'could', 'circumuent', 'god', 'might', 'hor', 'might', 'lord', 'ham', 'courtier', 'could', 'say', 'good', 'morrow', 'sweet', 'lord', 'dost', 'thou', 'good', 'lord', 'might', 'lord', 'one', 'praisd', 'lord', 'ones', 'horse', 'meant', 'begge', 'might', 'hor', 'lord', 'ham', 'een', 'lady', 'wormes', 'chaplesse', 'knockt', 'mazard', 'sextons', 'spade', 'heeres', 'fine', 'reuolution', 'wee', 'tricke', 'seet', 'bones', 'cost', 'breeding', 'play', 'loggets', 'em', 'mine', 'ake', 'thinke', 'ont', 'clowne', 'sings', 'pickhaxe', 'spade', 'spade', 'shrowdingsheete', 'pit', 'clay', 'made', 'guest', 'meete', 'ham', 'theres', 'another', 'might', 'bee', 'scull', 'lawyer', 'quiddits', 'quillets', 'cases', 'tenures', 'tricks', 'suffer', 'rude', 'knaue', 'knocke', 'sconce', 'dirty', 'shouell', 'tell', 'action', 'battery', 'hum', 'fellow', 'might', 'ins', 'time', 'great', 'buyer', 'land', 'statutes', 'recognizances', 'fines', 'double', 'vouchers', 'recoueries', 'fine', 'fines', 'recouery', 'recoueries', 'haue', 'fine', 'pate', 'full', 'fine', 'dirt', 'vouchers', 'vouch', 'purchases', 'double', 'ones', 'length', 'breadth', 'paire', 'indentures', 'conueyances', 'lands', 'hardly', 'lye', 'boxe', 'must', 'inheritor', 'himselfe', 'haue', 'ha', 'hor', 'iot', 'lord', 'ham', 'parchment', 'made', 'sheepskinnes', 'hor', 'lord', 'calueskinnes', 'ham', 'sheepe', 'calues', 'seek', 'assurance', 'speake', 'fellow', 'whose', 'graues', 'sir', 'clo', 'mine', 'sir', 'pit', 'clay', 'made', 'guest', 'meete', 'ham', 'thinke', 'thine', 'indeed', 'thou', 'liest', 'int', 'clo', 'lye', 'ont', 'sir', 'therefore', 'part', 'doe', 'lye', 'int', 'yet', 'mine', 'ham', 'thou', 'dost', 'lye', 'int', 'int', 'say', 'tis', 'thine', 'tis', 'dead', 'quicke', 'therefore', 'thou', 'lyest', 'clo', 'tis', 'quicke', 'lye', 'sir', 'twill', 'away', 'againe', 'ham', 'man', 'dost', 'thou', 'digge', 'clo', 'man', 'sir', 'ham', 'woman', 'clo', 'none', 'neither', 'ham', 'buried', 'int', 'clo', 'one', 'woman', 'sir', 'rest', 'soule', 'shees', 'dead', 'ham', 'absolute', 'knaue', 'wee', 'must', 'speake', 'carde', 'equiuocation', 'vndoe', 'vs', 'lord', 'horatio', 'three', 'yeares', 'haue', 'taken', 'note', 'age', 'growne', 'picked', 'toe', 'pesant', 'comes', 'neere', 'heeles', 'courtier', 'hee', 'galls', 'kibe', 'long', 'hast', 'thou', 'grauemaker', 'clo', 'dayes', 'ith', 'yeare', 'came', 'toot', 'day', 'last', 'king', 'hamlet', 'orecame', 'fortinbras', 'ham', 'long', 'since', 'clo', 'tell', 'euery', 'foole', 'tell', 'day', 'young', 'hamlet', 'borne', 'hee', 'mad', 'sent', 'england', 'ham', 'marry', 'sent', 'england', 'clo', 'mad', 'hee', 'shall', 'recouer', 'wits', 'great', 'matter', 'ham', 'clo', 'twill', 'seene', 'men', 'mad', 'ham', 'came', 'mad', 'clo', 'strangely', 'say', 'ham', 'strangely', 'clo', 'faith', 'eene', 'loosing', 'wits', 'ham', 'vpon', 'ground', 'clo', 'heere', 'denmarke', 'haue', 'bin', 'sixeteene', 'heere', 'man', 'boy', 'thirty', 'yeares', 'ham', 'long', 'man', 'lie', 'ith', 'earth', 'ere', 'rot', 'clo', 'ifaith', 'rotten', 'die', 'haue', 'many', 'pocky', 'coarses', 'adaies', 'scarce', 'hold', 'laying', 'last', 'eight', 'yeare', 'nine', 'yeare', 'tanner', 'last', 'nine', 'yeare', 'ham', 'another', 'clo', 'sir', 'hide', 'tand', 'trade', 'keepe', 'water', 'great', 'water', 'sore', 'decayer', 'horson', 'dead', 'body', 'heres', 'scull', 'scul', 'laine', 'earth', 'three', 'twenty', 'years', 'ham', 'whose', 'clo', 'whoreson', 'mad', 'fellowes', 'whose', 'doe', 'thinke', 'ham', 'nay', 'know', 'clo', 'pestilence', 'mad', 'rogue', 'pourd', 'flaggon', 'renish', 'head', 'scull', 'sir', 'scull', 'sir', 'yoricks', 'scull', 'kings', 'iester', 'ham', 'clo', 'eene', 'ham', 'let', 'see', 'alas', 'poore', 'yorick', 'knew', 'horatio', 'fellow', 'infinite', 'iest', 'excellent', 'fancy', 'hath', 'borne', 'backe', 'thousand', 'times', 'abhorred', 'imagination', 'gorge', 'rises', 'heere', 'hung', 'lipps', 'haue', 'kist', 'know', 'oft', 'iibes', 'gambals', 'songs', 'flashes', 'merriment', 'wont', 'set', 'table', 'rore', 'one', 'mock', 'ieering', 'quite', 'chopfalne', 'get', 'ladies', 'chamber', 'tell', 'let', 'paint', 'inch', 'thicke', 'fauour', 'must', 'come', 'make', 'laugh', 'prythee', 'horatio', 'tell', 'one', 'thing', 'hor', 'whats', 'lord', 'ham', 'dost', 'thou', 'thinke', 'alexander', 'lookt', 'othis', 'fashion', 'ith', 'earth', 'hor', 'eene', 'ham', 'smelt', 'puh', 'hor', 'eene', 'lord', 'ham', 'base', 'vses', 'may', 'returne', 'horatio', 'may', 'imagination', 'trace', 'noble', 'dust', 'alexander', 'till', 'find', 'stopping', 'bunghole', 'hor', 'twere', 'consider', 'curiously', 'consider', 'ham', 'faith', 'iot', 'follow', 'thether', 'modestie', 'enough', 'likeliehood', 'lead', 'thus', 'alexander', 'died', 'alexander', 'buried', 'alexander', 'returneth', 'dust', 'dust', 'earth', 'earth', 'make', 'lome', 'lome', 'whereto', 'conuerted', 'might', 'stopp', 'beerebarrell', 'imperiall', 'caesar', 'dead', 'turnd', 'clay', 'might', 'stop', 'hole', 'keepe', 'winde', 'away', 'oh', 'earth', 'kept', 'world', 'awe', 'patch', 'wall', 'expell', 'winters', 'flaw', 'soft', 'soft', 'aside', 'heere', 'comes', 'king', 'enter', 'king', 'queene', 'laertes', 'coffin', 'lords', 'attendant', 'queene', 'courtiers', 'follow', 'maimed', 'rites', 'doth', 'betoken', 'coarse', 'follow', 'disperate', 'hand', 'fore', 'owne', 'life', 'twas', 'estate', 'couch', 'mark', 'laer', 'cerimony', 'else', 'ham', 'laertes', 'noble', 'youth', 'marke', 'laer', 'cerimony', 'else', 'priest', 'obsequies', 'haue', 'bin', 'farre', 'inlargd', 'haue', 'warrantie', 'death', 'doubtfull', 'great', 'command', 'oreswaies', 'order', 'ground', 'vnsanctified', 'haue', 'lodgd', 'till', 'last', 'trumpet', 'charitable', 'praier', 'shardes', 'flints', 'peebles', 'throwne', 'yet', 'heere', 'allowed', 'virgin', 'rites', 'maiden', 'strewments', 'bringing', 'home', 'bell', 'buriall', 'laer', 'must', 'done', 'priest', 'done', 'prophane', 'seruice', 'dead', 'sing', 'sage', 'requiem', 'rest', 'peaceparted', 'soules', 'laer', 'lay', 'ith', 'earth', 'faire', 'vnpolluted', 'flesh', 'may', 'violets', 'spring', 'tell', 'thee', 'churlish', 'priest', 'ministring', 'angell', 'shall', 'sister', 'thou', 'liest', 'howling', 'ham', 'faire', 'ophelia', 'queene', 'sweets', 'sweet', 'farewell', 'hopd', 'thou', 'shouldst', 'haue', 'bin', 'hamlets', 'wife', 'thought', 'thy', 'bridebed', 'haue', 'deckt', 'sweet', 'maid', 'thaue', 'strewd', 'thy', 'graue', 'laer', 'oh', 'terrible', 'woer', 'fall', 'ten', 'times', 'trebble', 'cursed', 'head', 'whose', 'wicked', 'deed', 'thy', 'ingenious', 'sence', 'depriud', 'thee', 'hold', 'earth', 'till', 'haue', 'caught', 'mine', 'armes', 'leaps', 'graue', 'pile', 'dust', 'vpon', 'quicke', 'dead', 'till', 'flat', 'mountaine', 'haue', 'made', 'ore', 'top', 'old', 'pelion', 'skyish', 'head', 'blew', 'olympus', 'ham', 'whose', 'griefes', 'beares', 'emphasis', 'whose', 'phrase', 'sorrow', 'coniure', 'wandring', 'starres', 'makes', 'stand', 'like', 'wonderwounded', 'hearers', 'hamlet', 'dane', 'laer', 'deuill', 'take', 'thy', 'soule', 'ham', 'thou', 'praist', 'well', 'prythee', 'take', 'thy', 'fingers', 'throat', 'sir', 'though', 'spleenatiue', 'rash', 'yet', 'haue', 'something', 'dangerous', 'let', 'thy', 'wisenesse', 'feare', 'away', 'thy', 'hand', 'king', 'pluck', 'asunder', 'qu', 'hamlet', 'hamlet', 'gen', 'good', 'lord', 'quiet', 'ham', 'fight', 'vppon', 'theme', 'vntill', 'eielids', 'longer', 'wag', 'qu', 'oh', 'sonne', 'theame', 'ham', 'loud', 'ophelia', 'fortie', 'thousand', 'brothers', 'could', 'quantitie', 'loue', 'make', 'vp', 'summe', 'wilt', 'thou', 'king', 'oh', 'mad', 'laertes', 'qu', 'loue', 'god', 'forbeare', 'ham', 'come', 'show', 'thoult', 'doe', 'woot', 'weepe', 'woot', 'fight', 'woot', 'teare', 'thy', 'selfe', 'woot', 'drinke', 'vp', 'esile', 'eate', 'crocodile', 'ile', 'doot', 'dost', 'thou', 'come', 'heere', 'whine', 'outface', 'leaping', 'graue', 'buried', 'quicke', 'thou', 'prate', 'mountaines', 'let', 'throw', 'millions', 'akers', 'vs', 'till', 'ground', 'sindging', 'pate', 'burning', 'zone', 'make', 'ossa', 'like', 'wart', 'nay', 'thoult', 'mouth', 'ile', 'rant', 'well', 'thou', 'kin', 'meere', 'madnesse', 'thus', 'awhile', 'fit', 'worke', 'anon', 'patient', 'female', 'doue', 'golden', 'cuplet', 'disclosd', 'silence', 'sit', 'drooping', 'ham', 'heare', 'sir', 'reason', 'vse', 'thus', 'loud', 'euer', 'matter', 'let', 'hercules', 'himselfe', 'doe', 'may', 'cat', 'mew', 'dogge', 'haue', 'day', 'enter', 'kin', 'pray', 'good', 'horatio', 'wait', 'vpon', 'strengthen', 'patience', 'last', 'nights', 'speech', 'weel', 'put', 'matter', 'present', 'push', 'good', 'gertrude', 'set', 'watch', 'ouer', 'sonne', 'graue', 'shall', 'haue', 'liuing', 'monument', 'houre', 'quiet', 'shortly', 'shall', 'see', 'till', 'patience', 'proceeding', 'exeunt', 'enter', 'hamlet', 'horatio', 'ham', 'much', 'sir', 'let', 'see', 'doe', 'remember', 'circumstance', 'hor', 'remember', 'lord', 'ham', 'sir', 'heart', 'kinde', 'fighting', 'would', 'let', 'sleepe', 'thought', 'lay', 'worse', 'mutines', 'bilboes', 'rashly', 'praise', 'rashnesse', 'let', 'vs', 'know', 'indiscretion', 'sometimes', 'serues', 'vs', 'well', 'deare', 'plots', 'paule', 'teach', 'vs', 'theres', 'diuinity', 'shapes', 'ends', 'roughhew', 'hor', 'certaine', 'ham', 'vp', 'cabin', 'seagowne', 'scarft', 'darke', 'gropd', 'finde', 'desire', 'fingerd', 'packet', 'fine', 'withdrew', 'mine', 'owne', 'roome', 'againe', 'making', 'bold', 'feares', 'forgetting', 'manners', 'vnseale', 'grand', 'commission', 'found', 'horatio', 'oh', 'royall', 'knauery', 'exact', 'command', 'larded', 'many', 'seuerall', 'sorts', 'reason', 'importing', 'denmarks', 'health', 'englands', 'hoo', 'bugges', 'goblins', 'life', 'superuize', 'leasure', 'bated', 'stay', 'grinding', 'axe', 'head', 'struck', 'hor', 'ist', 'possible', 'ham', 'heres', 'commission', 'read', 'leysure', 'wilt', 'thou', 'heare', 'proceed', 'hor', 'beseech', 'ham', 'thus', 'benetted', 'round', 'villaines', 'ere', 'could', 'make', 'prologue', 'braines', 'begun', 'play', 'sate', 'downe', 'deuisd', 'new', 'commission', 'wrote', 'faire', 'hold', 'statists', 'doe', 'basenesse', 'write', 'faire', 'laboured', 'much', 'forget', 'learning', 'sir', 'yeomans', 'seriuce', 'wilt', 'thou', 'know', 'effects', 'wrote', 'hor', 'good', 'lord', 'ham', 'earnest', 'coniuration', 'king', 'england', 'faithfull', 'tributary', 'loue', 'betweene', 'palme', 'flourish', 'peace', 'still', 'wheaten', 'garland', 'weare', 'stand', 'comma', 'tweene', 'amities', 'many', 'like', 'assis', 'great', 'charge', 'view', 'know', 'contents', 'without', 'debatement', 'lesse', 'bearers', 'put', 'sodaine', 'death', 'shriuing', 'time', 'allowed', 'hor', 'seald', 'ham', 'euen', 'heauen', 'ordinate', 'fathers', 'signet', 'purse', 'modell', 'danish', 'seale', 'folded', 'writ', 'vp', 'forme', 'subscribd', 'gaut', 'th', 'impression', 'plact', 'safely', 'changeling', 'neuer', 'knowne', 'next', 'day', 'sea', 'fight', 'sement', 'thou', 'knowst', 'already', 'hor', 'guildensterne', 'rosincrance', 'go', 'toot', 'ham', 'man', 'make', 'loue', 'imployment', 'neere', 'conscience', 'debate', 'doth', 'owne', 'insinuation', 'grow', 'tis', 'dangerous', 'baser', 'nature', 'comes', 'betweene', 'passe', 'fell', 'incensed', 'points', 'mighty', 'opposites', 'hor', 'king', 'ham', 'thinkst', 'thee', 'stand', 'vpon', 'hath', 'kild', 'king', 'whord', 'mother', 'popt', 'betweene', 'th', 'election', 'hopes', 'throwne', 'angle', 'proper', 'life', 'coozenage', 'ist', 'perfect', 'conscience', 'quit', 'arme', 'ist', 'damnd', 'let', 'canker', 'nature', 'come', 'euill', 'hor', 'must', 'shortly', 'knowne', 'england', 'issue', 'businesse', 'ham', 'short', 'interims', 'mine', 'mans', 'lifes', 'say', 'one', 'sorry', 'good', 'horatio', 'laertes', 'forgot', 'selfe', 'image', 'cause', 'see', 'portraiture', 'ile', 'count', 'fauours', 'sure', 'brauery', 'griefe', 'put', 'towring', 'passion', 'hor', 'peace', 'comes', 'heere', 'enter', 'young', 'osricke', 'osr', 'lordship', 'right', 'welcome', 'back', 'denmarke', 'ham', 'humbly', 'thank', 'sir', 'dost', 'know', 'waterflie', 'hor', 'good', 'lord', 'ham', 'thy', 'state', 'gracious', 'tis', 'vice', 'know', 'hath', 'much', 'land', 'fertile', 'let', 'beast', 'lord', 'beasts', 'crib', 'shall', 'stand', 'kings', 'messe', 'tis', 'chowgh', 'saw', 'spacious', 'possession', 'dirt', 'osr', 'sweet', 'lord', 'friendship', 'leysure', 'impart', 'thing', 'maiesty', 'ham', 'receiue', 'diligence', 'spirit', 'put', 'bonet', 'right', 'vse', 'tis', 'head', 'osr', 'thanke', 'lordship', 'tis', 'hot', 'ham', 'beleeue', 'mee', 'tis', 'cold', 'winde', 'northerly', 'osr', 'indifferent', 'cold', 'lord', 'indeed', 'ham', 'mee', 'thinkes', 'soultry', 'hot', 'complexion', 'osr', 'exceedingly', 'lord', 'soultry', 'twere', 'tell', 'lord', 'maiesty', 'bad', 'signifie', 'laid', 'great', 'wager', 'head', 'sir', 'matter', 'ham', 'beseech', 'remember', 'osr', 'nay', 'good', 'faith', 'mine', 'ease', 'good', 'faith', 'sir', 'ignorant', 'excellence', 'laertes', 'weapon', 'ham', 'whats', 'weapon', 'osr', 'rapier', 'dagger', 'ham', 'thats', 'two', 'weapons', 'well', 'osr', 'sir', 'king', 'wagd', 'six', 'barbary', 'horses', 'impond', 'take', 'sixe', 'french', 'rapiers', 'poniards', 'assignes', 'girdle', 'hangers', 'three', 'carriages', 'infaith', 'deare', 'fancy', 'responsiue', 'hilts', 'delicate', 'carriages', 'liberall', 'conceit', 'ham', 'call', 'carriages', 'osr', 'carriages', 'sir', 'hangers', 'ham', 'phrase', 'would', 'bee', 'germaine', 'matter', 'could', 'carry', 'cannon', 'sides', 'would', 'might', 'hangers', 'till', 'sixe', 'barbary', 'horses', 'sixe', 'french', 'swords', 'assignes', 'three', 'liberall', 'conceited', 'carriages', 'thats', 'french', 'danish', 'impond', 'call', 'osr', 'king', 'sir', 'hath', 'laid', 'dozen', 'passes', 'betweene', 'hee', 'shall', 'exceed', 'three', 'hits', 'hath', 'one', 'twelue', 'mine', 'would', 'come', 'imediate', 'tryall', 'lordship', 'would', 'vouchsafe', 'answere', 'ham', 'answere', 'osr', 'meane', 'lord', 'opposition', 'person', 'tryall', 'ham', 'sir', 'walke', 'heere', 'hall', 'please', 'maiestie', 'tis', 'breathing', 'time', 'day', 'let', 'foyles', 'bee', 'brought', 'gentleman', 'willing', 'king', 'hold', 'purpose', 'win', 'ile', 'gaine', 'nothing', 'shame', 'odde', 'hits', 'osr', 'shall', 'redeliuer', 'een', 'ham', 'effect', 'sir', 'flourish', 'nature', 'osr', 'commend', 'duty', 'lordship', 'ham', 'hee', 'well', 'commend', 'himselfe', 'tongues', 'else', 'fors', 'tongue', 'hor', 'lapwing', 'runs', 'away', 'shell', 'head', 'ham', 'complie', 'dugge', 'hee', 'suckt', 'thus', 'mine', 'beauty', 'know', 'drossie', 'age', 'dotes', 'got', 'tune', 'time', 'outward', 'habite', 'encounter', 'kinde', 'yesty', 'collection', 'carries', 'fond', 'winnowed', 'opinions', 'doe', 'blow', 'tryalls', 'bubbles', 'hor', 'lose', 'wager', 'lord', 'ham', 'doe', 'thinke', 'since', 'went', 'france', 'haue', 'beene', 'continuall', 'practice', 'shall', 'winne', 'oddes', 'thou', 'wouldest', 'thinke', 'heere', 'heart', 'matter', 'hor', 'nay', 'good', 'lord', 'ham', 'foolery', 'kinde', 'gaingiuing', 'would', 'perhaps', 'trouble', 'woman', 'hor', 'minde', 'dislike', 'thing', 'obey', 'forestall', 'repaire', 'hither', 'say', 'fit', 'ham', 'whit', 'defie', 'augury', 'theres', 'speciall', 'prouidence', 'fall', 'sparrow', 'tis', 'come', 'bee', 'come', 'bee', 'yet', 'come', 'readinesse', 'since', 'man', 'ought', 'leaues', 'ist', 'leaue', 'betimes', 'enter', 'king', 'queene', 'laertes', 'lords', 'attendants', 'foyles', 'gauntlets', 'table', 'flagons', 'wine', 'kin', 'come', 'hamlet', 'come', 'take', 'hand', 'ham', 'giue', 'pardon', 'sir', 'iue', 'done', 'wrong', 'pardont', 'gentleman', 'presence', 'knowes', 'must', 'needs', 'haue', 'heard', 'punisht', 'sore', 'distraction', 'haue', 'done', 'might', 'nature', 'honour', 'exception', 'roughly', 'awake', 'heere', 'proclaime', 'madnesse', 'wast', 'hamlet', 'wrongd', 'laertes', 'neuer', 'hamlet', 'hamlet', 'himselfe', 'tane', 'away', 'hes', 'himselfe', 'dos', 'wrong', 'laertes', 'hamlet', 'hamlet', 'denies', 'madnesse', 'ift', 'hamlet', 'faction', 'wrongd', 'madnesse', 'poore', 'hamlets', 'enemy', 'sir', 'audience', 'let', 'disclaiming', 'purposd', 'euill', 'free', 'farre', 'generous', 'thoughts', 'haue', 'shot', 'mine', 'arrow', 'ore', 'house', 'hurt', 'mother', 'laer', 'satisfied', 'nature', 'whose', 'motiue', 'case', 'stirre', 'reuenge', 'termes', 'honor', 'stand', 'aloofe', 'reconcilement', 'till', 'elder', 'masters', 'knowne', 'honor', 'haue', 'voyce', 'president', 'peace', 'keepe', 'name', 'vngorgd', 'till', 'time', 'receiue', 'offerd', 'loue', 'like', 'loue', 'wil', 'wrong', 'ham', 'embrace', 'freely', 'brothers', 'wager', 'frankely', 'play', 'giue', 'vs', 'foyles', 'come', 'laer', 'come', 'one', 'ham', 'ile', 'foile', 'laertes', 'mine', 'ignorance', 'skill', 'shall', 'like', 'starre', 'ith', 'darkest', 'night', 'sticke', 'fiery', 'indeede', 'laer', 'mocke', 'sir', 'ham', 'hand', 'king', 'giue', 'foyles', 'yong', 'osricke', 'cousen', 'hamlet', 'know', 'wager', 'ham', 'verie', 'well', 'lord', 'grace', 'hath', 'laide', 'oddes', 'ath', 'weaker', 'side', 'king', 'feare', 'haue', 'seene', 'since', 'betterd', 'haue', 'therefore', 'oddes', 'laer', 'heauy', 'let', 'see', 'another', 'ham', 'likes', 'well', 'foyles', 'haue', 'length', 'prepare', 'play', 'osricke', 'good', 'lord', 'king', 'set', 'stopes', 'wine', 'vpon', 'table', 'hamlet', 'giue', 'first', 'second', 'hit', 'quit', 'answer', 'third', 'exchange', 'let', 'battlements', 'ordinance', 'fire', 'king', 'shal', 'drinke', 'hamlets', 'better', 'breath', 'cup', 'vnion', 'shal', 'throw', 'richer', 'foure', 'successiue', 'kings', 'denmarkes', 'crowne', 'haue', 'worne', 'giue', 'cups', 'let', 'kettle', 'trumpets', 'speake', 'trumpet', 'cannoneer', 'without', 'cannons', 'heauens', 'heauen', 'earth', 'king', 'drinkes', 'hamlet', 'come', 'begin', 'iudges', 'beare', 'wary', 'eye', 'ham', 'come', 'sir', 'laer', 'come', 'sir', 'play', 'ham', 'one', 'laer', 'ham', 'iudgement', 'osr', 'hit', 'palpable', 'hit', 'laer', 'well', 'againe', 'king', 'stay', 'giue', 'drinke', 'hamlet', 'pearle', 'thine', 'heres', 'thy', 'health', 'giue', 'cup', 'trumpets', 'sound', 'shot', 'goes', 'ham', 'ile', 'play', 'bout', 'first', 'set', 'awhile', 'come', 'another', 'hit', 'say', 'laer', 'touch', 'touch', 'confesse', 'king', 'sonne', 'shall', 'win', 'qu', 'hes', 'fat', 'scant', 'breath', 'heeres', 'napkin', 'rub', 'thy', 'browes', 'queene', 'carowses', 'thy', 'fortune', 'hamlet', 'ham', 'good', 'madam', 'king', 'gertrude', 'drinke', 'qu', 'lord', 'pray', 'pardon', 'king', 'poysond', 'cup', 'late', 'ham', 'dare', 'drinke', 'yet', 'madam', 'qu', 'come', 'let', 'wipe', 'thy', 'face', 'laer', 'lord', 'ile', 'hit', 'king', 'thinket', 'laer', 'yet', 'tis', 'almost', 'gainst', 'conscience', 'ham', 'come', 'third', 'laertes', 'dally', 'pray', 'passe', 'best', 'violence', 'affeard', 'make', 'wanton', 'laer', 'say', 'come', 'play', 'osr', 'nothing', 'neither', 'way', 'laer', 'haue', 'scuffling', 'change', 'rapiers', 'king', 'part', 'incensd', 'ham', 'nay', 'come', 'againe', 'osr', 'looke', 'queene', 'hoa', 'hor', 'bleed', 'sides', 'ist', 'lord', 'osr', 'ist', 'laertes', 'laer', 'woodcocke', 'mine', 'sprindge', 'osricke', 'iustly', 'killd', 'mine', 'owne', 'treacherie', 'ham', 'queene', 'king', 'sounds', 'see', 'bleede', 'qu', 'drinke', 'drinke', 'oh', 'deere', 'hamlet', 'drinke', 'drinke', 'poysond', 'ham', 'oh', 'villany', 'let', 'doore', 'lockd', 'treacherie', 'seeke', 'laer', 'heere', 'hamlet', 'hamlet', 'thou', 'art', 'slaine', 'medicine', 'world', 'thee', 'good', 'thee', 'halfe', 'houre', 'life', 'treacherous', 'instrument', 'thy', 'hand', 'vnbated', 'envenomd', 'foule', 'practise', 'hath', 'turnd', 'selfe', 'loe', 'heere', 'lye', 'neuer', 'rise', 'againe', 'thy', 'mothers', 'poysond', 'king', 'kings', 'blame', 'ham', 'point', 'envenomd', 'venome', 'thy', 'worke', 'hurts', 'king', 'treason', 'treason', 'king', 'yet', 'defend', 'friends', 'hurt', 'ham', 'heere', 'thou', 'incestuous', 'murdrous', 'damned', 'dane', 'drinke', 'potion', 'thy', 'vnion', 'heere', 'follow', 'mother', 'king', 'dyes', 'laer', 'iustly', 'serud', 'poyson', 'tempred', 'himselfe', 'exchange', 'forgiuenesse', 'noble', 'hamlet', 'mine', 'fathers', 'death', 'come', 'vpon', 'thee', 'thine', 'dyes', 'ham', 'heauen', 'make', 'thee', 'free', 'follow', 'thee', 'dead', 'horatio', 'wretched', 'queene', 'adiew', 'looke', 'pale', 'tremble', 'chance', 'mutes', 'audience', 'acte', 'time', 'fell', 'sergeant', 'death', 'strickd', 'arrest', 'oh', 'could', 'tell', 'let', 'horatio', 'dead', 'thou', 'liust', 'report', 'causes', 'right', 'vnsatisfied', 'hor', 'neuer', 'beleeue', 'antike', 'roman', 'dane', 'heeres', 'yet', 'liquor', 'left', 'ham', 'thart', 'man', 'giue', 'cup', 'let', 'go', 'heauen', 'ile', 'hauet', 'oh', 'good', 'horatio', 'wounded', 'name', 'things', 'standing', 'thus', 'vnknowne', 'shall', 'liue', 'behind', 'thou', 'didst', 'euer', 'hold', 'thy', 'heart', 'absent', 'thee', 'felicitie', 'awhile', 'harsh', 'world', 'draw', 'thy', 'breath', 'paine', 'tell', 'storie', 'march', 'afarre', 'shout', 'within', 'warlike', 'noyse', 'enter', 'osricke', 'osr', 'yong', 'fortinbras', 'conquest', 'come', 'poland', 'th', 'ambassadors', 'england', 'giues', 'warlike', 'volly', 'ham', 'dye', 'horatio', 'potent', 'poyson', 'quite', 'orecrowes', 'spirit', 'liue', 'heare', 'newes', 'england', 'prophesie', 'th', 'election', 'lights', 'fortinbras', 'dying', 'voyce', 'tell', 'occurrents', 'lesse', 'haue', 'solicited', 'rest', 'silence', 'dyes', 'hora', 'cracke', 'noble', 'heart', 'goodnight', 'sweet', 'prince', 'flights', 'angels', 'sing', 'thee', 'thy', 'rest', 'dos', 'drumme', 'come', 'hither', 'enter', 'fortinbras', 'english', 'ambassador', 'drumme', 'colours', 'attendants', 'fortin', 'sight', 'hor', 'ye', 'would', 'see', 'ought', 'woe', 'wonder', 'cease', 'search', 'quarry', 'cries', 'hauocke', 'oh', 'proud', 'death', 'feast', 'toward', 'thine', 'eternall', 'cell', 'thou', 'many', 'princes', 'shoote', 'bloodily', 'hast', 'strooke', 'amb', 'sight', 'dismall', 'affaires', 'england', 'come', 'late', 'eares', 'senselesse', 'giue', 'vs', 'hearing', 'tell', 'commandment', 'fulfilld', 'rosincrance', 'guildensterne', 'dead', 'haue', 'thankes', 'hor', 'mouth', 'th', 'abilitie', 'life', 'thanke', 'neuer', 'gaue', 'commandment', 'death', 'since', 'iumpe', 'vpon', 'bloodie', 'question', 'polake', 'warres', 'england', 'heere', 'arriued', 'giue', 'order', 'bodies', 'high', 'stage', 'placed', 'view', 'let', 'speake', 'th', 'yet', 'vnknowing', 'world', 'things', 'came', 'shall', 'heare', 'carnall', 'bloudie', 'vnnaturall', 'acts', 'accidentall', 'iudgements', 'casuall', 'slaughters', 'deaths', 'put', 'cunning', 'forcd', 'cause', 'vpshot', 'purposes', 'mistooke', 'falne', 'inuentors', 'head', 'truly', 'deliuer', 'let', 'vs', 'hast', 'heare', 'call', 'noblest', 'audience', 'sorrow', 'embrace', 'fortune', 'haue', 'rites', 'memory', 'kingdome', 'claime', 'vantage', 'doth', 'inuite', 'hor', 'shall', 'haue', 'alwayes', 'cause', 'speake', 'mouth', 'whose', 'voyce', 'draw', 'let', 'presently', 'performd', 'euen', 'whiles', 'mens', 'mindes', 'wilde', 'lest', 'mischance', 'plots', 'errors', 'happen', 'let', 'foure', 'captaines', 'beare', 'hamlet', 'like', 'soldier', 'stage', 'likely', 'beene', 'put', 'haue', 'proud', 'royally', 'passage', 'souldiours', 'musicke', 'rites', 'warre', 'speake', 'lowdly', 'take', 'vp', 'body', 'sight', 'becomes', 'field', 'heere', 'shewes', 'much', 'amis', 'go', 'bid', 'souldiers', 'shoote', 'exeunt', 'marching', 'peale', 'ordenance', 'shot', 'finis', 'tragedie', 'hamlet', 'prince', 'denmarke']\n"
          ]
        }
      ]
    },
    {
      "cell_type": "code",
      "source": [
        "hamlet_polarity = swn_polarity(hamlet)"
      ],
      "metadata": {
        "id": "WRz1Hf8ExDLr"
      },
      "execution_count": 22,
      "outputs": []
    },
    {
      "cell_type": "code",
      "source": [
        "hamlet_polarity"
      ],
      "metadata": {
        "colab": {
          "base_uri": "https://localhost:8080/"
        },
        "id": "Ho4lCiRjxYB9",
        "outputId": "d01371b0-1eda-43fa-f435-e58be352c293"
      },
      "execution_count": 23,
      "outputs": [
        {
          "output_type": "execute_result",
          "data": {
            "text/plain": [
              "0"
            ]
          },
          "metadata": {},
          "execution_count": 23
        }
      ]
    },
    {
      "cell_type": "code",
      "source": [
        "import pandas as pd\n",
        "hamlet_sents = gutenberg.sents('shakespeare-hamlet.txt')\n",
        "book_sentences = [' '.join(sentence) for sentence in hamlet_sents]\n",
        "book_df = pd.DataFrame(book_sentences, columns=['sentence'])"
      ],
      "metadata": {
        "id": "1KKsCPYixWwO"
      },
      "execution_count": 25,
      "outputs": []
    },
    {
      "cell_type": "code",
      "source": [
        "book_df"
      ],
      "metadata": {
        "colab": {
          "base_uri": "https://localhost:8080/",
          "height": 423
        },
        "id": "dYxbPWeVzbEm",
        "outputId": "91e56b39-5293-4ade-f9d5-694402da80cd"
      },
      "execution_count": 26,
      "outputs": [
        {
          "output_type": "execute_result",
          "data": {
            "text/plain": [
              "                                               sentence\n",
              "0     [ The Tragedie of Hamlet by William Shakespear...\n",
              "1                                        Actus Primus .\n",
              "2                                        Scoena Prima .\n",
              "3          Enter Barnardo and Francisco two Centinels .\n",
              "4                                            Barnardo .\n",
              "...                                                 ...\n",
              "3101                    Go , bid the Souldiers shoote .\n",
              "3102                                           Exeunt .\n",
              "3103  Marching : after the which , a Peale of Ordena...\n",
              "3104                                            FINIS .\n",
              "3105      The tragedie of HAMLET , Prince of Denmarke .\n",
              "\n",
              "[3106 rows x 1 columns]"
            ],
            "text/html": [
              "\n",
              "  <div id=\"df-166a9b40-b32b-48e4-a3f1-5fd659c2f07e\" class=\"colab-df-container\">\n",
              "    <div>\n",
              "<style scoped>\n",
              "    .dataframe tbody tr th:only-of-type {\n",
              "        vertical-align: middle;\n",
              "    }\n",
              "\n",
              "    .dataframe tbody tr th {\n",
              "        vertical-align: top;\n",
              "    }\n",
              "\n",
              "    .dataframe thead th {\n",
              "        text-align: right;\n",
              "    }\n",
              "</style>\n",
              "<table border=\"1\" class=\"dataframe\">\n",
              "  <thead>\n",
              "    <tr style=\"text-align: right;\">\n",
              "      <th></th>\n",
              "      <th>sentence</th>\n",
              "    </tr>\n",
              "  </thead>\n",
              "  <tbody>\n",
              "    <tr>\n",
              "      <th>0</th>\n",
              "      <td>[ The Tragedie of Hamlet by William Shakespear...</td>\n",
              "    </tr>\n",
              "    <tr>\n",
              "      <th>1</th>\n",
              "      <td>Actus Primus .</td>\n",
              "    </tr>\n",
              "    <tr>\n",
              "      <th>2</th>\n",
              "      <td>Scoena Prima .</td>\n",
              "    </tr>\n",
              "    <tr>\n",
              "      <th>3</th>\n",
              "      <td>Enter Barnardo and Francisco two Centinels .</td>\n",
              "    </tr>\n",
              "    <tr>\n",
              "      <th>4</th>\n",
              "      <td>Barnardo .</td>\n",
              "    </tr>\n",
              "    <tr>\n",
              "      <th>...</th>\n",
              "      <td>...</td>\n",
              "    </tr>\n",
              "    <tr>\n",
              "      <th>3101</th>\n",
              "      <td>Go , bid the Souldiers shoote .</td>\n",
              "    </tr>\n",
              "    <tr>\n",
              "      <th>3102</th>\n",
              "      <td>Exeunt .</td>\n",
              "    </tr>\n",
              "    <tr>\n",
              "      <th>3103</th>\n",
              "      <td>Marching : after the which , a Peale of Ordena...</td>\n",
              "    </tr>\n",
              "    <tr>\n",
              "      <th>3104</th>\n",
              "      <td>FINIS .</td>\n",
              "    </tr>\n",
              "    <tr>\n",
              "      <th>3105</th>\n",
              "      <td>The tragedie of HAMLET , Prince of Denmarke .</td>\n",
              "    </tr>\n",
              "  </tbody>\n",
              "</table>\n",
              "<p>3106 rows × 1 columns</p>\n",
              "</div>\n",
              "    <div class=\"colab-df-buttons\">\n",
              "\n",
              "  <div class=\"colab-df-container\">\n",
              "    <button class=\"colab-df-convert\" onclick=\"convertToInteractive('df-166a9b40-b32b-48e4-a3f1-5fd659c2f07e')\"\n",
              "            title=\"Convert this dataframe to an interactive table.\"\n",
              "            style=\"display:none;\">\n",
              "\n",
              "  <svg xmlns=\"http://www.w3.org/2000/svg\" height=\"24px\" viewBox=\"0 -960 960 960\">\n",
              "    <path d=\"M120-120v-720h720v720H120Zm60-500h600v-160H180v160Zm220 220h160v-160H400v160Zm0 220h160v-160H400v160ZM180-400h160v-160H180v160Zm440 0h160v-160H620v160ZM180-180h160v-160H180v160Zm440 0h160v-160H620v160Z\"/>\n",
              "  </svg>\n",
              "    </button>\n",
              "\n",
              "  <style>\n",
              "    .colab-df-container {\n",
              "      display:flex;\n",
              "      gap: 12px;\n",
              "    }\n",
              "\n",
              "    .colab-df-convert {\n",
              "      background-color: #E8F0FE;\n",
              "      border: none;\n",
              "      border-radius: 50%;\n",
              "      cursor: pointer;\n",
              "      display: none;\n",
              "      fill: #1967D2;\n",
              "      height: 32px;\n",
              "      padding: 0 0 0 0;\n",
              "      width: 32px;\n",
              "    }\n",
              "\n",
              "    .colab-df-convert:hover {\n",
              "      background-color: #E2EBFA;\n",
              "      box-shadow: 0px 1px 2px rgba(60, 64, 67, 0.3), 0px 1px 3px 1px rgba(60, 64, 67, 0.15);\n",
              "      fill: #174EA6;\n",
              "    }\n",
              "\n",
              "    .colab-df-buttons div {\n",
              "      margin-bottom: 4px;\n",
              "    }\n",
              "\n",
              "    [theme=dark] .colab-df-convert {\n",
              "      background-color: #3B4455;\n",
              "      fill: #D2E3FC;\n",
              "    }\n",
              "\n",
              "    [theme=dark] .colab-df-convert:hover {\n",
              "      background-color: #434B5C;\n",
              "      box-shadow: 0px 1px 3px 1px rgba(0, 0, 0, 0.15);\n",
              "      filter: drop-shadow(0px 1px 2px rgba(0, 0, 0, 0.3));\n",
              "      fill: #FFFFFF;\n",
              "    }\n",
              "  </style>\n",
              "\n",
              "    <script>\n",
              "      const buttonEl =\n",
              "        document.querySelector('#df-166a9b40-b32b-48e4-a3f1-5fd659c2f07e button.colab-df-convert');\n",
              "      buttonEl.style.display =\n",
              "        google.colab.kernel.accessAllowed ? 'block' : 'none';\n",
              "\n",
              "      async function convertToInteractive(key) {\n",
              "        const element = document.querySelector('#df-166a9b40-b32b-48e4-a3f1-5fd659c2f07e');\n",
              "        const dataTable =\n",
              "          await google.colab.kernel.invokeFunction('convertToInteractive',\n",
              "                                                    [key], {});\n",
              "        if (!dataTable) return;\n",
              "\n",
              "        const docLinkHtml = 'Like what you see? Visit the ' +\n",
              "          '<a target=\"_blank\" href=https://colab.research.google.com/notebooks/data_table.ipynb>data table notebook</a>'\n",
              "          + ' to learn more about interactive tables.';\n",
              "        element.innerHTML = '';\n",
              "        dataTable['output_type'] = 'display_data';\n",
              "        await google.colab.output.renderOutput(dataTable, element);\n",
              "        const docLink = document.createElement('div');\n",
              "        docLink.innerHTML = docLinkHtml;\n",
              "        element.appendChild(docLink);\n",
              "      }\n",
              "    </script>\n",
              "  </div>\n",
              "\n",
              "\n",
              "<div id=\"df-3f9c9eff-8830-4ad7-a880-2787f6e55f22\">\n",
              "  <button class=\"colab-df-quickchart\" onclick=\"quickchart('df-3f9c9eff-8830-4ad7-a880-2787f6e55f22')\"\n",
              "            title=\"Suggest charts\"\n",
              "            style=\"display:none;\">\n",
              "\n",
              "<svg xmlns=\"http://www.w3.org/2000/svg\" height=\"24px\"viewBox=\"0 0 24 24\"\n",
              "     width=\"24px\">\n",
              "    <g>\n",
              "        <path d=\"M19 3H5c-1.1 0-2 .9-2 2v14c0 1.1.9 2 2 2h14c1.1 0 2-.9 2-2V5c0-1.1-.9-2-2-2zM9 17H7v-7h2v7zm4 0h-2V7h2v10zm4 0h-2v-4h2v4z\"/>\n",
              "    </g>\n",
              "</svg>\n",
              "  </button>\n",
              "\n",
              "<style>\n",
              "  .colab-df-quickchart {\n",
              "      --bg-color: #E8F0FE;\n",
              "      --fill-color: #1967D2;\n",
              "      --hover-bg-color: #E2EBFA;\n",
              "      --hover-fill-color: #174EA6;\n",
              "      --disabled-fill-color: #AAA;\n",
              "      --disabled-bg-color: #DDD;\n",
              "  }\n",
              "\n",
              "  [theme=dark] .colab-df-quickchart {\n",
              "      --bg-color: #3B4455;\n",
              "      --fill-color: #D2E3FC;\n",
              "      --hover-bg-color: #434B5C;\n",
              "      --hover-fill-color: #FFFFFF;\n",
              "      --disabled-bg-color: #3B4455;\n",
              "      --disabled-fill-color: #666;\n",
              "  }\n",
              "\n",
              "  .colab-df-quickchart {\n",
              "    background-color: var(--bg-color);\n",
              "    border: none;\n",
              "    border-radius: 50%;\n",
              "    cursor: pointer;\n",
              "    display: none;\n",
              "    fill: var(--fill-color);\n",
              "    height: 32px;\n",
              "    padding: 0;\n",
              "    width: 32px;\n",
              "  }\n",
              "\n",
              "  .colab-df-quickchart:hover {\n",
              "    background-color: var(--hover-bg-color);\n",
              "    box-shadow: 0 1px 2px rgba(60, 64, 67, 0.3), 0 1px 3px 1px rgba(60, 64, 67, 0.15);\n",
              "    fill: var(--button-hover-fill-color);\n",
              "  }\n",
              "\n",
              "  .colab-df-quickchart-complete:disabled,\n",
              "  .colab-df-quickchart-complete:disabled:hover {\n",
              "    background-color: var(--disabled-bg-color);\n",
              "    fill: var(--disabled-fill-color);\n",
              "    box-shadow: none;\n",
              "  }\n",
              "\n",
              "  .colab-df-spinner {\n",
              "    border: 2px solid var(--fill-color);\n",
              "    border-color: transparent;\n",
              "    border-bottom-color: var(--fill-color);\n",
              "    animation:\n",
              "      spin 1s steps(1) infinite;\n",
              "  }\n",
              "\n",
              "  @keyframes spin {\n",
              "    0% {\n",
              "      border-color: transparent;\n",
              "      border-bottom-color: var(--fill-color);\n",
              "      border-left-color: var(--fill-color);\n",
              "    }\n",
              "    20% {\n",
              "      border-color: transparent;\n",
              "      border-left-color: var(--fill-color);\n",
              "      border-top-color: var(--fill-color);\n",
              "    }\n",
              "    30% {\n",
              "      border-color: transparent;\n",
              "      border-left-color: var(--fill-color);\n",
              "      border-top-color: var(--fill-color);\n",
              "      border-right-color: var(--fill-color);\n",
              "    }\n",
              "    40% {\n",
              "      border-color: transparent;\n",
              "      border-right-color: var(--fill-color);\n",
              "      border-top-color: var(--fill-color);\n",
              "    }\n",
              "    60% {\n",
              "      border-color: transparent;\n",
              "      border-right-color: var(--fill-color);\n",
              "    }\n",
              "    80% {\n",
              "      border-color: transparent;\n",
              "      border-right-color: var(--fill-color);\n",
              "      border-bottom-color: var(--fill-color);\n",
              "    }\n",
              "    90% {\n",
              "      border-color: transparent;\n",
              "      border-bottom-color: var(--fill-color);\n",
              "    }\n",
              "  }\n",
              "</style>\n",
              "\n",
              "  <script>\n",
              "    async function quickchart(key) {\n",
              "      const quickchartButtonEl =\n",
              "        document.querySelector('#' + key + ' button');\n",
              "      quickchartButtonEl.disabled = true;  // To prevent multiple clicks.\n",
              "      quickchartButtonEl.classList.add('colab-df-spinner');\n",
              "      try {\n",
              "        const charts = await google.colab.kernel.invokeFunction(\n",
              "            'suggestCharts', [key], {});\n",
              "      } catch (error) {\n",
              "        console.error('Error during call to suggestCharts:', error);\n",
              "      }\n",
              "      quickchartButtonEl.classList.remove('colab-df-spinner');\n",
              "      quickchartButtonEl.classList.add('colab-df-quickchart-complete');\n",
              "    }\n",
              "    (() => {\n",
              "      let quickchartButtonEl =\n",
              "        document.querySelector('#df-3f9c9eff-8830-4ad7-a880-2787f6e55f22 button');\n",
              "      quickchartButtonEl.style.display =\n",
              "        google.colab.kernel.accessAllowed ? 'block' : 'none';\n",
              "    })();\n",
              "  </script>\n",
              "</div>\n",
              "\n",
              "  <div id=\"id_c03a0f0d-ab99-4117-add1-0a7e307a03fd\">\n",
              "    <style>\n",
              "      .colab-df-generate {\n",
              "        background-color: #E8F0FE;\n",
              "        border: none;\n",
              "        border-radius: 50%;\n",
              "        cursor: pointer;\n",
              "        display: none;\n",
              "        fill: #1967D2;\n",
              "        height: 32px;\n",
              "        padding: 0 0 0 0;\n",
              "        width: 32px;\n",
              "      }\n",
              "\n",
              "      .colab-df-generate:hover {\n",
              "        background-color: #E2EBFA;\n",
              "        box-shadow: 0px 1px 2px rgba(60, 64, 67, 0.3), 0px 1px 3px 1px rgba(60, 64, 67, 0.15);\n",
              "        fill: #174EA6;\n",
              "      }\n",
              "\n",
              "      [theme=dark] .colab-df-generate {\n",
              "        background-color: #3B4455;\n",
              "        fill: #D2E3FC;\n",
              "      }\n",
              "\n",
              "      [theme=dark] .colab-df-generate:hover {\n",
              "        background-color: #434B5C;\n",
              "        box-shadow: 0px 1px 3px 1px rgba(0, 0, 0, 0.15);\n",
              "        filter: drop-shadow(0px 1px 2px rgba(0, 0, 0, 0.3));\n",
              "        fill: #FFFFFF;\n",
              "      }\n",
              "    </style>\n",
              "    <button class=\"colab-df-generate\" onclick=\"generateWithVariable('book_df')\"\n",
              "            title=\"Generate code using this dataframe.\"\n",
              "            style=\"display:none;\">\n",
              "\n",
              "  <svg xmlns=\"http://www.w3.org/2000/svg\" height=\"24px\"viewBox=\"0 0 24 24\"\n",
              "       width=\"24px\">\n",
              "    <path d=\"M7,19H8.4L18.45,9,17,7.55,7,17.6ZM5,21V16.75L18.45,3.32a2,2,0,0,1,2.83,0l1.4,1.43a1.91,1.91,0,0,1,.58,1.4,1.91,1.91,0,0,1-.58,1.4L9.25,21ZM18.45,9,17,7.55Zm-12,3A5.31,5.31,0,0,0,4.9,8.1,5.31,5.31,0,0,0,1,6.5,5.31,5.31,0,0,0,4.9,4.9,5.31,5.31,0,0,0,6.5,1,5.31,5.31,0,0,0,8.1,4.9,5.31,5.31,0,0,0,12,6.5,5.46,5.46,0,0,0,6.5,12Z\"/>\n",
              "  </svg>\n",
              "    </button>\n",
              "    <script>\n",
              "      (() => {\n",
              "      const buttonEl =\n",
              "        document.querySelector('#id_c03a0f0d-ab99-4117-add1-0a7e307a03fd button.colab-df-generate');\n",
              "      buttonEl.style.display =\n",
              "        google.colab.kernel.accessAllowed ? 'block' : 'none';\n",
              "\n",
              "      buttonEl.onclick = () => {\n",
              "        google.colab.notebook.generateWithVariable('book_df');\n",
              "      }\n",
              "      })();\n",
              "    </script>\n",
              "  </div>\n",
              "\n",
              "    </div>\n",
              "  </div>\n"
            ],
            "application/vnd.google.colaboratory.intrinsic+json": {
              "type": "dataframe",
              "variable_name": "book_df",
              "summary": "{\n  \"name\": \"book_df\",\n  \"rows\": 3106,\n  \"fields\": [\n    {\n      \"column\": \"sentence\",\n      \"properties\": {\n        \"dtype\": \"string\",\n        \"num_unique_values\": 2016,\n        \"samples\": [\n          \"Yet what can it , when one cannot repent ?\",\n          \"Enter Polonius , Voltumand , and Cornelius .\",\n          \"Hillo , ho , ho , boy ; come bird , come\"\n        ],\n        \"semantic_type\": \"\",\n        \"description\": \"\"\n      }\n    }\n  ]\n}"
            }
          },
          "metadata": {},
          "execution_count": 26
        }
      ]
    },
    {
      "cell_type": "code",
      "source": [
        "book_df[\"preds\"]=book_df[\"sentence\"].apply(lambda x : swn_polarity(x))\n",
        "#y_target = book_df[\"sentiment\"].values\n",
        "preds = book_df[\"preds\"].values"
      ],
      "metadata": {
        "id": "B2GMukzZzPYH"
      },
      "execution_count": 29,
      "outputs": []
    },
    {
      "cell_type": "code",
      "source": [
        "preds.mean()"
      ],
      "metadata": {
        "colab": {
          "base_uri": "https://localhost:8080/"
        },
        "id": "W9Eh0s5izxKY",
        "outputId": "27297f26-2291-452f-88a0-84f0c122736f"
      },
      "execution_count": 33,
      "outputs": [
        {
          "output_type": "execute_result",
          "data": {
            "text/plain": [
              "0.5811332904056664"
            ]
          },
          "metadata": {},
          "execution_count": 33
        }
      ]
    },
    {
      "cell_type": "code",
      "source": [
        "hamlet_sents = gutenberg.sents('shakespeare-hamlet.txt')\n",
        "sents_list = [\" \".join(sent) for sent in hamlet_sents]\n",
        "df = pd.DataFrame({'sents': sents_list})\n",
        "df[\"preds\"]=df[\"sents\"].apply(lambda x : swn_polarity(x))\n",
        "df.head(3)"
      ],
      "metadata": {
        "id": "9EY0PN85zxOI"
      },
      "execution_count": null,
      "outputs": []
    },
    {
      "cell_type": "markdown",
      "source": [
        "### (2) 문제 2: vader를 이용해 senti scores를 계산하세요."
      ],
      "metadata": {
        "id": "F6fES2kkrmP0"
      }
    },
    {
      "cell_type": "code",
      "source": [
        "nltk.download('vader_lexicon')\n",
        "from nltk.sentiment.vader import SentimentIntensityAnalyzer\n",
        "\n",
        "senti_analyzer= SentimentIntensityAnalyzer()\n",
        "senti_scores = senti_analyzer.polarity_scores(hamlet)"
      ],
      "metadata": {
        "id": "c3PlmC3lrneg",
        "colab": {
          "base_uri": "https://localhost:8080/"
        },
        "outputId": "64a83a40-b004-42b1-81b8-86aec99c86c5"
      },
      "execution_count": 19,
      "outputs": [
        {
          "output_type": "stream",
          "name": "stderr",
          "text": [
            "[nltk_data] Downloading package vader_lexicon to /root/nltk_data...\n"
          ]
        }
      ]
    },
    {
      "cell_type": "code",
      "source": [
        "senti_scores"
      ],
      "metadata": {
        "colab": {
          "base_uri": "https://localhost:8080/"
        },
        "id": "2L93rKMnwv6K",
        "outputId": "d0a0c802-b019-48ce-913a-ae2d50424341"
      },
      "execution_count": 20,
      "outputs": [
        {
          "output_type": "execute_result",
          "data": {
            "text/plain": [
              "{'neg': 0.074, 'neu': 0.808, 'pos': 0.117, 'compound': 1.0}"
            ]
          },
          "metadata": {},
          "execution_count": 20
        }
      ]
    },
    {
      "cell_type": "markdown",
      "source": [
        "# 2. 조원들과 만든 문제와 답을 공유해보세요."
      ],
      "metadata": {
        "id": "2EvgMg6VsMz0"
      }
    },
    {
      "cell_type": "code",
      "source": [],
      "metadata": {
        "id": "a_l-4BAwsPlL"
      },
      "execution_count": null,
      "outputs": []
    }
  ]
}