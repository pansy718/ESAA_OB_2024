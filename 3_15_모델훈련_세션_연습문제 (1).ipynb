{
  "nbformat": 4,
  "nbformat_minor": 0,
  "metadata": {
    "colab": {
      "provenance": []
    },
    "kernelspec": {
      "name": "python3",
      "display_name": "Python 3"
    },
    "language_info": {
      "name": "python"
    }
  },
  "cells": [
    {
      "cell_type": "markdown",
      "source": [
        "## **| 모델 훈련 연습 문제**\n",
        "___\n",
        "- 출처 : 핸즈온 머신러닝 Ch04 연습문제 1, 5, 9, 10\n",
        "- 개념 문제의 경우 텍스트 셀을 추가하여 정답을 적어주세요."
      ],
      "metadata": {
        "id": "zCu72vDHGMHo"
      }
    },
    {
      "cell_type": "markdown",
      "source": [
        "### **1. 수백만 개의 특성을 가진 훈련 세트에서는 어떤 선형 회귀 알고리즘을 사용할 수 있을까요?**\n",
        "___\n"
      ],
      "metadata": {
        "id": "j3g-_Dq9GiuT"
      }
    },
    {
      "cell_type": "markdown",
      "source": [
        "확률적 경사 하강법, 미니배치 경사 하강법 사용. 정규방정식, SVD 사용하지 않음."
      ],
      "metadata": {
        "id": "TbHf3UydX08O"
      }
    },
    {
      "cell_type": "markdown",
      "source": [
        "### **2. 배치 경사 하강법을 사용하고 에포크마다 검증 오차를 그래프로 나타내봤습니다. 검증 오차가 일정하게 상승되고 있다면 어떤 일이 일어나고 있는 걸까요? 이 문제를 어떻게 해결할 수 있나요?**\n",
        "___"
      ],
      "metadata": {
        "id": "-pDjW5XcHPOt"
      }
    },
    {
      "cell_type": "markdown",
      "source": [
        "학습률이 너무 높아 비용 함수 발산. 학습률을 낮추어야 한다. 그래도 검증 오차가 상승한다면 train set에 과대적합이 되어 있으므로 훈련을 중단."
      ],
      "metadata": {
        "id": "KtUFzAAae7Pq"
      }
    },
    {
      "cell_type": "markdown",
      "source": [
        "### **3. 릿지 회귀를 사용했을 때 훈련 오차가 검증 오차가 거의 비슷하고 둘 다 높았습니다. 이 모델에는 높은 편향이 문제인가요, 아니면 높은 분산이 문제인가요? 규제 하이퍼파라미터 $\\alpha$를 증가시켜야 할까요 아니면 줄여야 할까요?**\n",
        "___"
      ],
      "metadata": {
        "id": "nM7JbsLoy7b7"
      }
    },
    {
      "cell_type": "markdown",
      "source": [
        "훈련 오차가 검증 오차와 거의 비슷하면 아직 학습이 덜 된 것으로 높은 편향이 문제이다. 따라서 알파를 감소시킨다."
      ],
      "metadata": {
        "id": "843spEjefOHO"
      }
    },
    {
      "cell_type": "markdown",
      "source": [
        "### **4. 다음과 같이 사용해야 하는 이유는?**\n",
        "___\n",
        "- 평범한 선형 회귀(즉, 아무런 규제가 없는 모델) 대신 릿지 회귀\n",
        "- 릿지 회귀 대신 라쏘 회귀\n",
        "- 라쏘 회귀 대신 엘라스틱넷"
      ],
      "metadata": {
        "id": "C8tARu-ZzOGx"
      }
    },
    {
      "cell_type": "markdown",
      "source": [
        "- 1. 규제 있는 모델이 없는 모델보다 성능이 좋아서\n",
        "- 2. 일부 특성만 사용하고 싶을 때 사용\n",
        "- 3. 라쏘는 불규칙하게 행동하므로 단점을 보완하는 엘라스틱넷 사용."
      ],
      "metadata": {
        "id": "LhCU8ROTfeDi"
      }
    },
    {
      "cell_type": "markdown",
      "source": [
        "### **추가) 조기 종료를 사용한 배치 경사 하강법으로 iris 데이터를 활용해 소프트맥스 회귀를 구현해보세요(사이킷런은 사용하지 마세요)**\n",
        "\n",
        "\n",
        "---\n",
        "\n"
      ],
      "metadata": {
        "id": "QIZpOEYJVIAV"
      }
    },
    {
      "cell_type": "code",
      "source": [
        "import numpy as np\n",
        "import pandas as pd\n",
        "import matplotlib.pyplot as plt"
      ],
      "metadata": {
        "id": "8pXDQ_fU8Nz0"
      },
      "execution_count": 72,
      "outputs": []
    },
    {
      "cell_type": "code",
      "source": [
        "from sklearn.datasets import load_iris\n",
        "iris = load_iris()"
      ],
      "metadata": {
        "id": "VOjobgeKgX1C"
      },
      "execution_count": 73,
      "outputs": []
    },
    {
      "cell_type": "code",
      "source": [
        "X = iris[\"data\"][:, (2,3)] # 꽃잎 길이, 너비\n",
        "y = iris[\"target\"]"
      ],
      "metadata": {
        "id": "h9Qzs3HGgbP8"
      },
      "execution_count": 74,
      "outputs": []
    },
    {
      "cell_type": "code",
      "source": [
        "X_b = np.c_[np.ones([len(X),1]),X] # 편도 함수에 적용하기 위해 추가"
      ],
      "metadata": {
        "id": "f73a005XinAZ"
      },
      "execution_count": 75,
      "outputs": []
    },
    {
      "cell_type": "code",
      "source": [
        "from sklearn.model_selection import train_test_split\n",
        "\n",
        "X_train, X_test, y_train, y_test = train_test_split(X_b,y, test_size=0.2, random_state=42)"
      ],
      "metadata": {
        "id": "y23kfG-xg0pb"
      },
      "execution_count": 76,
      "outputs": []
    },
    {
      "cell_type": "code",
      "source": [
        "from sklearn.preprocessing import OneHotEncoder\n",
        "encoder = OneHotEncoder(categories='auto')\n",
        "y_train_onehot = encoder.fit_transform(y_train.reshape(-1,1)).toarray()\n",
        "y_test_onehot = encoder.fit_transform(y_test.reshape(-1,1)).toarray()"
      ],
      "metadata": {
        "id": "NTdy_DrjmiK2"
      },
      "execution_count": 77,
      "outputs": []
    },
    {
      "cell_type": "code",
      "source": [
        "theta = np.random.randn(3,3)\n",
        "print(theta)"
      ],
      "metadata": {
        "colab": {
          "base_uri": "https://localhost:8080/"
        },
        "id": "-xF7Q5V3kMna",
        "outputId": "fe9c69c1-81c0-42b9-8990-2f251c6164b3"
      },
      "execution_count": 78,
      "outputs": [
        {
          "output_type": "stream",
          "name": "stdout",
          "text": [
            "[[ 1.24815464 -1.54203065 -0.68594895]\n",
            " [ 1.44615057 -0.51508722  0.53565408]\n",
            " [-1.8659621  -0.49776062 -1.3493819 ]]\n"
          ]
        }
      ]
    },
    {
      "cell_type": "code",
      "source": [
        "s_x = X_b @ theta\n",
        "print(s_x.shape)"
      ],
      "metadata": {
        "colab": {
          "base_uri": "https://localhost:8080/"
        },
        "id": "fGprECJTjcK9",
        "outputId": "210e5b0f-9f99-4d92-8af1-cfb6cd67ce8a"
      },
      "execution_count": 79,
      "outputs": [
        {
          "output_type": "stream",
          "name": "stdout",
          "text": [
            "(150, 3)\n"
          ]
        }
      ]
    },
    {
      "cell_type": "code",
      "source": [
        "def softmax(z):\n",
        "    exps = np.exp(z)\n",
        "    exp_sums = np.sum(exps, axis=1, keepdims=True)\n",
        "    return exps/exp_sums"
      ],
      "metadata": {
        "id": "BGlkzAapiXqQ"
      },
      "execution_count": 80,
      "outputs": []
    },
    {
      "cell_type": "code",
      "source": [
        "n_inputs = X_train.shape[1]\n",
        "n_inputs"
      ],
      "metadata": {
        "colab": {
          "base_uri": "https://localhost:8080/"
        },
        "id": "zNMhCc50o4fS",
        "outputId": "5e157bdc-f431-4ac3-b48a-b4d37c0bd823"
      },
      "execution_count": 81,
      "outputs": [
        {
          "output_type": "execute_result",
          "data": {
            "text/plain": [
              "3"
            ]
          },
          "metadata": {},
          "execution_count": 81
        }
      ]
    },
    {
      "cell_type": "code",
      "source": [
        "n_outputs = len(np.unique(y_train))\n",
        "n_outputs"
      ],
      "metadata": {
        "colab": {
          "base_uri": "https://localhost:8080/"
        },
        "id": "zLjn7Fpro7wo",
        "outputId": "6a5fd501-a939-4296-db9b-add9a9600651"
      },
      "execution_count": 82,
      "outputs": [
        {
          "output_type": "execute_result",
          "data": {
            "text/plain": [
              "3"
            ]
          },
          "metadata": {},
          "execution_count": 82
        }
      ]
    },
    {
      "cell_type": "code",
      "source": [
        "np.unique(y_train)"
      ],
      "metadata": {
        "colab": {
          "base_uri": "https://localhost:8080/"
        },
        "id": "LnEJ3bNyo_r9",
        "outputId": "b2b57504-7099-4cde-e655-f963badce3e2"
      },
      "execution_count": 83,
      "outputs": [
        {
          "output_type": "execute_result",
          "data": {
            "text/plain": [
              "array([0, 1, 2])"
            ]
          },
          "metadata": {},
          "execution_count": 83
        }
      ]
    },
    {
      "cell_type": "code",
      "source": [
        "eta = 0.1\n",
        "n_epochs=100\n",
        "m=len(X_train)\n",
        "epsilon = 1e-7"
      ],
      "metadata": {
        "id": "YcFiBhuzrm4r"
      },
      "execution_count": 84,
      "outputs": []
    },
    {
      "cell_type": "code",
      "source": [
        "history=[]\n",
        "for epoch in range(n_epochs):\n",
        "  p_k = softmax(X_train)\n",
        "  loss = -np.mean(np.sum(y_train_onehot*np.log(p_k+epsilon), axis=1))\n",
        "  error = p_k - y_train_onehot\n",
        "  gradients = 1/m * (X_train.T.dot(error))\n",
        "  theta = theta - eta*gradients\n",
        "  history.append(loss)\n",
        "plt.plot(history)"
      ],
      "metadata": {
        "colab": {
          "base_uri": "https://localhost:8080/",
          "height": 449
        },
        "id": "E0AqRC-IpMPl",
        "outputId": "14707fd0-bf2b-46d8-ad18-44a94fe0c151"
      },
      "execution_count": 87,
      "outputs": [
        {
          "output_type": "execute_result",
          "data": {
            "text/plain": [
              "[<matplotlib.lines.Line2D at 0x7f9ec79b57b0>]"
            ]
          },
          "metadata": {},
          "execution_count": 87
        },
        {
          "output_type": "display_data",
          "data": {
            "text/plain": [
              "<Figure size 640x480 with 1 Axes>"
            ],
            "image/png": "[encoded data removed]"
          },
          "metadata": {}
        }
      ]
    },
    {
      "cell_type": "code",
      "source": [
        "theta"
      ],
      "metadata": {
        "colab": {
          "base_uri": "https://localhost:8080/"
        },
        "id": "cAjQ5Iosz-Bw",
        "outputId": "1711b537-f6e2-46ab-c448-2d5cac61ae6f"
      },
      "execution_count": 89,
      "outputs": [
        {
          "output_type": "execute_result",
          "data": {
            "text/plain": [
              "array([[  3.31093347,  -6.06076602,   1.7700076 ],\n",
              "       [  3.96584339, -18.96796087,  16.46883491],\n",
              "       [ -1.55458954,  -6.74628441,   4.58776933]])"
            ]
          },
          "metadata": {},
          "execution_count": 89
        }
      ]
    },
    {
      "cell_type": "code",
      "source": [],
      "metadata": {
        "id": "ioiBhvYD1ieH"
      },
      "execution_count": null,
      "outputs": []
    }
  ]
}